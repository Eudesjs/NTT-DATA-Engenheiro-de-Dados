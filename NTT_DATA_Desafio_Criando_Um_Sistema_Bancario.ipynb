{
  "nbformat": 4,
  "nbformat_minor": 0,
  "metadata": {
    "colab": {
      "provenance": [],
      "authorship_tag": "ABX9TyMfZJXSsyxLPpAoZXtmtvC3",
      "include_colab_link": true
    },
    "kernelspec": {
      "name": "python3",
      "display_name": "Python 3"
    },
    "language_info": {
      "name": "python"
    }
  },
  "cells": [
    {
      "cell_type": "markdown",
      "metadata": {
        "id": "view-in-github",
        "colab_type": "text"
      },
      "source": [
        "<a href=\"https://colab.research.google.com/github/Eudesjs/NTT-DATA-Engenheiro-de-Dados/blob/main/NTT_DATA_Desafio_Criando_Um_Sistema_Bancario.ipynb\" target=\"_parent\"><img src=\"https://colab.research.google.com/assets/colab-badge.svg\" alt=\"Open In Colab\"/></a>"
      ]
    },
    {
      "cell_type": "markdown",
      "source": [
        "# Separar as funções existentes de saque, deposito e extrato em funções. criar duas novas funções: cadastrar usuário (Cliente) e cadastrar conta bancaria."
      ],
      "metadata": {
        "id": "-dJc0DMEYv9n"
      }
    },
    {
      "cell_type": "code",
      "execution_count": 1,
      "metadata": {
        "id": "Rl0TMYp0YhI8"
      },
      "outputs": [],
      "source": [
        "# Função Menu():\n",
        "\n",
        "import textwrap\n",
        "\n",
        "def menu():\n",
        "  menu = \"\"\"\\n\n",
        "  ================ MENU ================\n",
        "  [d]\\tDepositar\n",
        "  [s]\\tSacar\n",
        "  [e]\\tExtrato\n",
        "  [nc]\\tNova Conta\n",
        "  [lc]\\tListar Conta\n",
        "  [nu]\\tNovo Usuario\n",
        "  [q]\\tSair\n",
        "  => \"\"\"\n",
        "  return input(textwrap.dedent(menu))\n",
        "\n"
      ]
    },
    {
      "cell_type": "code",
      "source": [
        "# Função Depositar ():\n",
        "\n",
        "def depositar(saldo, valor, extrato, /):\n",
        "  if valor > 0:\n",
        "    saldo += valor\n",
        "    extrato += f\"Deposito:\\tR$ {valor:.2f}\\n\"\n",
        "    print(\"\\n=== Depósito realizado com sucesso! ===\")\n",
        "  else:\n",
        "    print(\"\\n@@@ Operação falhou! O valor informado é inválido. @@@\")\n",
        "  return saldo, extrato\n",
        ""
      ],
      "metadata": {
        "id": "ZlATqkESb8CH"
      },
      "execution_count": 2,
      "outputs": []
    },
    {
      "cell_type": "code",
      "source": [
        "# Função Sacar():\n",
        "\n",
        "def sacar(*, saldo, valor, extrato, limite, numero_saques, limite_saques):\n",
        "  excedeu_saldo = valor > saldo\n",
        "  excedeu_limite = valor > limite\n",
        "  excedeu_saques = numero_saques >= limite_saques\n",
        "\n",
        "  if excedeu_saldo:\n",
        "    print(\"\\n@@@ Operação falhou! Você não tem saldo suficiente. @@@\")\n",
        "  elif excedeu_limite:\n",
        "    print(\"\\n@@@ Operação falhou! O valor do saque excede o limite. @@@\")\n",
        "  elif excedeu_saques:\n",
        "    print(\"\\n@@@ Operação falhou! Número máximo de saques excedido. @@@\")\n",
        "  elif valor > 0:\n",
        "    saldo -= valor\n",
        "    extrato += f\"Saque:\\t\\tR$ {valor:.2f}\\n\"\n",
        "    numero_saques += 1\n",
        "    print(\"\\n@@@ === Saque realizado com sucesso === @@@\")\n",
        "  else:\n",
        "    print(\"\\n=== Operação falhou! O valor informado é inválido. ===\")\n",
        "  return saldo, extrato"
      ],
      "metadata": {
        "id": "HiGxyQ2FcuEO"
      },
      "execution_count": 3,
      "outputs": []
    },
    {
      "cell_type": "code",
      "source": [
        "# Função Exibir Extrato ():\n",
        "\n",
        "def exibir_extrato(saldo, /, *, extrato):\n",
        "  print(\"\\n================ EXTRATO ================\")\n",
        "  print(\"Não foram realizadas movimentações.\" if not extrato else extrato)\n",
        "  print(f\"\\nSaldo:\\t\\tR$ {saldo:.2f}\")\n",
        "  print(\"==========================================\")"
      ],
      "metadata": {
        "id": "4dJ00yDbhgxR"
      },
      "execution_count": 4,
      "outputs": []
    },
    {
      "cell_type": "code",
      "source": [
        "# Função Criar Usuário():\n",
        "\n",
        "def criar_usuario(usuarios):\n",
        "  cpf = input(\"Informe o CPF (somente número): \")\n",
        "  usuario = filtrar_usuario(cpf, usuarios)\n",
        "  if usuario:\n",
        "    print(\"\\n@@@ Já existe usuário com esse CPF! @@@\")\n",
        "    return\n",
        "  nome = input(\"Informe o nome completo: \")\n",
        "  data_nascimento = input(\"Informe a data de nascimento (dd-mm-aaaa): \")\n",
        "  endereco = input(\"Informe o endereço (logradouro, nro - bairro - cidade/sigla estado): \")\n",
        "  usuarios.append({\"nome\": nome, \"data_nascimento\": data_nascimento, \"cpf\": cpf, \"endereco\": endereco})\n",
        "  print(\"=== Usuário criado com sucesso! ===\")\n",
        ""
      ],
      "metadata": {
        "id": "hA649PaVjC6t"
      },
      "execution_count": 5,
      "outputs": []
    },
    {
      "cell_type": "code",
      "source": [
        "# Função Filtrar Usuário():\n",
        "\n",
        "def filtrar_usuario(cpf, usuarios):\n",
        "  usuarios_filtrados = [usuario for usuario in usuarios if usuario[\"cpf\"] == cpf]\n",
        "  return usuarios_filtrados[0] if usuarios_filtrados else None"
      ],
      "metadata": {
        "id": "w7gggcICj-uy"
      },
      "execution_count": 6,
      "outputs": []
    },
    {
      "cell_type": "code",
      "source": [
        "# Função Criar Conta():\n",
        "\n",
        "def criar_conta(agencia, numero_conta, usuarios):\n",
        "  cpf = input(\"Informe o CPF do usuário: \")\n",
        "  usuario = filtrar_usuario(cpf, usuarios)\n",
        "  if usuario:\n",
        "    print(\"\\n=== Conta criada com sucesso! ===\")\n",
        "    return {\"agencia\": agencia, \"numero_conta\": numero_conta, \"usuario\": usuario}\n",
        "    print(\"\\n@@@ Usuário não encontrado, fluxo de criação de conta encerrado! @@@\")\n",
        ""
      ],
      "metadata": {
        "id": "dm7AiJATlL7e"
      },
      "execution_count": 10,
      "outputs": []
    },
    {
      "cell_type": "code",
      "source": [
        "# Função Listar Conta():\n",
        "\n",
        "def listar_contas(contas):\n",
        "  for conta in contas:\n",
        "    linha = f\"\"\"\\\n",
        "      Agência:\\t{conta['agencia']}\n",
        "      C/C:\\t\\t{conta['numero_conta']}\n",
        "      Titular:\\t{conta['usuario']['nome']}\n",
        "    \"\"\"\n",
        "    print(\"=\" * 100)\n",
        "    print(textwrap.dedent(linha))\n",
        ""
      ],
      "metadata": {
        "id": "qWKJtAi6la0a"
      },
      "execution_count": 8,
      "outputs": []
    },
    {
      "cell_type": "code",
      "source": [
        "# Função main():\n",
        "\n",
        "def main():\n",
        "  LIMITE_SAQUES = 3\n",
        "  AGENCIA = \"0001\"\n",
        "  saldo = 0\n",
        "  limite = 500\n",
        "  extrato = \"\"\n",
        "  numero_saques = 0\n",
        "  usuarios = []\n",
        "  contas = []\n",
        "  while True:\n",
        "    opcao = menu()\n",
        "    if opcao == \"d\":\n",
        "      valor = float(input(\"Informe o valor do depósito: \"))\n",
        "      saldo, extrato = depositar(saldo, valor, extrato)\n",
        "    elif opcao == \"s\":\n",
        "      valor = float(input(\"Informe o valor do saque: \"))\n",
        "      saldo, extrato = sacar(\n",
        "        saldo=saldo,\n",
        "        valor=valor,\n",
        "        extrato=extrato,\n",
        "        limite=limite,\n",
        "        numero_saques=numero_saques,\n",
        "        limite_saques=LIMITE_SAQUES,\n",
        "      )\n",
        "\n",
        "    elif opcao == \"e\":\n",
        "      exibir_extrato(saldo, extrato=extrato)\n",
        "\n",
        "    elif opcao == \"nu\":\n",
        "      criar_usuario(usuarios)\n",
        "\n",
        "    elif opcao == \"nc\":\n",
        "      numero_conta = len(contas) + 1\n",
        "      conta = criar_conta(AGENCIA, numero_conta, usuarios)\n",
        "      if conta:\n",
        "        contas.append(conta)\n",
        "\n",
        "    elif opcao == \"lc\":\n",
        "      listar_contas(contas)\n",
        "\n",
        "    elif opcao == \"q\":\n",
        "      break\n",
        "    else:\n",
        "      print(\"Operação inválida, por favor selecione novamente a operação desejada.\")\n",
        "\n",
        "main()\n"
      ],
      "metadata": {
        "colab": {
          "base_uri": "https://localhost:8080/"
        },
        "id": "wLkMOPA_oWKy",
        "outputId": "109b7da2-d4d1-44e0-8c48-1ca1b7600716"
      },
      "execution_count": 11,
      "outputs": [
        {
          "name": "stdout",
          "output_type": "stream",
          "text": [
            "\n",
            "\n",
            "================ MENU ================\n",
            "[d]\tDepositar\n",
            "[s]\tSacar\n",
            "[e]\tExtrato\n",
            "[nc]\tNova Conta\n",
            "[lc]\tListar Conta\n",
            "[nu]\tNovo Usuario\n",
            "[q]\tSair\n",
            "=> nc\n",
            "Informe o CPF do usuário: 04378132400\n",
            "\n",
            "\n",
            "================ MENU ================\n",
            "[d]\tDepositar\n",
            "[s]\tSacar\n",
            "[e]\tExtrato\n",
            "[nc]\tNova Conta\n",
            "[lc]\tListar Conta\n",
            "[nu]\tNovo Usuario\n",
            "[q]\tSair\n",
            "=> nc\n",
            "Informe o CPF do usuário: 111\n",
            "\n",
            "\n",
            "================ MENU ================\n",
            "[d]\tDepositar\n",
            "[s]\tSacar\n",
            "[e]\tExtrato\n",
            "[nc]\tNova Conta\n",
            "[lc]\tListar Conta\n",
            "[nu]\tNovo Usuario\n",
            "[q]\tSair\n",
            "=> lc\n",
            "\n",
            "\n",
            "================ MENU ================\n",
            "[d]\tDepositar\n",
            "[s]\tSacar\n",
            "[e]\tExtrato\n",
            "[nc]\tNova Conta\n",
            "[lc]\tListar Conta\n",
            "[nu]\tNovo Usuario\n",
            "[q]\tSair\n",
            "=> nu\n",
            "Informe o CPF (somente número): 04378132400\n",
            "Informe o nome completo: eudes\n",
            "Informe a data de nascimento (dd-mm-aaaa): 30-03-1982\n",
            "Informe o endereço (logradouro, nro - bairro - cidade/sigla estado): olinda\n",
            "=== Usuário criado com sucesso! ===\n",
            "\n",
            "\n",
            "================ MENU ================\n",
            "[d]\tDepositar\n",
            "[s]\tSacar\n",
            "[e]\tExtrato\n",
            "[nc]\tNova Conta\n",
            "[lc]\tListar Conta\n",
            "[nu]\tNovo Usuario\n",
            "[q]\tSair\n",
            "=> nc\n",
            "Informe o CPF do usuário: 04378132400\n",
            "\n",
            "=== Conta criada com sucesso! ===\n",
            "\n",
            "\n",
            "================ MENU ================\n",
            "[d]\tDepositar\n",
            "[s]\tSacar\n",
            "[e]\tExtrato\n",
            "[nc]\tNova Conta\n",
            "[lc]\tListar Conta\n",
            "[nu]\tNovo Usuario\n",
            "[q]\tSair\n",
            "=> lc\n",
            "====================================================================================================\n",
            "Agência:\t0001\n",
            "C/C:\t\t1\n",
            "Titular:\teudes\n",
            "\n",
            "\n",
            "\n",
            "================ MENU ================\n",
            "[d]\tDepositar\n",
            "[s]\tSacar\n",
            "[e]\tExtrato\n",
            "[nc]\tNova Conta\n",
            "[lc]\tListar Conta\n",
            "[nu]\tNovo Usuario\n",
            "[q]\tSair\n",
            "=> q\n"
          ]
        }
      ]
    }
  ]
}