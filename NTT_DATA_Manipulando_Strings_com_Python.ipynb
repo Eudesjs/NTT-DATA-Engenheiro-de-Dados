{
  "nbformat": 4,
  "nbformat_minor": 0,
  "metadata": {
    "colab": {
      "provenance": [],
      "authorship_tag": "ABX9TyMvtQN+MSC/n27qvmkMdu0n",
      "include_colab_link": true
    },
    "kernelspec": {
      "name": "python3",
      "display_name": "Python 3"
    },
    "language_info": {
      "name": "python"
    }
  },
  "cells": [
    {
      "cell_type": "markdown",
      "metadata": {
        "id": "view-in-github",
        "colab_type": "text"
      },
      "source": [
        "<a href=\"https://colab.research.google.com/github/Eudesjs/NTT-DATA-Engenheiro-de-Dados/blob/main/NTT_DATA_Manipulando_Strings_com_Python.ipynb\" target=\"_parent\"><img src=\"https://colab.research.google.com/assets/colab-badge.svg\" alt=\"Open In Colab\"/></a>"
      ]
    },
    {
      "cell_type": "markdown",
      "source": [
        "# ***1 - Conhecendo Métodos Úteis da Classe String***\n",
        "Em Python, a classe `str` possui vários métodos úteis para manipulação de strings. Aqui estão alguns dos principais:\n",
        "\n",
        "1. **len()**: Retorna o comprimento da string.\n",
        "   ```python\n",
        "   s = \"Olá\"\n",
        "   comprimento = len(s)  # 3\n",
        "   ```\n",
        "\n",
        "2. **s[index]**: Acessa o caractere na posição especificada.\n",
        "   ```python\n",
        "   primeiro_caractere = s[0]  # 'O'\n",
        "   ```\n",
        "\n",
        "3. **s[start:end]**: Retorna uma parte da string entre os índices especificados.\n",
        "   ```python\n",
        "   substring = s[1:3]  # 'lá'\n",
        "   ```\n",
        "\n",
        "4. **s.lower()**: Converte todos os caracteres da string para minúsculas.\n",
        "   ```python\n",
        "   minuscula = s.lower()  # 'olá'\n",
        "   ```\n",
        "\n",
        "5. **s.upper()**: Converte todos os caracteres da string para maiúsculas.\n",
        "   ```python\n",
        "   maiuscula = s.upper()  # 'OLÁ'\n",
        "   ```\n",
        "\n",
        "6. **s.strip()**: Remove espaços em branco do início e do fim da string.\n",
        "   ```python\n",
        "   s_com_espacos = \"  Olá  \"\n",
        "   s_limpa = s_com_espacos.strip()  # 'Olá'\n",
        "   ```\n",
        "\n",
        "7. **s.replace(old, new)**: Substitui todas as ocorrências de uma substring por outra.\n",
        "   ```python\n",
        "   nova_string = s.replace(\"Olá\", \"Oi\")  # 'Oi'\n",
        "   ```\n",
        "\n",
        "8. **s.split(delimiter)**: Divide a string em uma lista de substrings com base em um delimitador.\n",
        "   ```python\n",
        "   s = \"Olá, mundo\"\n",
        "   partes = s.split(\", \")  # ['Olá', 'mundo']\n",
        "   ```\n",
        "\n",
        "Esses métodos são essenciais para trabalhar com strings em Python de maneira eficaz.\n"
      ],
      "metadata": {
        "id": "iEqIL5kgXdMW"
      }
    },
    {
      "cell_type": "code",
      "execution_count": 1,
      "metadata": {
        "colab": {
          "base_uri": "https://localhost:8080/"
        },
        "id": "DTC1PxRxWfgV",
        "outputId": "7aa51770-5141-4aba-d534-aeb76c2d0a1a"
      },
      "outputs": [
        {
          "output_type": "stream",
          "name": "stdout",
          "text": [
            "python\n",
            "PYTHON\n",
            "Python\n"
          ]
        }
      ],
      "source": [
        "# Exemplo 1\n",
        "\n",
        "curso = \"PyThON\"\n",
        "\n",
        "print(curso.lower()) # Metodo lower() coloca as letras minuscula\n",
        "print(curso.upper()) # Metodo upper() coloca as letras maiuscula\n",
        "print(curso.title()) # Metodo title() coloca a primeira letra maiuscula"
      ]
    },
    {
      "cell_type": "code",
      "source": [
        "# Exemplo 2\n",
        "\n",
        "curso = \"  Python  \"\n",
        "\n",
        "print(curso.strip()) # Metodo strip() remove os espaços inuteis\n",
        "print(curso.rstrip()) # Metodo rstrip() remove os espaços da direita\n",
        "print(curso.lstrip()) # Metodo lstrip() remove os espaços da esquerda\n"
      ],
      "metadata": {
        "colab": {
          "base_uri": "https://localhost:8080/"
        },
        "id": "y8nMeyHnZHmT",
        "outputId": "826c8266-16ff-49cc-cc27-6c6d57105e04"
      },
      "execution_count": 2,
      "outputs": [
        {
          "output_type": "stream",
          "name": "stdout",
          "text": [
            "Python\n",
            "  Python\n",
            "Python  \n"
          ]
        }
      ]
    },
    {
      "cell_type": "code",
      "source": [
        "# Exemplo 3\n",
        "\n",
        "curso = \"Python\"\n",
        "\n",
        "print(curso.center(10, \"#\")) # Metodo center() centraliza a string\n",
        "print(curso.zfill(10)) # Metodo zfill() preenche com zeros a esquerda\n",
        "print(curso.ljust(10, \"#\")) # Metodo ljust() alinha a string a esquerda\n",
        "print(curso.rjust(10, \"#\")) # Metodo rjust() alinha a string a direita\n",
        "print(\"-\".join(curso)) # Metodo join() junta os caracteres\n"
      ],
      "metadata": {
        "colab": {
          "base_uri": "https://localhost:8080/"
        },
        "id": "RdqaFjtcZm0D",
        "outputId": "2b18278d-7f63-4cc1-b018-1c290fb6bcbd"
      },
      "execution_count": 5,
      "outputs": [
        {
          "output_type": "stream",
          "name": "stdout",
          "text": [
            "##Python##\n",
            "0000Python\n",
            "Python####\n",
            "####Python\n",
            "P-y-t-h-o-n\n"
          ]
        }
      ]
    },
    {
      "cell_type": "code",
      "source": [
        "# Exemplo 4\n",
        "\n",
        "curso = \"Python\"\n",
        "\n",
        "print(curso.startswith(\"Py\")) # Metodo startswith() verifica se a string começa com a substring especificada\n",
        "print(curso.endswith(\"on\")) # Metodo endswith() verifica se a string termina com a substring especificada\n",
        "print(curso.find(\"on\")) # Metodo find() retorna a posição da substring na string\n",
        "print(curso.index(\"on\")) # Metodo index() retorna a posição da substring na string\n",
        "print(curso.count(\"on\")) # Metodo count() retorna a quantidade de vezes que a substring aparece na string\n",
        "print(curso.replace(\"on\", \"ON\")) # Metodo replace() substitui uma substring por outra\n",
        "print(curso.split(\"on\")) # Metodo split() divide a string em uma lista de substrings\n"
      ],
      "metadata": {
        "colab": {
          "base_uri": "https://localhost:8080/"
        },
        "id": "CHOht_soarJy",
        "outputId": "457630de-1d3a-4b76-d1d8-39ba34138c45"
      },
      "execution_count": 6,
      "outputs": [
        {
          "output_type": "stream",
          "name": "stdout",
          "text": [
            "True\n",
            "True\n",
            "4\n",
            "4\n",
            "1\n",
            "PythON\n",
            "['Pyth', '']\n"
          ]
        }
      ]
    },
    {
      "cell_type": "markdown",
      "source": [
        "# ***2 - Interpolação com Variáveis***\n",
        "A interpolação com variáveis é uma técnica que permite inserir o valor de variáveis dentro de strings de forma dinâmica. Em Python, existem várias maneiras de realizar a interpolação:\n",
        "\n",
        "1. **Concatenação**: Usando o operador `+` para juntar strings e variáveis.\n",
        "   ```python\n",
        "   nome = \"Maria\"\n",
        "   saudacao = \"Olá, \" + nome + \"!\"  # 'Olá, Maria!'\n",
        "   ```\n",
        "\n",
        "2. **Método format()**: Usando o método `format()` para inserir variáveis em uma string.\n",
        "   ```python\n",
        "   nome = \"Maria\"\n",
        "   saudacao = \"Olá, {}!\".format(nome)  # 'Olá, Maria!'\n",
        "   ```\n",
        "\n",
        "3. **f-strings**: A partir do Python 3.6, é possível usar f-strings, que são uma forma mais concisa e legível de interpolação.\n",
        "   ```python\n",
        "   nome = \"Maria\"\n",
        "   saudacao = f\"Olá, {nome}!\"  # 'Olá, Maria!'\n",
        "   ```\n",
        "\n",
        "Essas técnicas permitem criar strings dinâmicas e personalizadas, facilitando a construção de mensagens e textos que incluem variáveis.\n"
      ],
      "metadata": {
        "id": "V2j-o0MRajZU"
      }
    },
    {
      "cell_type": "code",
      "source": [
        "# Exemplo Metodo Old style (%)\n",
        "\n",
        "nome = \"Eudes\"\n",
        "idade = 42\n",
        "profissao = \"Analista de Dados\"\n",
        "linguagem = \"Python\"\n",
        "\n",
        "print(\"Olá, me chamo %s. Eu tenho %d anos de idade, trabalho como %s e estou matriculado no curso de %s.\"\n",
        "% (nome, idade, profissao, linguagem)) # %s (String), %d (Inteiro) e %f (Float)\n",
        "\n"
      ],
      "metadata": {
        "colab": {
          "base_uri": "https://localhost:8080/"
        },
        "id": "F3EhbtiTbefV",
        "outputId": "deaebcc0-cf15-4313-f9d8-a283acc5d2ca"
      },
      "execution_count": 8,
      "outputs": [
        {
          "output_type": "stream",
          "name": "stdout",
          "text": [
            "Olá, me chamo Eudes. Eu tenho 42 anos de idade, trabalho como Analista de Dados e estou matriculado no curso de Python.\n"
          ]
        }
      ]
    },
    {
      "cell_type": "code",
      "source": [
        "# Exemplo Metodo Format\n",
        "\n",
        "nome = \"Eudes\"\n",
        "idade = 42\n",
        "profissao = \"Analista de Dados\"\n",
        "linguagem = \"Python\"\n",
        "\n",
        "print(\"Olá, me chamo {}. Eu tenho {} anos de idade, trabalho como {} e estou matriculado no curso de {}.\"\n",
        ".format(nome, idade, profissao, linguagem)) # {} (String), {} (Inteiro) e {} (Float)\n",
        "\n",
        "print(\"Olá, me chamo {0}. Eu tenho {1} anos de idade, trabalho como {2} e estou matriculado no curso de {3}.\"\n",
        ".format(nome, idade, profissao, linguagem)) # entre as chaves colocar a posição das variaveis.\n"
      ],
      "metadata": {
        "colab": {
          "base_uri": "https://localhost:8080/"
        },
        "id": "PJJPvueXopg1",
        "outputId": "f7a8fc93-369d-4112-88ef-06d7b0fed28b"
      },
      "execution_count": 10,
      "outputs": [
        {
          "output_type": "stream",
          "name": "stdout",
          "text": [
            "Olá, me chamo Eudes. Eu tenho 42 anos de idade, trabalho como Analista de Dados e estou matriculado no curso de Python.\n",
            "Olá, me chamo Eudes. Eu tenho 42 anos de idade, trabalho como Analista de Dados e estou matriculado no curso de Python.\n"
          ]
        }
      ]
    },
    {
      "cell_type": "code",
      "source": [
        "# Exemplo Metodo fString\n",
        "\n",
        "nome = \"Eudes\"\n",
        "idade = 42\n",
        "profissao = \"Analista de Dados\"\n",
        "linguagem = \"Python\"\n",
        "\n",
        "print(f\"Olá, me chamo {nome}. Eu tenho {idade} anos de idade, trabalho como {profissao} e estou matriculado no curso de {linguagem}.\")"
      ],
      "metadata": {
        "colab": {
          "base_uri": "https://localhost:8080/"
        },
        "id": "nwxGBcf-q15R",
        "outputId": "7fa450e8-77f6-421a-bf73-2a27e1e29e2f"
      },
      "execution_count": 18,
      "outputs": [
        {
          "output_type": "stream",
          "name": "stdout",
          "text": [
            "Olá, me chamo Eudes. Eu tenho 42 anos de idade, trabalho como Analista de Dados e estou matriculado no curso de Python.\n"
          ]
        }
      ]
    },
    {
      "cell_type": "markdown",
      "source": [
        "# ***3 - Fatiamento de String***\n",
        "O fatiamento de string (ou slicing) em Python permite extrair partes de uma string usando um intervalo de índices. A sintaxe básica é `string[início:fim]`, onde:\n",
        "\n",
        "- **início**: o índice onde o fatiamento começa (inclusivo).\n",
        "- **fim**: o índice onde o fatiamento termina ( Exclusivo).\n",
        "\n",
        "Aqui estão alguns exemplos:\n",
        "\n",
        "1. **Fatiamento Básico**:\n",
        "   ```python\n",
        "   s = \"Python\"\n",
        "   parte = s[0:2]  # 'Py' (caracteres nos índices 0 e 1)\n",
        "   ```\n",
        "\n",
        "2. **Omitindo o Fim**:\n",
        "   ```python\n",
        "   parte = s[2:]  # 'thon' (caracteres do índice 2 até o final)\n",
        "   ```\n",
        "\n",
        "3. **Omitindo o Início**:\n",
        "   ```python\n",
        "   parte = s[:3]  # 'Pyt' (caracteres do início até o índice 2)\n",
        "   ```\n",
        "\n",
        "4. **Fatiamento Negativo**: Os índices negativos podem ser usados para contar a partir do final da string.\n",
        "   ```python\n",
        "   parte = s[-4:-1]  # 'tho' (índices -4 até -2)\n",
        "   ```\n",
        "\n",
        "5. **Fatiamento com Passo**: É possível adicionar um terceiro parâmetro que especifica o passo.\n",
        "   ```python\n",
        "   parte = s[::2]  # 'Pto' (caracteres em índices pares)\n",
        "   ```\n",
        "\n",
        "O fatiamento é uma maneira poderosa e flexível de manipular strings em Python.\n"
      ],
      "metadata": {
        "id": "COIAke8HuhMZ"
      }
    },
    {
      "cell_type": "code",
      "source": [
        "# Exemplo\n",
        "\n",
        "nome = \"Eudes Jose da Silva\"\n",
        "\n",
        "nome[0] # Retorna pelo indice 0 (E)\n",
        "\n",
        "nome[:9]\n",
        "\n",
        "#nome[10:]\n",
        "\n",
        "#nome[10:16]\n",
        "\n",
        "#nome[10:16:2]\n",
        "\n",
        "#nome[::-1]"
      ],
      "metadata": {
        "colab": {
          "base_uri": "https://localhost:8080/",
          "height": 35
        },
        "id": "5kEVeQ2Hua6d",
        "outputId": "3a258e16-e5de-4e32-cca0-7295cafe409f"
      },
      "execution_count": 27,
      "outputs": [
        {
          "output_type": "execute_result",
          "data": {
            "text/plain": [
              "'Eudes Jos'"
            ],
            "application/vnd.google.colaboratory.intrinsic+json": {
              "type": "string"
            }
          },
          "metadata": {},
          "execution_count": 27
        }
      ]
    },
    {
      "cell_type": "code",
      "source": [
        "# Exemplo String de Multiplas Linhas\n",
        "\n",
        "nome = \"Eudes\"\n",
        "\n",
        "print(f'''\n",
        "Ola Meu Nome é {nome}, tenho 42 anos e no momento estou estudando fazendo a transição\n",
        "de carreira''')"
      ],
      "metadata": {
        "colab": {
          "base_uri": "https://localhost:8080/"
        },
        "id": "dQ83RbskvuEw",
        "outputId": "396f3645-fb9f-463f-b0c9-7fde9b8c5cb6"
      },
      "execution_count": 28,
      "outputs": [
        {
          "output_type": "stream",
          "name": "stdout",
          "text": [
            "\n",
            "Ola Meu Nome é Eudes, tenho 42 anos e no momento estou estudando fazendo a transição\n",
            "de carreira\n"
          ]
        }
      ]
    }
  ]
}