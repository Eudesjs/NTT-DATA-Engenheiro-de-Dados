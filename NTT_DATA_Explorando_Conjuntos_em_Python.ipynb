{
  "nbformat": 4,
  "nbformat_minor": 0,
  "metadata": {
    "colab": {
      "provenance": [],
      "authorship_tag": "ABX9TyPKeXzmQr/sxhrsaAcfxhNi",
      "include_colab_link": true
    },
    "kernelspec": {
      "name": "python3",
      "display_name": "Python 3"
    },
    "language_info": {
      "name": "python"
    }
  },
  "cells": [
    {
      "cell_type": "markdown",
      "metadata": {
        "id": "view-in-github",
        "colab_type": "text"
      },
      "source": [
        "<a href=\"https://colab.research.google.com/github/Eudesjs/NTT-DATA-Engenheiro-de-Dados/blob/main/NTT_DATA_Explorando_Conjuntos_em_Python.ipynb\" target=\"_parent\"><img src=\"https://colab.research.google.com/assets/colab-badge.svg\" alt=\"Open In Colab\"/></a>"
      ]
    },
    {
      "cell_type": "markdown",
      "source": [
        "# ***1 - Explorando Conjuntos em Python***\n",
        "Conjuntos em Python são coleções não ordenadas de elementos únicos, que não permitem duplicatas. Eles são úteis para operações de matemática de conjuntos, como união, interseção e diferença. Aqui estão algumas características e funcionalidades dos conjuntos:\n",
        "\n",
        "1. **Criação**:\n",
        "   - Um conjunto pode ser criado usando chaves `{}` ou a função `set()`.\n",
        "   ```python\n",
        "   meu_conjunto = {1, 2, 3}\n",
        "   outro_conjunto = set([3, 4, 5])\n",
        "   ```\n",
        "\n",
        "2. **Elementos Únicos**:\n",
        "   - Conjuntos não permitem elementos duplicados. Se você tentar adicionar um elemento que já existe, ele será ignorado.\n",
        "   ```python\n",
        "   conjunto = {1, 2, 2, 3}  # Resultado: {1, 2, 3}\n",
        "   ```\n",
        "\n",
        "3. **Operações de Conjuntos**:\n",
        "   - **União**: Combina elementos de dois conjuntos.\n",
        "     ```python\n",
        "     conjunto1 = {1, 2, 3}\n",
        "     conjunto2 = {3, 4, 5}\n",
        "     uniao = conjunto1 | conjunto2  # Resultado: {1, 2, 3, 4, 5}\n",
        "     ```\n",
        "   - **Interseção**: Retorna elementos comuns entre dois conjuntos.\n",
        "     ```python\n",
        "     intersecao = conjunto1 & conjunto2  # Resultado: {3}\n",
        "     ```\n",
        "   - **Diferença**: Retorna elementos que estão em um conjunto, mas não no outro.\n",
        "     ```python\n",
        "     diferenca = conjunto1 - conjunto2  # Resultado: {1, 2}\n",
        "     ```\n",
        "\n",
        "4. **Métodos Comuns**:\n",
        "   - `add()`: Adiciona um elemento ao conjunto.\n",
        "   - `remove()`: Remove um elemento do conjunto (gera erro se o elemento não existir).\n",
        "   - `discard()`: Remove um elemento do conjunto (não gera erro se o elemento não existir).\n",
        "   - `clear()`: Remove todos os elementos do conjunto.\n",
        "\n",
        "5. **Imutabilidade**:\n",
        "   - Embora os conjuntos sejam mutáveis, existe uma versão imutável chamada `frozenset`, que não pode ser alterada após a criação.\n",
        "\n",
        "Em resumo, conjuntos são uma estrutura de dados poderosa em Python para trabalhar com coleções de elementos únicos e realizar operações matemáticas de conjuntos de forma eficiente.\n"
      ],
      "metadata": {
        "id": "8svUY4Nk-82K"
      }
    },
    {
      "cell_type": "code",
      "execution_count": 1,
      "metadata": {
        "colab": {
          "base_uri": "https://localhost:8080/"
        },
        "id": "1OEtbP0z-xN7",
        "outputId": "97d679b4-8fb6-448d-a68f-57b9f23a04a9"
      },
      "outputs": [
        {
          "output_type": "stream",
          "name": "stdout",
          "text": [
            "{1, 3, 4}\n"
          ]
        }
      ],
      "source": [
        "# Exemplo 1\n",
        "\n",
        "conjunto = {1, 2, 3}  # Cria um conjunto com elementos 1, 2 e 3\n",
        "conjunto.add(4)       # Adiciona o elemento 4 ao conjunto\n",
        "conjunto.remove(2)    # Remove o elemento 2 do conjunto\n",
        "print(conjunto)"
      ]
    },
    {
      "cell_type": "code",
      "source": [
        "# Exemplo 2\n",
        "\n",
        "#set([1, 2, 3, 1, 2, 3, 4]) # Os Conjunto nao repete numeros repetido mais anula e ignora\n",
        "\n",
        "#set([\"Abacaxi\"]) # Os Conjunto nao repete numeros repetido mais anula e ignora\n",
        "\n",
        "set((\"Palio\", \"Gol\", \"Celta\", \"Palio\")) # Os Conjunto nao repete numeros repetido mais anula e ignora\n",
        "\n",
        "# O Set nao Trabalha na ordem."
      ],
      "metadata": {
        "colab": {
          "base_uri": "https://localhost:8080/"
        },
        "id": "3_6GQtI3_zGz",
        "outputId": "ad22dec1-5e83-49ca-9bde-156dd8b4ea02"
      },
      "execution_count": 6,
      "outputs": [
        {
          "output_type": "execute_result",
          "data": {
            "text/plain": [
              "{'Celta', 'Gol', 'Palio'}"
            ]
          },
          "metadata": {},
          "execution_count": 6
        }
      ]
    },
    {
      "cell_type": "code",
      "source": [
        "# Exemplo 3\n",
        "\n",
        "linguagem = {\"Python\", \"JavaScript\", \"Java\", \"Python\"} # Os Conjunto nao repete numeros repetido mais anula e ignora\n",
        "print(linguagem)"
      ],
      "metadata": {
        "colab": {
          "base_uri": "https://localhost:8080/"
        },
        "id": "-q5tjg2zA2rw",
        "outputId": "f1a4f519-0756-4267-e782-acee1dae7c2d"
      },
      "execution_count": 7,
      "outputs": [
        {
          "output_type": "stream",
          "name": "stdout",
          "text": [
            "{'Java', 'JavaScript', 'Python'}\n"
          ]
        }
      ]
    },
    {
      "cell_type": "markdown",
      "source": [
        "## ***1.2 - Acessando os Dados***\n",
        "Acessar dados em conjuntos em Python é diferente de acessar elementos em listas ou tuplas, devido à natureza não ordenada dos conjuntos. Aqui estão os principais pontos sobre como acessar dados em conjuntos:\n",
        "\n",
        "1. **Verificação de Pertinência**:\n",
        "   - Você pode verificar se um elemento está presente em um conjunto usando a palavra-chave `in`.\n",
        "   ```python\n",
        "   meu_conjunto = {1, 2, 3}\n",
        "   existe = 2 in meu_conjunto  # Retorna True\n",
        "   ```\n",
        "\n",
        "2. **Iteração**:\n",
        "   - Você pode iterar sobre os elementos de um conjunto usando um loop `for`.\n",
        "   ```python\n",
        "   for elemento in meu_conjunto:\n",
        "       print(elemento)\n",
        "   ```\n",
        "\n",
        "3. **Conversão para Lista**:\n",
        "   - Se precisar acessar elementos por índice, você pode converter o conjunto em uma lista. No entanto, isso não garante a ordem original, pois os conjuntos são não ordenados.\n",
        "   ```python\n",
        "   lista = list(meu_conjunto)\n",
        "   primeiro_elemento = lista[0]  # Acessa o primeiro elemento da lista convertida\n",
        "   ```\n",
        "\n",
        "4. **Métodos de Acesso**:\n",
        "   - Não há acesso direto por índice ou fatiamento, pois os conjuntos não mantêm uma ordem. Portanto, não é possível acessar elementos como em listas ou tuplas.\n",
        "\n",
        "Em resumo, para acessar dados em conjuntos, você pode verificar a presença de elementos, iterar sobre eles ou convertê-los em uma lista, mas não pode acessar elementos por índice devido à sua natureza não ordenada.\n"
      ],
      "metadata": {
        "id": "MYQohQPoBOR5"
      }
    },
    {
      "cell_type": "code",
      "source": [
        "# Exemplo 1 Convertendo Conjunto em Lista\n",
        "\n",
        "conjunto = {1, 2, 3, 4, 5}\n",
        "lista = list(conjunto) # Convertendo Conjunto em Lista\n",
        "print(lista)\n",
        "\n",
        "print(lista[0]) # Acessando o Primeiro Elemento"
      ],
      "metadata": {
        "colab": {
          "base_uri": "https://localhost:8080/"
        },
        "id": "p5ccK0f-BYZJ",
        "outputId": "78baa578-4222-4a24-d64c-fad15343d5f0"
      },
      "execution_count": 8,
      "outputs": [
        {
          "output_type": "stream",
          "name": "stdout",
          "text": [
            "[1, 2, 3, 4, 5]\n",
            "1\n"
          ]
        }
      ]
    },
    {
      "cell_type": "code",
      "source": [
        "# Exemplo Itera conjuntos\n",
        "\n",
        "conjunto = {1, 2, 3, 4, 5}\n",
        "for elemento in conjunto: # Itera conjuntos\n",
        "  print(elemento) # Itera sobre os elementos do conjunto"
      ],
      "metadata": {
        "colab": {
          "base_uri": "https://localhost:8080/"
        },
        "id": "tL3qVEI0B6nE",
        "outputId": "640784c8-47d7-44df-d0ef-723504d97d5c"
      },
      "execution_count": 9,
      "outputs": [
        {
          "output_type": "stream",
          "name": "stdout",
          "text": [
            "1\n",
            "2\n",
            "3\n",
            "4\n",
            "5\n"
          ]
        }
      ]
    },
    {
      "cell_type": "code",
      "source": [
        "# Função Enumerate\n",
        "\n",
        "conjunto = {1, 2, 3, 4, 5}\n",
        "for indice, elemento in enumerate(conjunto): # Itera conjuntos\n",
        "  print(indice, elemento) # Itera sobre os elementos do conjunto\n",
        ""
      ],
      "metadata": {
        "colab": {
          "base_uri": "https://localhost:8080/"
        },
        "id": "1XYOBzdaCEsT",
        "outputId": "9c75b97c-316b-4a26-a96b-14af620d0b8c"
      },
      "execution_count": 10,
      "outputs": [
        {
          "output_type": "stream",
          "name": "stdout",
          "text": [
            "0 1\n",
            "1 2\n",
            "2 3\n",
            "3 4\n",
            "4 5\n"
          ]
        }
      ]
    },
    {
      "cell_type": "code",
      "source": [
        "# {}.Uniao de Conjuntos\n",
        "'''\n",
        "A união de conjuntos em Python combina todos os elementos de dois ou mais conjuntos, resultando em um\n",
        "novo conjunto que contém elementos únicos. Isso pode ser realizado usando o operador `|` ou o método\n",
        "`union()`.\n",
        "'''\n",
        "\n",
        "conjunto1 = {1, 2, 3}\n",
        "conjunto2 = {3, 4, 5}\n",
        "uniao = conjunto1 | conjunto2  # Resultado: {1, 2, 3, 4, 5}\n",
        "uniao1 = conjunto1.union(conjunto2) # Resultado: {1, 2, 3, 4, 5}\n",
        "print(uniao)\n",
        "print(uniao1)"
      ],
      "metadata": {
        "colab": {
          "base_uri": "https://localhost:8080/"
        },
        "id": "KB7cBdXaCK9r",
        "outputId": "f51cdebe-92c8-4148-e629-01b7b16116bb"
      },
      "execution_count": 12,
      "outputs": [
        {
          "output_type": "stream",
          "name": "stdout",
          "text": [
            "{1, 2, 3, 4, 5}\n",
            "{1, 2, 3, 4, 5}\n"
          ]
        }
      ]
    },
    {
      "cell_type": "code",
      "source": [
        "# {}.Intersecção de Conjuntos\n",
        "'''\n",
        "A interseção de conjuntos em Python retorna um novo conjunto contendo apenas os elementos que estão\n",
        "presentes em ambos os conjuntos. Isso pode ser feito usando o operador `&` ou o método `intersection()`.\n",
        "\n",
        "'''\n",
        "\n",
        "conjunto1 = {1, 2, 3, 4}\n",
        "conjunto2 = {3, 4, 5, 6}\n",
        "intersecao = conjunto1 & conjunto2  # Resultado: {3}\n",
        "intersecao1 = conjunto1.intersection(conjunto2) # Resultado: {3}\n",
        "print(intersecao)\n",
        "print(intersecao1)\n",
        "#"
      ],
      "metadata": {
        "colab": {
          "base_uri": "https://localhost:8080/"
        },
        "id": "KosRjdjSCRMi",
        "outputId": "2be20f2b-368c-4e7b-bc9a-487f3da1c04e"
      },
      "execution_count": 15,
      "outputs": [
        {
          "output_type": "stream",
          "name": "stdout",
          "text": [
            "{3, 4}\n",
            "{3, 4}\n"
          ]
        }
      ]
    },
    {
      "cell_type": "code",
      "source": [
        "# {}. Diferença entre conjunto\n",
        "'''\n",
        "A diferença entre conjuntos em Python retorna um novo conjunto contendo apenas os elementos que estão\n",
        "presentes no primeiro conjunto, mas não no segundo. Isso pode ser feito usando o operador `-` ou o método\n",
        "`difference()`.\n",
        "'''\n",
        "\n",
        "conjunto1 = {1, 2, 3, 4}\n",
        "conjunto2 = {3, 4, 5, 6}\n",
        "diferenca = conjunto1 - conjunto2  # Resultado: {1, 2}\n",
        "diferenca1 = conjunto1.difference(conjunto2) # Resultado: {1, 2}\n",
        "print(diferenca)\n",
        "print(diferenca1)\n",
        "#"
      ],
      "metadata": {
        "colab": {
          "base_uri": "https://localhost:8080/"
        },
        "id": "NscU6Z24DYAr",
        "outputId": "f44ef54b-8900-4b38-e952-050f1c9a8a1e"
      },
      "execution_count": 16,
      "outputs": [
        {
          "output_type": "stream",
          "name": "stdout",
          "text": [
            "{1, 2}\n",
            "{1, 2}\n"
          ]
        }
      ]
    },
    {
      "cell_type": "code",
      "source": [
        "# {}.Diferença Simetrica\n",
        "'''\n",
        "A diferença simétrica entre conjuntos em Python retorna um novo conjunto contendo apenas os elementos\n",
        "que estão em um dos conjuntos, mas não em ambos. Isso pode ser feito usando o operador `^` ou o método\n",
        "`symmetric_difference()`.\n",
        "'''\n",
        "\n",
        "conjunto1 = {1, 2, 3, 4}\n",
        "conjunto2 = {3, 4, 5, 6}\n",
        "diferenca_simetrica = conjunto1 ^ conjunto2  # Resultado: {1, 2, 5, 6}\n",
        "diferenca_simetrica1 = conjunto1.symmetric_difference(conjunto2) # Resultado: {1, 2, 5, 6}\n",
        "print(diferenca_simetrica)\n",
        "print(diferenca_simetrica1)\n"
      ],
      "metadata": {
        "colab": {
          "base_uri": "https://localhost:8080/"
        },
        "id": "niu4qX4tDwHt",
        "outputId": "27b81262-ca30-4159-8c4f-db49a22b5023"
      },
      "execution_count": 18,
      "outputs": [
        {
          "output_type": "stream",
          "name": "stdout",
          "text": [
            "{1, 2, 5, 6}\n",
            "{1, 2, 5, 6}\n"
          ]
        }
      ]
    },
    {
      "cell_type": "code",
      "source": [
        "# {}.Issubset\n",
        "'''\n",
        "O método `issubset()` em Python verifica se todos os elementos de um conjunto estão contidos em outro\n",
        "conjunto. Retorna `True` se for um subconjunto e `False` caso contrário.\n",
        "'''\n",
        "\n",
        "conjunto1 = {1, 2, 3}\n",
        "conjunto2 = {1, 2, 3, 4, 5}\n",
        "subconjunto = conjunto1.issubset(conjunto2)  # Retorna True\n",
        "print(subconjunto)"
      ],
      "metadata": {
        "colab": {
          "base_uri": "https://localhost:8080/"
        },
        "id": "X7OMuT-UEZpt",
        "outputId": "ec8c1d48-9018-4e2d-c929-225fa90a0d88"
      },
      "execution_count": 19,
      "outputs": [
        {
          "output_type": "stream",
          "name": "stdout",
          "text": [
            "True\n"
          ]
        }
      ]
    },
    {
      "cell_type": "code",
      "source": [
        "# {}.Isdisjoint\n",
        "'''\n",
        "O método `isdisjoint()` em Python verifica se dois conjuntos não têm elementos em comum. Retorna\n",
        "`True` se os conjuntos forem disjuntos e `False` caso contrário.\n",
        "'''\n",
        "\n",
        "conjunto1 = {1, 2, 3}\n",
        "conjunto2 = {4, 5, 6}\n",
        "disjuntos = conjunto1.isdisjoint(conjunto2)  # Retorna True\n",
        "print(disjuntos)"
      ],
      "metadata": {
        "colab": {
          "base_uri": "https://localhost:8080/"
        },
        "id": "WRbNNm_uFDnh",
        "outputId": "f11cce06-8954-4bed-fc36-966196bd8b85"
      },
      "execution_count": 20,
      "outputs": [
        {
          "output_type": "stream",
          "name": "stdout",
          "text": [
            "True\n"
          ]
        }
      ]
    },
    {
      "cell_type": "code",
      "source": [
        "# {}.add\n",
        "'''\n",
        "O método `add()` em Python é usado para adicionar um elemento a um conjunto. Se o elemento já existir\n",
        "no conjunto, ele não será adicionado novamente.\n",
        "'''\n",
        "\n",
        "conjunto = {1, 2, 3}\n",
        "conjunto.add(4)       # Adiciona o elemento 4 ao conjunto\n",
        "print(conjunto)"
      ],
      "metadata": {
        "colab": {
          "base_uri": "https://localhost:8080/"
        },
        "id": "npdqwJkhFS2y",
        "outputId": "c25f1b6e-4d22-4b75-8586-e414b9e32206"
      },
      "execution_count": 21,
      "outputs": [
        {
          "output_type": "stream",
          "name": "stdout",
          "text": [
            "{1, 2, 3, 4}\n"
          ]
        }
      ]
    },
    {
      "cell_type": "code",
      "source": [
        "# {}.Clear\n",
        "'''\n",
        "O método `clear()` em Python é usado para remover todos os elementos de um conjunto.\n",
        "'''\n",
        "\n",
        "conjunto = {1, 2, 3}\n",
        "conjunto.clear()       # Remove todos os elementos do conjunto\n",
        "print(conjunto)\n"
      ],
      "metadata": {
        "colab": {
          "base_uri": "https://localhost:8080/"
        },
        "id": "SdJF82-RF1sZ",
        "outputId": "087bcbcf-d3f9-4446-fcf3-b016224a90ee"
      },
      "execution_count": 22,
      "outputs": [
        {
          "output_type": "stream",
          "name": "stdout",
          "text": [
            "set()\n"
          ]
        }
      ]
    },
    {
      "cell_type": "code",
      "source": [
        "# {}.copy\n",
        "'''\n",
        "O método `copy()` em Python é usado para criar uma cópia de um conjunto.\n",
        "'''\n",
        "\n",
        "conjunto = {1, 2, 3}\n",
        "conjunto_copia = conjunto.copy()  # Cria uma cópia do conjunto\n",
        "print(conjunto_copia)\n"
      ],
      "metadata": {
        "colab": {
          "base_uri": "https://localhost:8080/"
        },
        "id": "DZgr5l89GFC5",
        "outputId": "c50c1cdb-ccd2-4ce7-c6a3-b11a3b22d735"
      },
      "execution_count": 24,
      "outputs": [
        {
          "output_type": "stream",
          "name": "stdout",
          "text": [
            "{1, 2, 3}\n"
          ]
        }
      ]
    },
    {
      "cell_type": "code",
      "source": [
        "# {}.discard\n",
        "'''\n",
        "O método `discard()` em Python é usado para remover um elemento de um conjunto. Se o elemento não existir\n",
        "no conjunto, nenhum erro é gerado.\n",
        "'''\n",
        "\n",
        "conjunto = {1, 2, 3}\n",
        "conjunto.discard(2)    # Remove o elemento 2 do conjunto\n",
        "print(conjunto)"
      ],
      "metadata": {
        "colab": {
          "base_uri": "https://localhost:8080/"
        },
        "id": "2sa4Shd-GWNt",
        "outputId": "286facf4-648b-4c00-b859-b3b7516eeb4e"
      },
      "execution_count": 25,
      "outputs": [
        {
          "output_type": "stream",
          "name": "stdout",
          "text": [
            "{1, 3}\n"
          ]
        }
      ]
    },
    {
      "cell_type": "code",
      "source": [
        "# {}.pop\n",
        "'''\n",
        "O método `pop()` em Python é usado para remover e retornar um elemento aleatório de um conjunto. Se o\n",
        "conjunto estiver vazio, um erro será gerado.\n",
        "'''\n",
        "\n",
        "conjunto = {1, 2, 3}\n",
        "elemento_removido = conjunto.pop()  # Remove e retorna um elemento aleatório\n",
        "print(elemento_removido)\n"
      ],
      "metadata": {
        "colab": {
          "base_uri": "https://localhost:8080/"
        },
        "id": "3Cj_pQq2GmuK",
        "outputId": "0f57d0d9-c25b-4286-be79-5b15c3f34988"
      },
      "execution_count": 26,
      "outputs": [
        {
          "output_type": "stream",
          "name": "stdout",
          "text": [
            "1\n"
          ]
        }
      ]
    },
    {
      "cell_type": "code",
      "source": [
        "# {}.remove\n",
        "'''\n",
        "O método `remove()` em Python é usado para remover um elemento específico de um conjunto. Se o elemento\n",
        "não existir no conjunto, um erro será gerado.\n",
        "'''\n",
        "\n",
        "conjunto = {1, 2, 3}\n",
        "conjunto.remove(2)    # Remove o elemento 2 do conjunto\n",
        "print(conjunto)"
      ],
      "metadata": {
        "colab": {
          "base_uri": "https://localhost:8080/"
        },
        "id": "UcqugjY5GtPg",
        "outputId": "c0b1762f-73df-41f0-dfb9-307dd638f7b3"
      },
      "execution_count": 27,
      "outputs": [
        {
          "output_type": "stream",
          "name": "stdout",
          "text": [
            "{1, 3}\n"
          ]
        }
      ]
    },
    {
      "cell_type": "code",
      "source": [
        "# {}.len\n",
        "'''\n",
        "O método `len()` em Python é usado para obter o número de elementos em um conjunto.\n",
        "'''\n",
        "\n",
        "conjunto = {1, 2, 3}\n",
        "tamanho = len(conjunto)  # Retorna o número de elementos no conjunto\n",
        "print(tamanho)\n"
      ],
      "metadata": {
        "colab": {
          "base_uri": "https://localhost:8080/"
        },
        "id": "HB2b8UIIHE07",
        "outputId": "213871f2-c58b-4908-aed5-1ecd29761b58"
      },
      "execution_count": 28,
      "outputs": [
        {
          "output_type": "stream",
          "name": "stdout",
          "text": [
            "3\n"
          ]
        }
      ]
    },
    {
      "cell_type": "code",
      "source": [
        "# Exemplo in len\n",
        "'''\n",
        "O método `in` em Python é usado para verificar se um elemento está presente em um conjunto.\n",
        "'''\n",
        "\n",
        "conjunto = {1, 2, 3}\n",
        "existe = 2 in conjunto  # Retorna True\n",
        "print(existe)"
      ],
      "metadata": {
        "colab": {
          "base_uri": "https://localhost:8080/"
        },
        "id": "hncLx7F6HLig",
        "outputId": "6107b1e2-d6b4-4f23-f805-7bb52b9dac67"
      },
      "execution_count": 29,
      "outputs": [
        {
          "output_type": "stream",
          "name": "stdout",
          "text": [
            "True\n"
          ]
        }
      ]
    }
  ]
}