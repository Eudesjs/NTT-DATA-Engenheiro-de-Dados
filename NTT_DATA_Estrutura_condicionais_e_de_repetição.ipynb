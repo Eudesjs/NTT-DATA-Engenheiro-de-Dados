{
  "nbformat": 4,
  "nbformat_minor": 0,
  "metadata": {
    "colab": {
      "provenance": [],
      "authorship_tag": "ABX9TyPR8guHCsEYGiNSK7NYcbN3",
      "include_colab_link": true
    },
    "kernelspec": {
      "name": "python3",
      "display_name": "Python 3"
    },
    "language_info": {
      "name": "python"
    }
  },
  "cells": [
    {
      "cell_type": "markdown",
      "metadata": {
        "id": "view-in-github",
        "colab_type": "text"
      },
      "source": [
        "<a href=\"https://colab.research.google.com/github/Eudesjs/NTT-DATA-Engenheiro-de-Dados/blob/main/NTT_DATA_Estrutura_condicionais_e_de_repeti%C3%A7%C3%A3o.ipynb\" target=\"_parent\"><img src=\"https://colab.research.google.com/assets/colab-badge.svg\" alt=\"Open In Colab\"/></a>"
      ]
    },
    {
      "cell_type": "markdown",
      "source": [
        "# ***1 - Identação e Blocos***\n",
        "Em Python, a indentação é crucial, pois define a estrutura do código e os blocos de código. Ao contrário de outras linguagens que usam chaves `{}` para delimitar blocos, Python utiliza espaços ou tabulações. Aqui estão alguns pontos importantes sobre indentação e blocos em Python:\n",
        "1. **Indentação Consistente**: Todos os blocos de código devem ser indentados de forma consistente. O padrão é usar 4 espaços por nível de indentação.\n",
        "2. **Blocos de Código**: Um bloco de código é um conjunto de instruções que são executadas juntas. Por exemplo, em estruturas de controle como `if`, `for`, `while`, e funções, o código dentro do bloco deve ser indentado.\n",
        "3. **Exemplo de Uso**:\n",
        "   ```python\n",
        "   def exemplo_funcao():\n",
        "       if True:\n",
        "           print(\"Este é um bloco de código indentado.\")\n",
        "       else:\n",
        "           print(\"Este é outro bloco de código indentado.\")\n",
        "   ```\n",
        "4. **Erro de Indentação**: Se a indentação não for consistente, Python levantará um erro de `IndentationError`.\n",
        "\n",
        "5. **Mistura de Espaços e Tabulações**: Evite misturar espaços e tabulações, pois isso pode causar erros de indentação.\n",
        "\n",
        "A indentação correta é essencial para a legibilidade e a execução correta do código em Python.\n"
      ],
      "metadata": {
        "id": "l0PW3Byvdf15"
      }
    },
    {
      "cell_type": "code",
      "execution_count": null,
      "metadata": {
        "colab": {
          "base_uri": "https://localhost:8080/"
        },
        "id": "B0IKvuiOcpyv",
        "outputId": "8d5c8305-44e1-4217-802f-86d93e3cb20a"
      },
      "outputs": [
        {
          "output_type": "stream",
          "name": "stdout",
          "text": [
            "Saldo insuficiente\n",
            "Entre em contato com seu gerente\n"
          ]
        }
      ],
      "source": [
        "# Exemplo de Identação\n",
        "def sacar(valor): # Identação do Bloco Sacar\n",
        "  saldo = 1000 # Identação do Bloco Sacar\n",
        "\n",
        "  if valor <= saldo: # Identação do Metodo If\n",
        "    print(\"valor sacado\")\n",
        "    print(\"Retire o dinheiro no boca do caixa\")\n",
        "\n",
        "\n",
        "  else: # Identação do  Metodo Else\n",
        "    valor > saldo # Identação do Metodo Else\n",
        "    print(\"Saldo insuficiente\")\n",
        "    print(\"Entre em contato com seu gerente\")\n",
        "\n",
        "sacar(2000)"
      ]
    },
    {
      "cell_type": "code",
      "source": [
        "# Exemplo\n",
        "def depositar(valor):\n",
        "  saldo = 1000\n",
        "  saldo += valor\n",
        "  print(saldo)\n",
        "\n",
        "depositar(2000) # Identação do Bloco Depositar"
      ],
      "metadata": {
        "colab": {
          "base_uri": "https://localhost:8080/"
        },
        "id": "OYL8viS4jIX8",
        "outputId": "eb577aae-06c8-4cf8-81ab-7b7fae79ee33"
      },
      "execution_count": null,
      "outputs": [
        {
          "output_type": "stream",
          "name": "stdout",
          "text": [
            "3000\n"
          ]
        }
      ]
    },
    {
      "cell_type": "markdown",
      "source": [
        "# 2 - ***Estrutura Condicionais***\n",
        "As estruturas condicionais em Python permitem que você execute diferentes blocos de código com base em condições específicas. As principais estruturas condicionais são `if`, `elif` e `else`. Aqui está uma explicação detalhada de cada uma delas:\n",
        "\n",
        "### 1. Estrutura `if`\n",
        "A estrutura `if` é usada para testar uma condição. Se a condição for verdadeira, o bloco de código dentro do `if` será executado.\n",
        "\n",
        "```python\n",
        "if condição:\n",
        "    # bloco de código a ser executado se a condição for verdadeira\n",
        "```\n",
        "### 2. Estrutura `elif`\n",
        "A estrutura `elif` (abreviação de \"else if\") permite testar múltiplas condições. Se a condição do `if` for falsa, o Python verifica a condição do `elif`.\n",
        "\n",
        "```python\n",
        "if condição1:\n",
        "    # bloco de código se condição1 for verdadeira\n",
        "elif condição2:\n",
        "    # bloco de código se condição2 for verdadeira\n",
        "```\n",
        "### 3. Estrutura `else`\n",
        "A estrutura `else` é usada para executar um bloco de código quando todas as condições anteriores (`if` e `elif`) são falsas.\n",
        "\n",
        "```python\n",
        "if condição1:\n",
        "    # bloco de código se condição1 for verdadeira\n",
        "elif condição2:\n",
        "    # bloco de código se condição2 for verdadeira\n",
        "else:\n",
        "    # bloco de código se nenhuma das condições anteriores for verdadeira\n",
        "```\n",
        "### Exemplo Completo\n",
        "Aqui está um exemplo que combina todas as estruturas condicionais:\n",
        "\n",
        "```python\n",
        "nota = 85\n",
        "\n",
        "if nota >= 90:\n",
        "    print(\"Aprovado com Distinção\")\n",
        "elif nota >= 75:\n",
        "    print(\"Aprovado\")\n",
        "elif nota >= 60:\n",
        "    print(\"Recuperação\")\n",
        "else:\n",
        "    print(\"Reprovado\")\n",
        "```\n",
        "### Considerações\n",
        "- As condições podem ser expressões booleanas que retornam `True` ou `False`.\n",
        "- Você pode usar operadores lógicos (`and`, `or`, `not`) para combinar condições.\n",
        "- A indentação é importante para definir quais linhas pertencem a cada bloco condicional.\n",
        "\n",
        "Essas estruturas são fundamentais para controlar o fluxo de execução do seu programa em Python.\n"
      ],
      "metadata": {
        "id": "CNEwx5skkMfp"
      }
    },
    {
      "cell_type": "code",
      "source": [
        "# Exemplo usando if e else\n",
        "saldo = 2000.00\n",
        "saque = float(input(\"Informe o valor do saque:\" ))\n",
        "\n",
        "if saldo >= saque:\n",
        "  print(\"Realizando Saque\")\n",
        "else:\n",
        "  print(\"Saldo Insuficiente\")\n",
        "  print(\"Entre em contato com seu gerente)"
      ],
      "metadata": {
        "colab": {
          "base_uri": "https://localhost:8080/"
        },
        "id": "NQF39VdTkr6r",
        "outputId": "b4340676-e114-43f9-e9a0-569516b276ed"
      },
      "execution_count": null,
      "outputs": [
        {
          "output_type": "stream",
          "name": "stdout",
          "text": [
            "Informe o valor do saque:2500\n",
            "Saldo Insuficiente\n"
          ]
        }
      ]
    },
    {
      "cell_type": "code",
      "source": [
        "# Exemplo usando if, elif e else\n",
        "opcao = int(input(\"Informe uma opção: [1] Sacar [2] Estrato: \"))\n",
        "\n",
        "if opcao == 1:\n",
        "  valor = float(input(\"Informe o valor do saque: \"))\n",
        "\n",
        "elif opcao == 2:\n",
        "  print(\"Exibindo extrato...\")\n",
        "\n",
        "else:\n",
        "  print(\"Opção invalida\") # sys.exit\n",
        "  print(\"Obrigado por ser nosso cliente, tenha um bom dia!\")"
      ],
      "metadata": {
        "colab": {
          "base_uri": "https://localhost:8080/"
        },
        "id": "Y2-3JOwWqPZE",
        "outputId": "e928c51e-6855-4daa-d027-02041a32ed92"
      },
      "execution_count": null,
      "outputs": [
        {
          "output_type": "stream",
          "name": "stdout",
          "text": [
            "Informe uma opção: [1] Sacar [2] Estrato: 3\n",
            "Opção invalida\n",
            "Obrigado por ser nosso cliente, tenha um bom dia!\n"
          ]
        }
      ]
    },
    {
      "cell_type": "code",
      "source": [
        "# Exemplo CNH usando o if e else\n",
        "maior_Idade = 18\n",
        "\n",
        "idade = int(input(\"Informe sua Idade: \"))\n",
        "\n",
        "if idade >= maior_Idade:\n",
        "  print(\"Maior Idade pode tirar a CNH!\")\n",
        "\n",
        "else:\n",
        "  print(\"Menor de Idade, Ainda nao pode tirar a CNH!\")"
      ],
      "metadata": {
        "colab": {
          "base_uri": "https://localhost:8080/"
        },
        "id": "xghJfBM9sLQb",
        "outputId": "22f9c379-df32-4b4a-f452-2521f82cd94c"
      },
      "execution_count": null,
      "outputs": [
        {
          "output_type": "stream",
          "name": "stdout",
          "text": [
            "Informe sua Idade: 15\n",
            "Menor de Idade, Ainda nao pode tirar a CNH\n"
          ]
        }
      ]
    },
    {
      "cell_type": "code",
      "source": [
        "# Exemplo usando if elif e else\n",
        "idade_Ideal_CNH = 18\n",
        "idade_Especial = 16\n",
        "\n",
        "idade = int(input(\"Informe sua Idade: \"))\n",
        "\n",
        "if idade >= idade_Ideal_CNH:\n",
        "  print(\"Idade Ideal para tira a CNH!\")\n",
        "\n",
        "elif (idade < idade_Ideal_CNH) and (idade >= idade_Especial):\n",
        "  print(\"Ainda nao Pode tira a CNH!, Mais pode fazer aulas teoricas!\")\n",
        "\n",
        "else:\n",
        "  print(\"Menor de Idade! Requerimento Negado!\")"
      ],
      "metadata": {
        "colab": {
          "base_uri": "https://localhost:8080/"
        },
        "id": "9RT_uu00tmQv",
        "outputId": "6abd4c97-d85c-4301-bd24-5e0394d6f3ea"
      },
      "execution_count": null,
      "outputs": [
        {
          "output_type": "stream",
          "name": "stdout",
          "text": [
            "Informe sua Idade: 14\n",
            "Menor de Idade! Requerimento Negado!\n"
          ]
        }
      ]
    },
    {
      "cell_type": "code",
      "source": [
        "# Exemplo de If Alinhado\n",
        "'''\n",
        "Um \"if aninhado\" em Python refere-se a uma estrutura condicional onde um bloco `if` está contido dentro de\n",
        "outro bloco `if`. Isso permite testar múltiplas condições de forma hierárquica. Aqui está como funciona:\n",
        "### Estrutura de If Aninhado\n",
        "```python\n",
        "if condição1:\n",
        "    # bloco de código se condição1 for verdadeira\n",
        "    if condição2:\n",
        "        # bloco de código se condição2 for verdadeira\n",
        "    else:\n",
        "        # bloco de código se condição2 for falsa\n",
        "else:\n",
        "    # bloco de código se condição1 for falsa\n",
        "```\n",
        "### Exemplo de If Aninhado\n",
        "Vamos considerar um exemplo prático que determina a classificação de um aluno com base em sua nota e se ele\n",
        "participou de uma atividade extra:\n",
        "```python\n",
        "nota = 85\n",
        "participou_atividade_extra = True\n",
        "if nota >= 60:\n",
        "    print(\"Aprovado\")\n",
        "    if participou_atividade_extra:\n",
        "        print(\"Parabéns! Você recebeu um bônus pela atividade extra.\")\n",
        "    else:\n",
        "        print(\"Você não participou da atividade extra.\")\n",
        "else:\n",
        "    print(\"Reprovado\")\n",
        "```\n",
        "### Explicação do Exemplo\n",
        "1. **Primeiro `if`**: Verifica se a nota é maior ou igual a 60. Se for, o aluno é considerado \"Aprovado\".\n",
        "2. **Segundo `if` (aninhado)**: Dentro do bloco do primeiro `if`, verifica se o aluno participou de uma\n",
        "atividade extra. Dependendo do resultado, imprime uma mensagem apropriada.\n",
        "3. **`else` do primeiro `if`**: Se a nota for menor que 60, imprime \"Reprovado\".\n",
        "\n",
        "### Considerações\n",
        "- **Indentação**: A indentação é crucial para definir quais blocos de código pertencem a cada condição.\n",
        "- **Complexidade**: Evite aninhar muitos `if` para não tornar o código difícil de ler. Em casos complexos,\n",
        "considere usar funções ou outras estruturas de controle.\n",
        "\n",
        "Os `if` aninhados são úteis para situações onde você precisa de múltiplas verificações de condições, mas\n",
        "devem ser usados com cuidado para manter a clareza do código.\n",
        "'''"
      ],
      "metadata": {
        "id": "dS6fhgHMwNC8"
      },
      "execution_count": null,
      "outputs": []
    },
    {
      "cell_type": "code",
      "source": [
        "# Exemplo If Aninhado\n",
        "conta_normal = True\n",
        "conta_universitaria = False\n",
        "\n",
        "saldo = 2000\n",
        "saque = 2500\n",
        "cheque_especial = 500\n",
        "\n",
        "if conta_normal:\n",
        "  if saldo >= saque:\n",
        "    print(\"Saque realizado com Sucesso!\")\n",
        "\n",
        "  elif saque <= (saldo + cheque_especial):\n",
        "    print(\"Saque realizado com uso do cheque especial!\")\n",
        "  else:\n",
        "    print(\"Não foi possivel realizar o saque, saldo insuficiente!\")\n",
        "\n",
        "elif conta_universitaria:\n",
        "  if saldo >= saque:\n",
        "    print(\"Saque realizado com sucesso!\")\n",
        "  else:\n",
        "    print(\"Saldo insuficiente!\")\n",
        "\n",
        "#saque = float(input(\"Informe o valor do saque: \"))\n",
        "print(\"Obrigado por ser nosso cliente, tenha um bom dia!\")\n",
        "\n"
      ],
      "metadata": {
        "id": "Gt5cda73xNGr",
        "colab": {
          "base_uri": "https://localhost:8080/"
        },
        "outputId": "9aa2eec1-bf9a-4210-a646-a0e73912e8a1"
      },
      "execution_count": 56,
      "outputs": [
        {
          "output_type": "stream",
          "name": "stdout",
          "text": [
            "Saque realizado com uso do cheque especial!\n",
            "Obrigado por ser nosso cliente, tenha um bom dia!\n"
          ]
        }
      ]
    },
    {
      "cell_type": "code",
      "source": [
        "# if ternario\n",
        "'''\n",
        "O \"if ternário\" em Python é uma forma concisa de escrever uma expressão condicional. Ele permite que você\n",
        "atribua um valor a uma variável com base em uma condição, tudo em uma única linha. A sintaxe básica é a\n",
        "seguinte:\n",
        "\n",
        "```python\n",
        "variavel = valor_se_verdadeiro if condição else valor_se_falso\n",
        "```\n",
        "\n",
        "### Exemplo de If Ternário\n",
        "Aqui está um exemplo prático que determina se um número é par ou ímpar usando um if ternário:\n",
        "\n",
        "```python\n",
        "numero = 10\n",
        "resultado = \"Par\" if numero % 2 == 0 else \"Ímpar\"\n",
        "print(resultado)\n",
        "```\n",
        "### Explicação do Exemplo\n",
        "\n",
        "1. **Condição**: `numero % 2 == 0` verifica se o número é par.\n",
        "2. **Valor se verdadeiro**: Se a condição for verdadeira, a variável `resultado` recebe o valor `\"Par\"`.\n",
        "3. **Valor se falso**: Se a condição for falsa, `resultado` recebe o valor `\"Ímpar\"`.\n",
        "4. **Saída**: O programa imprime o resultado, que neste caso seria `\"Par\"`.\n",
        "\n",
        "### Vantagens do If Ternário\n",
        "\n",
        "- **Conciso**: Permite escrever código mais curto e legível para atribuições simples.\n",
        "- **Clareza**: Pode tornar o código mais claro quando usado em situações simples.\n",
        "\n",
        "### Considerações\n",
        "\n",
        "- **Complexidade**: Evite usar if ternário para condições complexas ou aninhadas, pois isso pode dificultar\n",
        "a leitura do código.\n",
        "- **Legibilidade**: Sempre priorize a legibilidade do código. Se a condição for muito complexa, é melhor\n",
        "usar a estrutura `if` tradicional.\n",
        "\n",
        "O if ternário é uma ferramenta útil para simplificar atribuições condicionais em Python, mas deve ser\n",
        "usado com moderação.\n",
        "'''"
      ],
      "metadata": {
        "id": "dVEfnF7oBB0T"
      },
      "execution_count": null,
      "outputs": []
    },
    {
      "cell_type": "code",
      "source": [
        "# Exemplo\n",
        "saldo = 2000\n",
        "saque = 3000\n",
        "status = \"sucesso\" if saldo >= saque else \"falha\"\n",
        "print(f\"{status} ao realizar o saque!\")"
      ],
      "metadata": {
        "colab": {
          "base_uri": "https://localhost:8080/"
        },
        "id": "uazzbes9BuIm",
        "outputId": "d46d515e-9e43-4f9b-9a00-d19e61a58d7a"
      },
      "execution_count": 59,
      "outputs": [
        {
          "output_type": "stream",
          "name": "stdout",
          "text": [
            "falha ao realizar o saque!\n"
          ]
        }
      ]
    }
  ]
}