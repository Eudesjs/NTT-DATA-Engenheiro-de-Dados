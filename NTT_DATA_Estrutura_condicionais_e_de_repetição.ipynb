{
  "nbformat": 4,
  "nbformat_minor": 0,
  "metadata": {
    "colab": {
      "provenance": [],
      "authorship_tag": "ABX9TyPDEgQAnpRRx/LBkd0CNXJX",
      "include_colab_link": true
    },
    "kernelspec": {
      "name": "python3",
      "display_name": "Python 3"
    },
    "language_info": {
      "name": "python"
    }
  },
  "cells": [
    {
      "cell_type": "markdown",
      "metadata": {
        "id": "view-in-github",
        "colab_type": "text"
      },
      "source": [
        "<a href=\"https://colab.research.google.com/github/Eudesjs/NTT-DATA-Engenheiro-de-Dados/blob/main/NTT_DATA_Estrutura_condicionais_e_de_repeti%C3%A7%C3%A3o.ipynb\" target=\"_parent\"><img src=\"https://colab.research.google.com/assets/colab-badge.svg\" alt=\"Open In Colab\"/></a>"
      ]
    },
    {
      "cell_type": "markdown",
      "source": [
        "# ***1 - Identação e Blocos***\n",
        "Em Python, a indentação é crucial, pois define a estrutura do código e os blocos de código. Ao contrário de outras linguagens que usam chaves `{}` para delimitar blocos, Python utiliza espaços ou tabulações. Aqui estão alguns pontos importantes sobre indentação e blocos em Python:\n",
        "1. **Indentação Consistente**: Todos os blocos de código devem ser indentados de forma consistente. O padrão é usar 4 espaços por nível de indentação.\n",
        "2. **Blocos de Código**: Um bloco de código é um conjunto de instruções que são executadas juntas. Por exemplo, em estruturas de controle como `if`, `for`, `while`, e funções, o código dentro do bloco deve ser indentado.\n",
        "3. **Exemplo de Uso**:\n",
        "   ```python\n",
        "   def exemplo_funcao():\n",
        "       if True:\n",
        "           print(\"Este é um bloco de código indentado.\")\n",
        "       else:\n",
        "           print(\"Este é outro bloco de código indentado.\")\n",
        "   ```\n",
        "4. **Erro de Indentação**: Se a indentação não for consistente, Python levantará um erro de `IndentationError`.\n",
        "\n",
        "5. **Mistura de Espaços e Tabulações**: Evite misturar espaços e tabulações, pois isso pode causar erros de indentação.\n",
        "\n",
        "A indentação correta é essencial para a legibilidade e a execução correta do código em Python.\n"
      ],
      "metadata": {
        "id": "l0PW3Byvdf15"
      }
    },
    {
      "cell_type": "code",
      "execution_count": null,
      "metadata": {
        "colab": {
          "base_uri": "https://localhost:8080/"
        },
        "id": "B0IKvuiOcpyv",
        "outputId": "8d5c8305-44e1-4217-802f-86d93e3cb20a"
      },
      "outputs": [
        {
          "output_type": "stream",
          "name": "stdout",
          "text": [
            "Saldo insuficiente\n",
            "Entre em contato com seu gerente\n"
          ]
        }
      ],
      "source": [
        "# Exemplo de Identação\n",
        "def sacar(valor): # Identação do Bloco Sacar\n",
        "  saldo = 1000 # Identação do Bloco Sacar\n",
        "\n",
        "  if valor <= saldo: # Identação do Metodo If\n",
        "    print(\"valor sacado\")\n",
        "    print(\"Retire o dinheiro no boca do caixa\")\n",
        "\n",
        "\n",
        "  else: # Identação do  Metodo Else\n",
        "    valor > saldo # Identação do Metodo Else\n",
        "    print(\"Saldo insuficiente\")\n",
        "    print(\"Entre em contato com seu gerente\")\n",
        "\n",
        "sacar(2000)"
      ]
    },
    {
      "cell_type": "code",
      "source": [
        "# Exemplo\n",
        "def depositar(valor):\n",
        "  saldo = 1000\n",
        "  saldo += valor\n",
        "  print(saldo)\n",
        "\n",
        "depositar(2000) # Identação do Bloco Depositar"
      ],
      "metadata": {
        "colab": {
          "base_uri": "https://localhost:8080/"
        },
        "id": "OYL8viS4jIX8",
        "outputId": "eb577aae-06c8-4cf8-81ab-7b7fae79ee33"
      },
      "execution_count": null,
      "outputs": [
        {
          "output_type": "stream",
          "name": "stdout",
          "text": [
            "3000\n"
          ]
        }
      ]
    },
    {
      "cell_type": "markdown",
      "source": [
        "# 2 - ***Estrutura Condicionais***\n",
        "As estruturas condicionais em Python permitem que você execute diferentes blocos de código com base em condições específicas. As principais estruturas condicionais são `if`, `elif` e `else`. Aqui está uma explicação detalhada de cada uma delas:\n",
        "\n",
        "### 1. Estrutura `if`\n",
        "A estrutura `if` é usada para testar uma condição. Se a condição for verdadeira, o bloco de código dentro do `if` será executado.\n",
        "\n",
        "```python\n",
        "if condição:\n",
        "    # bloco de código a ser executado se a condição for verdadeira\n",
        "```\n",
        "### 2. Estrutura `elif`\n",
        "A estrutura `elif` (abreviação de \"else if\") permite testar múltiplas condições. Se a condição do `if` for falsa, o Python verifica a condição do `elif`.\n",
        "\n",
        "```python\n",
        "if condição1:\n",
        "    # bloco de código se condição1 for verdadeira\n",
        "elif condição2:\n",
        "    # bloco de código se condição2 for verdadeira\n",
        "```\n",
        "### 3. Estrutura `else`\n",
        "A estrutura `else` é usada para executar um bloco de código quando todas as condições anteriores (`if` e `elif`) são falsas.\n",
        "\n",
        "```python\n",
        "if condição1:\n",
        "    # bloco de código se condição1 for verdadeira\n",
        "elif condição2:\n",
        "    # bloco de código se condição2 for verdadeira\n",
        "else:\n",
        "    # bloco de código se nenhuma das condições anteriores for verdadeira\n",
        "```\n",
        "### Exemplo Completo\n",
        "Aqui está um exemplo que combina todas as estruturas condicionais:\n",
        "\n",
        "```python\n",
        "nota = 85\n",
        "\n",
        "if nota >= 90:\n",
        "    print(\"Aprovado com Distinção\")\n",
        "elif nota >= 75:\n",
        "    print(\"Aprovado\")\n",
        "elif nota >= 60:\n",
        "    print(\"Recuperação\")\n",
        "else:\n",
        "    print(\"Reprovado\")\n",
        "```\n",
        "### Considerações\n",
        "- As condições podem ser expressões booleanas que retornam `True` ou `False`.\n",
        "- Você pode usar operadores lógicos (`and`, `or`, `not`) para combinar condições.\n",
        "- A indentação é importante para definir quais linhas pertencem a cada bloco condicional.\n",
        "\n",
        "Essas estruturas são fundamentais para controlar o fluxo de execução do seu programa em Python.\n"
      ],
      "metadata": {
        "id": "CNEwx5skkMfp"
      }
    },
    {
      "cell_type": "code",
      "source": [
        "# Exemplo usando if e else\n",
        "saldo = 2000.00\n",
        "saque = float(input(\"Informe o valor do saque:\" ))\n",
        "\n",
        "if saldo >= saque:\n",
        "  print(\"Realizando Saque\")\n",
        "else:\n",
        "  print(\"Saldo Insuficiente\")\n",
        "  print(\"Entre em contato com seu gerente)"
      ],
      "metadata": {
        "colab": {
          "base_uri": "https://localhost:8080/"
        },
        "id": "NQF39VdTkr6r",
        "outputId": "b4340676-e114-43f9-e9a0-569516b276ed"
      },
      "execution_count": null,
      "outputs": [
        {
          "output_type": "stream",
          "name": "stdout",
          "text": [
            "Informe o valor do saque:2500\n",
            "Saldo Insuficiente\n"
          ]
        }
      ]
    },
    {
      "cell_type": "code",
      "source": [
        "# Exemplo usando if, elif e else\n",
        "opcao = int(input(\"Informe uma opção: [1] Sacar [2] Estrato: \"))\n",
        "\n",
        "if opcao == 1:\n",
        "  valor = float(input(\"Informe o valor do saque: \"))\n",
        "\n",
        "elif opcao == 2:\n",
        "  print(\"Exibindo extrato...\")\n",
        "\n",
        "else:\n",
        "  print(\"Opção invalida\") # sys.exit\n",
        "  print(\"Obrigado por ser nosso cliente, tenha um bom dia!\")"
      ],
      "metadata": {
        "colab": {
          "base_uri": "https://localhost:8080/"
        },
        "id": "Y2-3JOwWqPZE",
        "outputId": "e928c51e-6855-4daa-d027-02041a32ed92"
      },
      "execution_count": null,
      "outputs": [
        {
          "output_type": "stream",
          "name": "stdout",
          "text": [
            "Informe uma opção: [1] Sacar [2] Estrato: 3\n",
            "Opção invalida\n",
            "Obrigado por ser nosso cliente, tenha um bom dia!\n"
          ]
        }
      ]
    },
    {
      "cell_type": "code",
      "source": [
        "# Exemplo CNH usando o if e else\n",
        "maior_Idade = 18\n",
        "\n",
        "idade = int(input(\"Informe sua Idade: \"))\n",
        "\n",
        "if idade >= maior_Idade:\n",
        "  print(\"Maior Idade pode tirar a CNH!\")\n",
        "\n",
        "else:\n",
        "  print(\"Menor de Idade, Ainda nao pode tirar a CNH!\")"
      ],
      "metadata": {
        "colab": {
          "base_uri": "https://localhost:8080/"
        },
        "id": "xghJfBM9sLQb",
        "outputId": "22f9c379-df32-4b4a-f452-2521f82cd94c"
      },
      "execution_count": null,
      "outputs": [
        {
          "output_type": "stream",
          "name": "stdout",
          "text": [
            "Informe sua Idade: 15\n",
            "Menor de Idade, Ainda nao pode tirar a CNH\n"
          ]
        }
      ]
    },
    {
      "cell_type": "code",
      "source": [
        "# Exemplo usando if elif e else\n",
        "idade_Ideal_CNH = 18\n",
        "idade_Especial = 16\n",
        "\n",
        "idade = int(input(\"Informe sua Idade: \"))\n",
        "\n",
        "if idade >= idade_Ideal_CNH:\n",
        "  print(\"Idade Ideal para tira a CNH!\")\n",
        "\n",
        "elif (idade < idade_Ideal_CNH) and (idade >= idade_Especial):\n",
        "  print(\"Ainda nao Pode tira a CNH!, Mais pode fazer aulas teoricas!\")\n",
        "\n",
        "else:\n",
        "  print(\"Menor de Idade! Requerimento Negado!\")"
      ],
      "metadata": {
        "colab": {
          "base_uri": "https://localhost:8080/"
        },
        "id": "9RT_uu00tmQv",
        "outputId": "6abd4c97-d85c-4301-bd24-5e0394d6f3ea"
      },
      "execution_count": null,
      "outputs": [
        {
          "output_type": "stream",
          "name": "stdout",
          "text": [
            "Informe sua Idade: 14\n",
            "Menor de Idade! Requerimento Negado!\n"
          ]
        }
      ]
    },
    {
      "cell_type": "code",
      "source": [
        "# Exemplo de If Alinhado\n",
        "'''\n",
        "Um \"if aninhado\" em Python refere-se a uma estrutura condicional onde um bloco `if` está contido dentro de\n",
        "outro bloco `if`. Isso permite testar múltiplas condições de forma hierárquica. Aqui está como funciona:\n",
        "### Estrutura de If Aninhado\n",
        "```python\n",
        "if condição1:\n",
        "    # bloco de código se condição1 for verdadeira\n",
        "    if condição2:\n",
        "        # bloco de código se condição2 for verdadeira\n",
        "    else:\n",
        "        # bloco de código se condição2 for falsa\n",
        "else:\n",
        "    # bloco de código se condição1 for falsa\n",
        "```\n",
        "### Exemplo de If Aninhado\n",
        "Vamos considerar um exemplo prático que determina a classificação de um aluno com base em sua nota e se ele\n",
        "participou de uma atividade extra:\n",
        "```python\n",
        "nota = 85\n",
        "participou_atividade_extra = True\n",
        "if nota >= 60:\n",
        "    print(\"Aprovado\")\n",
        "    if participou_atividade_extra:\n",
        "        print(\"Parabéns! Você recebeu um bônus pela atividade extra.\")\n",
        "    else:\n",
        "        print(\"Você não participou da atividade extra.\")\n",
        "else:\n",
        "    print(\"Reprovado\")\n",
        "```\n",
        "### Explicação do Exemplo\n",
        "1. **Primeiro `if`**: Verifica se a nota é maior ou igual a 60. Se for, o aluno é considerado \"Aprovado\".\n",
        "2. **Segundo `if` (aninhado)**: Dentro do bloco do primeiro `if`, verifica se o aluno participou de uma\n",
        "atividade extra. Dependendo do resultado, imprime uma mensagem apropriada.\n",
        "3. **`else` do primeiro `if`**: Se a nota for menor que 60, imprime \"Reprovado\".\n",
        "\n",
        "### Considerações\n",
        "- **Indentação**: A indentação é crucial para definir quais blocos de código pertencem a cada condição.\n",
        "- **Complexidade**: Evite aninhar muitos `if` para não tornar o código difícil de ler. Em casos complexos,\n",
        "considere usar funções ou outras estruturas de controle.\n",
        "\n",
        "Os `if` aninhados são úteis para situações onde você precisa de múltiplas verificações de condições, mas\n",
        "devem ser usados com cuidado para manter a clareza do código.\n",
        "'''"
      ],
      "metadata": {
        "id": "dS6fhgHMwNC8"
      },
      "execution_count": null,
      "outputs": []
    },
    {
      "cell_type": "code",
      "source": [
        "# Exemplo If Aninhado\n",
        "conta_normal = True\n",
        "conta_universitaria = False\n",
        "\n",
        "saldo = 2000\n",
        "saque = 2500\n",
        "cheque_especial = 500\n",
        "\n",
        "if conta_normal:\n",
        "  if saldo >= saque:\n",
        "    print(\"Saque realizado com Sucesso!\")\n",
        "\n",
        "  elif saque <= (saldo + cheque_especial):\n",
        "    print(\"Saque realizado com uso do cheque especial!\")\n",
        "  else:\n",
        "    print(\"Não foi possivel realizar o saque, saldo insuficiente!\")\n",
        "\n",
        "elif conta_universitaria:\n",
        "  if saldo >= saque:\n",
        "    print(\"Saque realizado com sucesso!\")\n",
        "  else:\n",
        "    print(\"Saldo insuficiente!\")\n",
        "\n",
        "#saque = float(input(\"Informe o valor do saque: \"))\n",
        "print(\"Obrigado por ser nosso cliente, tenha um bom dia!\")\n",
        "\n"
      ],
      "metadata": {
        "id": "Gt5cda73xNGr",
        "colab": {
          "base_uri": "https://localhost:8080/"
        },
        "outputId": "9aa2eec1-bf9a-4210-a646-a0e73912e8a1"
      },
      "execution_count": null,
      "outputs": [
        {
          "output_type": "stream",
          "name": "stdout",
          "text": [
            "Saque realizado com uso do cheque especial!\n",
            "Obrigado por ser nosso cliente, tenha um bom dia!\n"
          ]
        }
      ]
    },
    {
      "cell_type": "code",
      "source": [
        "# if ternario\n",
        "'''\n",
        "O \"if ternário\" em Python é uma forma concisa de escrever uma expressão condicional. Ele permite que você\n",
        "atribua um valor a uma variável com base em uma condição, tudo em uma única linha. A sintaxe básica é a\n",
        "seguinte:\n",
        "\n",
        "```python\n",
        "variavel = valor_se_verdadeiro if condição else valor_se_falso\n",
        "```\n",
        "\n",
        "### Exemplo de If Ternário\n",
        "Aqui está um exemplo prático que determina se um número é par ou ímpar usando um if ternário:\n",
        "\n",
        "```python\n",
        "numero = 10\n",
        "resultado = \"Par\" if numero % 2 == 0 else \"Ímpar\"\n",
        "print(resultado)\n",
        "```\n",
        "### Explicação do Exemplo\n",
        "\n",
        "1. **Condição**: `numero % 2 == 0` verifica se o número é par.\n",
        "2. **Valor se verdadeiro**: Se a condição for verdadeira, a variável `resultado` recebe o valor `\"Par\"`.\n",
        "3. **Valor se falso**: Se a condição for falsa, `resultado` recebe o valor `\"Ímpar\"`.\n",
        "4. **Saída**: O programa imprime o resultado, que neste caso seria `\"Par\"`.\n",
        "\n",
        "### Vantagens do If Ternário\n",
        "\n",
        "- **Conciso**: Permite escrever código mais curto e legível para atribuições simples.\n",
        "- **Clareza**: Pode tornar o código mais claro quando usado em situações simples.\n",
        "\n",
        "### Considerações\n",
        "\n",
        "- **Complexidade**: Evite usar if ternário para condições complexas ou aninhadas, pois isso pode dificultar\n",
        "a leitura do código.\n",
        "- **Legibilidade**: Sempre priorize a legibilidade do código. Se a condição for muito complexa, é melhor\n",
        "usar a estrutura `if` tradicional.\n",
        "\n",
        "O if ternário é uma ferramenta útil para simplificar atribuições condicionais em Python, mas deve ser\n",
        "usado com moderação.\n",
        "'''"
      ],
      "metadata": {
        "id": "dVEfnF7oBB0T"
      },
      "execution_count": null,
      "outputs": []
    },
    {
      "cell_type": "code",
      "source": [
        "# Exemplo\n",
        "saldo = 2000\n",
        "saque = 3000\n",
        "status = \"sucesso\" if saldo >= saque else \"falha\"\n",
        "print(f\"{status} ao realizar o saque!\")"
      ],
      "metadata": {
        "colab": {
          "base_uri": "https://localhost:8080/"
        },
        "id": "uazzbes9BuIm",
        "outputId": "d46d515e-9e43-4f9b-9a00-d19e61a58d7a"
      },
      "execution_count": null,
      "outputs": [
        {
          "output_type": "stream",
          "name": "stdout",
          "text": [
            "falha ao realizar o saque!\n"
          ]
        }
      ]
    },
    {
      "cell_type": "markdown",
      "source": [
        "# ***3 - Estrutura de Repetição***\n",
        "As estruturas de repetição em Python permitem que você execute um bloco de código várias vezes, com base em uma condição ou em uma sequência de elementos. As principais estruturas de repetição em Python são `for` e `while`. Aqui está uma explicação detalhada de cada uma delas:\n",
        "\n",
        "### 1. Estrutura `for`\n",
        "\n",
        "A estrutura `for` é usada para iterar sobre uma sequência (como uma lista, tupla, dicionário, conjunto ou string). A sintaxe básica é:\n",
        "\n",
        "```python\n",
        "for elemento in sequencia:\n",
        "    # bloco de código a ser executado para cada elemento\n",
        "```\n",
        "\n",
        "#### Exemplo de `for`\n",
        "\n",
        "```python\n",
        "frutas = [\"maçã\", \"banana\", \"laranja\"]\n",
        "\n",
        "for fruta in frutas:\n",
        "    print(fruta)\n",
        "```\n",
        "\n",
        "### 2. Estrutura `while`\n",
        "\n",
        "A estrutura `while` executa um bloco de código enquanto uma condição for verdadeira. A sintaxe básica é:\n",
        "\n",
        "```python\n",
        "while condição:\n",
        "    # bloco de código a ser executado enquanto a condição for verdadeira\n",
        "```\n",
        "\n",
        "#### Exemplo de `while`\n",
        "\n",
        "```python\n",
        "contador = 0\n",
        "\n",
        "while contador < 5:\n",
        "    print(\"Contador:\", contador)\n",
        "    contador += 1  # Incrementa o contador\n",
        "```\n",
        "\n",
        "### 3. Controle de Fluxo em Estruturas de Repetição\n",
        "\n",
        "Você pode usar as instruções `break` e `continue` para controlar o fluxo dentro das estruturas de repetição:\n",
        "\n",
        "- **`break`**: Interrompe o loop imediatamente.\n",
        "- **`continue`**: Pula a iteração atual e continua com a próxima.\n",
        "\n",
        "#### Exemplo com `break` e `continue`\n",
        "\n",
        "```python\n",
        "for numero in range(10):\n",
        "    if numero == 5:\n",
        "        break  # Interrompe o loop quando numero é 5\n",
        "    if numero % 2 == 0:\n",
        "        continue  # Pula a iteração se numero for par\n",
        "    print(numero)  # Imprime apenas números ímpares\n",
        "```\n",
        "\n",
        "### Considerações\n",
        "\n",
        "- **Indentação**: A indentação é importante para definir quais linhas pertencem ao bloco de repetição.\n",
        "- **Evitar loops infinitos**: Tenha cuidado ao usar `while`, pois se a condição nunca se tornar falsa, você pode criar um loop infinito.\n",
        "- **Iteradores e Compreensões**: Python também suporta iteradores e compreensões de lista, que são formas concisas de criar listas a partir de loops.\n",
        "\n",
        "As estruturas de repetição são fundamentais para a programação, permitindo que você execute tarefas repetitivas de maneira eficiente e organizada.\n"
      ],
      "metadata": {
        "id": "HR5vCm9OeOVU"
      }
    },
    {
      "cell_type": "code",
      "source": [
        "# Exemplo sem Repetição\n",
        "\n",
        "a = int(input(\"Informe um numero inteiro: \"))\n",
        "print(a)\n",
        "\n",
        "a += 1 # a = a + 1 incrementar\n",
        "print(a)\n",
        "\n",
        "a += 1 # a = a + 1 incrementar\n",
        "print(a)\n",
        "\n"
      ],
      "metadata": {
        "id": "MhgZzfr-e704",
        "outputId": "99fcab4b-a548-4e4e-8f93-850bc9dd79a3",
        "colab": {
          "base_uri": "https://localhost:8080/"
        }
      },
      "execution_count": 1,
      "outputs": [
        {
          "output_type": "stream",
          "name": "stdout",
          "text": [
            "Informe um numero inteiro: 5\n",
            "5\n",
            "6\n",
            "7\n"
          ]
        }
      ]
    },
    {
      "cell_type": "code",
      "source": [
        "# Comando For\n",
        "'''\n",
        "O comando `for` em Python é uma estrutura de repetição que permite iterar sobre elementos de uma sequência,\n",
        "como listas, tuplas, dicionários, conjuntos ou strings. A sintaxe básica do comando `for` é:\n",
        "```python\n",
        "for elemento in sequencia:\n",
        "    # bloco de código a ser executado para cada elemento\n",
        "```\n",
        "### Exemplos de Uso do Comando `for`\n",
        "#### 1. Iterando sobre uma Lista\n",
        "```python\n",
        "frutas = [\"maçã\", \"banana\", \"laranja\"]\n",
        "\n",
        "for fruta in frutas:\n",
        "    print(fruta)\n",
        "```\n",
        "**Saída:**\n",
        "```\n",
        "maçã\n",
        "banana\n",
        "laranja\n",
        "```\n",
        "#### 2. Iterando sobre um Intervalo de Números\n",
        "Você pode usar a função `range()` para gerar uma sequência de números.\n",
        "\n",
        "```python\n",
        "for numero in range(5):  # Gera números de 0 a 4\n",
        "    print(numero)\n",
        "```\n",
        "**Saída:**\n",
        "```\n",
        "0\n",
        "1\n",
        "2\n",
        "3\n",
        "4\n",
        "```\n",
        "#### 3. Iterando sobre um Dicionário\n",
        "Ao iterar sobre um dicionário, você pode acessar tanto as chaves quanto os valores.\n",
        "\n",
        "```python\n",
        "dicionario = {\"nome\": \"Alice\", \"idade\": 30, \"cidade\": \"São Paulo\"}\n",
        "\n",
        "for chave, valor in dicionario.items():\n",
        "    print(f\"{chave}: {valor}\")\n",
        "```\n",
        "**Saída:**\n",
        "```\n",
        "nome: Alice\n",
        "idade: 30\n",
        "cidade: São Paulo\n",
        "```\n",
        "#### 4. Usando `enumerate()`\n",
        "A função `enumerate()` permite que você obtenha o índice e o valor ao iterar sobre uma lista.\n",
        "\n",
        "```python\n",
        "animais = [\"cachorro\", \"gato\", \"pássaro\"]\n",
        "\n",
        "for indice, animal in enumerate(animais):\n",
        "    print(f\"Índice {indice}: {animal}\")\n",
        "```\n",
        "**Saída:**\n",
        "```\n",
        "Índice 0: cachorro\n",
        "Índice 1: gato\n",
        "Índice 2: pássaro\n",
        "```\n",
        "### Controle de Fluxo com `for`\n",
        "Você pode usar as instruções `break` e `continue` dentro de um loop `for`:\n",
        "- **`break`**: Interrompe o loop imediatamente.\n",
        "\n",
        "```python\n",
        "for numero in range(10):\n",
        "    if numero == 5:\n",
        "        break  # Interrompe o loop quando numero é 5\n",
        "    print(numero)\n",
        "```\n",
        "**Saída:**\n",
        "```\n",
        "0\n",
        "1\n",
        "2\n",
        "3\n",
        "4\n",
        "```\n",
        "- **`continue`**: Pula a iteração atual e continua com a próxima.\n",
        "```python\n",
        "for numero in range(10):\n",
        "    if numero % 2 == 0:\n",
        "        continue  # Pula números pares\n",
        "    print(numero)\n",
        "```\n",
        "**Saída:**\n",
        "```\n",
        "1\n",
        "3\n",
        "5\n",
        "7\n",
        "9\n",
        "```\n",
        "### Considerações\n",
        "- O comando `for` é uma maneira poderosa e flexível de iterar sobre sequências em Python.\n",
        "- A indentação é crucial para definir quais linhas pertencem ao bloco de repetição.\n",
        "- O uso de `for` é preferido em Python para iterações em vez de usar um loop `while`, quando a quantidade\n",
        "de iterações é conhecida ou baseada em uma sequência.\n",
        "O comando `for` é uma ferramenta essencial para a programação em Python, permitindo a execução eficiente\n",
        "de operações repetitivas.\n",
        "'''"
      ],
      "metadata": {
        "id": "nF9mtvk6kxMv"
      },
      "execution_count": null,
      "outputs": []
    },
    {
      "cell_type": "code",
      "source": [
        "# Exemplo FOR\n",
        "\n",
        "texto = input(\"Informe um Texto: \")\n",
        "vogais = \"AEIOU\"\n",
        "\n",
        "for letra in texto:\n",
        "  if letra.upper() in vogais: # Letra.upper() maiuscula\n",
        "    print(letra, end=\"\") # end=\"\" para nao pular linha\n",
        "\n",
        "print()"
      ],
      "metadata": {
        "id": "Vb5otjhYl1U-",
        "outputId": "56bfef5e-2f32-45a2-a2c1-1e423e428030",
        "colab": {
          "base_uri": "https://localhost:8080/"
        }
      },
      "execution_count": 7,
      "outputs": [
        {
          "output_type": "stream",
          "name": "stdout",
          "text": [
            "Informe um Texto: eudes\n",
            "eue\n"
          ]
        }
      ]
    },
    {
      "cell_type": "code",
      "source": [
        "# Exemplo FOR Com RANGE\n",
        "lista = 10\n",
        "for numero in range(lista): # 0,1,2,3,4,5,6,7,8,9\n",
        "  print(numero, end=\" \") # end=\"\" para nao pular linha\n",
        "  lista += 1 # incremento (+=1) ou decremento (-=1)\n",
        "  print() # pula linha\n"
      ],
      "metadata": {
        "id": "eWH4K7p3oG-I",
        "outputId": "11c72903-4455-496c-f5d5-0b7c5f7a8e0a",
        "colab": {
          "base_uri": "https://localhost:8080/"
        }
      },
      "execution_count": 12,
      "outputs": [
        {
          "output_type": "stream",
          "name": "stdout",
          "text": [
            "0 \n",
            "1 \n",
            "2 \n",
            "3 \n",
            "4 \n",
            "5 \n",
            "6 \n",
            "7 \n",
            "8 \n",
            "9 \n"
          ]
        }
      ]
    },
    {
      "cell_type": "code",
      "source": [
        "# Exemplo FOR Com RANGE\n",
        "numero = int(input(\"Informe um Numero: \"))\n",
        "\n",
        "for numeros in range(numero): # 0,1,2,3,4,5,6,7,8,9\n",
        "  print(numeros, end=\"\") # end=\"\" para nao pular linha\n",
        "  numero += 1 # incremento (+=1) ou decremento (-=1)\n",
        "  print() # pula linha\n"
      ],
      "metadata": {
        "id": "J_N7u1oto9rk",
        "outputId": "84b93659-170d-45ff-984e-9e6acfe4acfe",
        "colab": {
          "base_uri": "https://localhost:8080/"
        }
      },
      "execution_count": 13,
      "outputs": [
        {
          "output_type": "stream",
          "name": "stdout",
          "text": [
            "Informe um Numero: 5\n",
            "0\n",
            "1\n",
            "2\n",
            "3\n",
            "4\n"
          ]
        }
      ]
    },
    {
      "cell_type": "code",
      "source": [
        "# Exemplo Exibir tabuada de 5\n",
        "\n",
        "for numero in range(0,51,5):\n",
        "  print(numero, end=\" \") # end=\"\" para nao pular linha\n",
        "  print() # pula linha"
      ],
      "metadata": {
        "id": "0kcRykgppsIM",
        "outputId": "40efd275-04a8-4abd-abba-e739645a9184",
        "colab": {
          "base_uri": "https://localhost:8080/"
        }
      },
      "execution_count": 15,
      "outputs": [
        {
          "output_type": "stream",
          "name": "stdout",
          "text": [
            "0 \n",
            "5 \n",
            "10 \n",
            "15 \n",
            "20 \n",
            "25 \n",
            "30 \n",
            "35 \n",
            "40 \n",
            "45 \n",
            "50 \n"
          ]
        }
      ]
    },
    {
      "cell_type": "code",
      "source": [
        "# Comando While\n",
        "'''\n",
        "O comando `while` em Python é uma estrutura de repetição que executa um bloco de código enquanto uma\n",
        "condição especificada for verdadeira. A sintaxe básica do comando `while` é:\n",
        "```python\n",
        "while condição:\n",
        "    # bloco de código a ser executado enquanto a condição for verdadeira\n",
        "```\n",
        "### Exemplos de Uso do Comando `while`\n",
        "#### 1. Contador Simples\n",
        "Um exemplo básico de um contador que imprime números de 0 a 4:\n",
        "\n",
        "```python\n",
        "contador = 0\n",
        "\n",
        "while contador < 5:\n",
        "    print(contador)\n",
        "    contador += 1  # Incrementa o contador\n",
        "```\n",
        "**Saída:**\n",
        "```\n",
        "0\n",
        "1\n",
        "2\n",
        "3\n",
        "4\n",
        "```\n",
        "#### 2. Loop Infinito\n",
        "Um loop `while` pode se tornar infinito se a condição nunca se tornar falsa. Aqui está um exemplo de um\n",
        "loop infinito (que deve ser evitado em código real):\n",
        "\n",
        "```python\n",
        "while True:\n",
        "    resposta = input(\"Digite 'sair' para encerrar: \")\n",
        "    if resposta.lower() == 'sair':\n",
        "        break  # Interrompe o loop se o usuário digitar 'sair'\n",
        "```\n",
        "#### 3. Usando `break` e `continue`\n",
        "Você pode usar as instruções `break` e `continue` dentro de um loop `while` para controlar o fluxo:\n",
        "- **`break`**: Interrompe o loop imediatamente.\n",
        "\n",
        "```python\n",
        "contador = 0\n",
        "\n",
        "while contador < 10:\n",
        "    if contador == 5:\n",
        "        break  # Interrompe o loop quando contador é 5\n",
        "    print(contador)\n",
        "    contador += 1\n",
        "```\n",
        "**Saída:**\n",
        "```\n",
        "0\n",
        "1\n",
        "2\n",
        "3\n",
        "4\n",
        "```\n",
        "- **`continue`**: Pula a iteração atual e continua com a próxima.\n",
        "```python\n",
        "contador = 0\n",
        "\n",
        "while contador < 10:\n",
        "    contador += 1\n",
        "    if contador % 2 == 0:\n",
        "        continue  # Pula números pares\n",
        "    print(contador)\n",
        "```\n",
        "**Saída:**\n",
        "```\n",
        "1\n",
        "3\n",
        "5\n",
        "7\n",
        "9\n",
        "```\n",
        "\n",
        "### Considerações\n",
        "- **Cuidado com Loops Infinitos**: Sempre tenha certeza de que a condição eventualmente se tornará falsa\n",
        "para evitar loops infinitos.\n",
        "- **Indentação**: A indentação é crucial para definir quais linhas pertencem ao bloco de repetição.\n",
        "- **Uso de `break` e `continue`**: Use essas instruções com moderação para manter a clareza do código.\n",
        "\n",
        "O comando `while` é útil quando você não sabe de antemão quantas iterações serão necessárias, permitindo\n",
        "que você execute um bloco de código até que uma condição específica seja atendida.\n",
        "'''"
      ],
      "metadata": {
        "id": "kEm9HvBhrYUk"
      },
      "execution_count": null,
      "outputs": []
    },
    {
      "cell_type": "code",
      "source": [
        "# Exemplo Comando While\n",
        "opcao = 1 # variavel de controle\n",
        "\n",
        "while opcao !=0: # Enquanto a opcao for diferente de 0\n",
        "  opcao = int(input(\"[1] Sacar \\n[2] Extrato \\n[0] Sair \\n: \"))\n",
        "\n",
        "  if opcao == 1:\n",
        "    print(\"Sacando...\")\n",
        "\n",
        "  elif opcao == 2:\n",
        "    print(\"Exibindo o Extrato...\")\n",
        "else:\n",
        "  print(\"Obrigado por ser nosso cliente, tenha um bom dia!\")"
      ],
      "metadata": {
        "id": "8ZtrYH39sKY2",
        "outputId": "b463187e-1504-43f4-c6ef-e7cf7aa7abc4",
        "colab": {
          "base_uri": "https://localhost:8080/"
        }
      },
      "execution_count": 17,
      "outputs": [
        {
          "output_type": "stream",
          "name": "stdout",
          "text": [
            "[1] Sacar \n",
            "[2] Extrato \n",
            "[0] Sair \n",
            ": 1\n",
            "Sacando...\n",
            "[1] Sacar \n",
            "[2] Extrato \n",
            "[0] Sair \n",
            ": 2\n",
            "Exibindo o Extrato...\n",
            "[1] Sacar \n",
            "[2] Extrato \n",
            "[0] Sair \n",
            ": 3\n",
            "[1] Sacar \n",
            "[2] Extrato \n",
            "[0] Sair \n",
            ": 0\n",
            "Obrigado por ser nosso cliente, tenha um bom dia!\n"
          ]
        }
      ]
    },
    {
      "cell_type": "code",
      "source": [
        "# Estrutura de Repetição Break\n",
        "\n",
        "while True: # Loop Infinito\n",
        "  numero = int(input(\"Informe um numero: \"))\n",
        "\n",
        "  if numero == 10:\n",
        "    break # Interrompe o Loop\n",
        "\n",
        "  print(numero)\n",
        "\n",
        "print(\"Saiu do Loop\")"
      ],
      "metadata": {
        "id": "vxnTODPctKJW",
        "outputId": "8f909a3f-8dee-41dc-d8a3-4082d7c3aef9",
        "colab": {
          "base_uri": "https://localhost:8080/"
        }
      },
      "execution_count": 18,
      "outputs": [
        {
          "output_type": "stream",
          "name": "stdout",
          "text": [
            "Informe um numero: 5\n",
            "5\n",
            "Informe um numero: 12\n",
            "12\n",
            "Informe um numero: 10\n",
            "Saiu do Loop\n"
          ]
        }
      ]
    },
    {
      "cell_type": "code",
      "source": [
        "# Estrutura de Repetição Continue\n",
        "\n",
        "while True: # Loop Infinito\n",
        "  numero = int(input(\"Informe um numero: \"))\n",
        "\n",
        "  if numero % 2 != 0:\n",
        "    continue # Pula o Loop\n",
        "\n",
        "  if numero == 10:\n",
        "    break # Interrompe o Loop\n",
        "\n",
        "  print(numero)\n",
        "\n",
        "print(\"Saiu do Loop\")"
      ],
      "metadata": {
        "id": "Gfh4dokZwZkZ",
        "outputId": "7f039722-0cc8-4861-9881-d4c54f971abb",
        "colab": {
          "base_uri": "https://localhost:8080/"
        }
      },
      "execution_count": 22,
      "outputs": [
        {
          "output_type": "stream",
          "name": "stdout",
          "text": [
            "Informe um numero: 1\n",
            "Informe um numero: 2\n",
            "2\n",
            "Informe um numero: 10\n",
            "Saiu do Loop\n"
          ]
        }
      ]
    },
    {
      "cell_type": "code",
      "source": [
        "# Exemplo Continue\n",
        "\n",
        "for numero in range(10):\n",
        "  if numero % 2 == 0: # Se o numero for par\n",
        "    continue # Pula o Loop\n",
        "  print(numero)"
      ],
      "metadata": {
        "id": "1TnbpnT6xB8S",
        "outputId": "09d2f8e7-2b1f-4ea3-ff9c-09f259ff6c55",
        "colab": {
          "base_uri": "https://localhost:8080/"
        }
      },
      "execution_count": 25,
      "outputs": [
        {
          "output_type": "stream",
          "name": "stdout",
          "text": [
            "1\n",
            "3\n",
            "5\n",
            "7\n",
            "9\n"
          ]
        }
      ]
    }
  ]
}