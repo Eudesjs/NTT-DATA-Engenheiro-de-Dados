{
  "nbformat": 4,
  "nbformat_minor": 0,
  "metadata": {
    "colab": {
      "provenance": [],
      "authorship_tag": "ABX9TyPpa1IPP13KYpE5dld/e9gl",
      "include_colab_link": true
    },
    "kernelspec": {
      "name": "python3",
      "display_name": "Python 3"
    },
    "language_info": {
      "name": "python"
    }
  },
  "cells": [
    {
      "cell_type": "markdown",
      "metadata": {
        "id": "view-in-github",
        "colab_type": "text"
      },
      "source": [
        "<a href=\"https://colab.research.google.com/github/Eudesjs/NTT-DATA-Engenheiro-de-Dados/blob/main/NTT_DATA__Dominando_Fun%C3%A7%C3%B5es_Python.ipynb\" target=\"_parent\"><img src=\"https://colab.research.google.com/assets/colab-badge.svg\" alt=\"Open In Colab\"/></a>"
      ]
    },
    {
      "cell_type": "markdown",
      "source": [
        "# ***1 - Funções Python***\n",
        "Funções em Python são blocos de código reutilizáveis que realizam uma tarefa específica. Elas permitem organizar o código, tornando-o mais legível e modular. Aqui estão os principais pontos sobre funções em Python:\n",
        "\n",
        "1. **Definição**: Uma função é definida usando a palavra-chave `def`, seguida pelo nome da função e parênteses. Exemplo:\n",
        "   ```python\n",
        "   def minha_funcao():\n",
        "       print(\"Olá, Mundo!\")\n",
        "   ```\n",
        "\n",
        "2. **Chamada**: Para executar uma função, você a chama pelo nome seguido de parênteses:\n",
        "   ```python\n",
        "   minha_funcao()  # Saída: Olá, Mundo!\n",
        "   ```\n",
        "\n",
        "3. **Parâmetros**: Funções podem receber dados de entrada, chamados de parâmetros. Exemplo:\n",
        "   ```python\n",
        "   def saudacao(nome):\n",
        "       print(f\"Olá, {nome}!\")\n",
        "   saudacao(\"Alice\")  # Saída: Olá, Alice!\n",
        "   ```\n",
        "\n",
        "4. **Retorno**: Funções podem retornar valores usando a palavra-chave `return`. Exemplo:\n",
        "   ```python\n",
        "   def soma(a, b):\n",
        "       return a + b\n",
        "   resultado = soma(5, 3)  # resultado será 8\n",
        "   ```\n",
        "\n",
        "5. **Escopo**: Variáveis definidas dentro de uma função têm escopo local e não podem ser acessadas fora dela.\n",
        "\n",
        "Esses conceitos básicos ajudam a entender como usar funções para estruturar programas em Python de forma eficiente.\n"
      ],
      "metadata": {
        "id": "7RrmP_cw7xn6"
      }
    },
    {
      "cell_type": "code",
      "execution_count": 7,
      "metadata": {
        "colab": {
          "base_uri": "https://localhost:8080/"
        },
        "id": "-UwcRAgc66wl",
        "outputId": "2f3dd06b-3414-41ff-c3a4-0440b1f118cf"
      },
      "outputs": [
        {
          "output_type": "stream",
          "name": "stdout",
          "text": [
            "Olá Mundo!\n",
            "Estou Aprendendo Python\n",
            "None\n"
          ]
        }
      ],
      "source": [
        "# Funções Python 1\n",
        "# Exemplo 1\n",
        "\n",
        "def exibir_mensagem(): # Definir a Função Exibir_Nome() Identificador Nao definir nenhum argumento no ()\n",
        "  print(\"Olá Mundo!\") # definir o valor da função exibir_nome\n",
        "  print(\"Estou Aprendendo Python\") # definir o valor da função exibir_nome\n",
        "\n",
        "print(exibir_mensagem()) # Chamar a função exibir_nome e exibir o valor retornado\n"
      ]
    },
    {
      "cell_type": "code",
      "source": [
        "# Exemplo 2\n",
        "\n",
        "def exibir_mensagem2(nome): # Definir a Função Exibir_Nome() Identificador declarei no () nome\n",
        "  print(f\"Olá {nome}!\") # definir o valor da função exibir_nome\n",
        "  print(\"Bem Vindo ao Curso!\") # definir o valor da função exibir_nome\n",
        "\n",
        "print(exibir_mensagem2(\"Eudes Silva\")) # Chamar a função exibir_nome e exibir o valor retornado\n"
      ],
      "metadata": {
        "colab": {
          "base_uri": "https://localhost:8080/"
        },
        "id": "gYiies-G-fEm",
        "outputId": "1e0395d3-30cb-4fe3-b62f-209b49dcafc7"
      },
      "execution_count": 9,
      "outputs": [
        {
          "output_type": "stream",
          "name": "stdout",
          "text": [
            "Olá Eudes Silva!\n",
            "Bem Vindo ao Curso!\n",
            "None\n"
          ]
        }
      ]
    },
    {
      "cell_type": "code",
      "source": [
        "# Exemplo 3\n",
        "\n",
        "def exibir_mensagem(nome, curso): # Definir a Função Exibir_Nome() Identificador declarei no () nome, curso\n",
        "  print(f\"Olá {nome}!\") # definir o valor da função exibir_nome\n",
        "  print(f\"Bem Vindo ao Curso de {curso}!\") # definir o valor da função exibir_\n",
        "  print(\"Espero te ajudar a voce ingressar no mercado de trabalho!\") # definir o valor da função exibir_nome\n",
        "\n",
        "print(exibir_mensagem(\"Eudes Silva\", \"Python\")) # Chamar a função exibir_nome e exibir o valor retornado"
      ],
      "metadata": {
        "colab": {
          "base_uri": "https://localhost:8080/"
        },
        "id": "hj6Oxwzd_UMz",
        "outputId": "d7b3303f-95a4-4cc6-97d7-adecbb9c7524"
      },
      "execution_count": 11,
      "outputs": [
        {
          "output_type": "stream",
          "name": "stdout",
          "text": [
            "Olá Eudes Silva!\n",
            "Bem Vindo ao Curso de Python!\n",
            "Espero te ajudar a voce ingressar no mercado de trabalho!\n",
            "None\n"
          ]
        }
      ]
    },
    {
      "cell_type": "markdown",
      "source": [
        "## ***1.1 - FUNÇÃO Retornando Valores***\n",
        "Uma função que retorna valores em Python é uma função que, após executar suas operações, envia um resultado de volta ao ponto onde foi chamada. Isso é feito usando a palavra-chave `return`. Aqui estão os principais pontos sobre funções que retornam valores:\n",
        "\n",
        "1. **Definição**: Para criar uma função que retorna um valor, você deve usar `return` seguido do valor ou expressão que deseja retornar. Exemplo:\n",
        "   ```python\n",
        "   def quadrado(x):\n",
        "       return x * x\n",
        "   ```\n",
        "\n",
        "2. **Chamada e Recebimento**: Ao chamar a função, você pode armazenar o valor retornado em uma variável. Exemplo:\n",
        "   ```python\n",
        "   resultado = quadrado(4)  # resultado será 16\n",
        "   ```\n",
        "\n",
        "3. **Múltiplos Valores**: Uma função pode retornar múltiplos valores como uma tupla. Exemplo:\n",
        "   ```python\n",
        "   def operacoes(a, b):\n",
        "       soma = a + b\n",
        "       produto = a * b\n",
        "       return soma, produto\n",
        "   resultado = operacoes(3, 5)  # resultado será (8, 15)\n",
        "   ```\n",
        "\n",
        "4. **Uso do Valor Retornado**: O valor retornado pode ser usado em expressões ou passado para outras funções. Exemplo:\n",
        "   ```python\n",
        "   print(quadrado(5))  # Saída: 25\n",
        "   ```\n",
        "\n",
        "Esses conceitos permitem que você crie funções que não apenas realizam tarefas, mas também fornecem resultados que podem ser utilizados em outras partes do seu código.\n"
      ],
      "metadata": {
        "id": "7gLJLJ4jA6WW"
      }
    },
    {
      "cell_type": "code",
      "source": [
        "# Função Retornando Valores.\n",
        "# Exemplo 1\n",
        "\n",
        "def calcular_total(numeros): # Definir a funcao Calcular_total com o Paramentro Numeros\n",
        "  return sum(numeros) # Retornar a soma dos numeros\n",
        "\n",
        "print(calcular_total([10, 20, 34, 56, 78])) # Chamar a função calcular_total e exibir o valor retornado"
      ],
      "metadata": {
        "colab": {
          "base_uri": "https://localhost:8080/"
        },
        "id": "_YsnSwx_Av6T",
        "outputId": "899d7dbb-e6af-49d6-8313-4d9ef71bcc99"
      },
      "execution_count": 13,
      "outputs": [
        {
          "output_type": "stream",
          "name": "stdout",
          "text": [
            "198\n"
          ]
        }
      ]
    },
    {
      "cell_type": "code",
      "source": [
        "# Exemplo 2\n",
        "\n",
        "def retorna_antecessor_sucessor(numero): # Definir a função retorna_antecessor_e_sucessor com o parametro numero\n",
        "  antecessor = numero - 1 # atribuir a variavel antecessor o valor do paramentro numero -1\n",
        "  sucessor = numero + 1 # atribuir a variavel sucessor o valor do paramentro numero +1\n",
        "  return antecessor, sucessor # retornar a variavel antecessor e sucessor\n",
        "\n",
        "print(retorna_antecessor_sucessor(10)) # Chamar a função retorna_antecessor_e_sucessor e exibir o valor retornado\n",
        "print(type(retorna_antecessor_sucessor(10))) # exibir o tipo da variavel retorna_antecessor_e_sucessor em tupla"
      ],
      "metadata": {
        "colab": {
          "base_uri": "https://localhost:8080/"
        },
        "id": "agwICCebBox9",
        "outputId": "9cfea706-9476-4362-89e8-a2d1b2008fbe"
      },
      "execution_count": 17,
      "outputs": [
        {
          "output_type": "stream",
          "name": "stdout",
          "text": [
            "(9, 11)\n",
            "<class 'tuple'>\n"
          ]
        }
      ]
    },
    {
      "cell_type": "code",
      "source": [
        "# Arumentos Nomeados\n",
        "'''\n",
        "Argumentos nomeados em Python são uma forma de passar valores para funções usando o nome dos parâmetros,\n",
        "em vez de apenas sua posição. Isso torna o código mais legível e flexível. Aqui estão os principais pontos\n",
        "sobre argumentos nomeados:\n",
        "1. **Definição**: Ao definir uma função, você pode especificar parâmetros. Quando chama a função, pode\n",
        "passar argumentos usando o nome do parâmetro. Exemplo:\n",
        "   ```python\n",
        "   def saudacao(nome, idade):\n",
        "       print(f\"Olá, {nome}! Você tem {idade} anos.\")\n",
        "   ```\n",
        "2. **Chamada com Argumentos Nomeados**: Ao chamar a função, você pode usar os nomes dos parâmetros para\n",
        "passar os valores:\n",
        "   ```python\n",
        "   saudacao(idade=30, nome=\"Alice\")  # Saída: Olá, Alice! Você tem 30 anos.\n",
        "   ```\n",
        "3. **Ordem dos Argumentos**: Com argumentos nomeados, a ordem não importa. Você pode passar os argumentos\n",
        "na ordem que preferir, desde que use os nomes corretos.\n",
        "4. **Argumentos Opcionais**: Você pode definir valores padrão para parâmetros, permitindo que sejam\n",
        "omitidos ao chamar a função. Exemplo:\n",
        "   ```python\n",
        "   def saudacao(nome, idade=18):\n",
        "       print(f\"Olá, {nome}! Você tem {idade} anos.\")\n",
        "   saudacao(\"Bob\")  # Saída: Olá, Bob! Você tem 18 anos.\n",
        "   ```\n",
        "Os argumentos nomeados ajudam a tornar o código mais claro e a evitar erros, especialmente em funções com\n",
        "muitos parâmetros.\n",
        "'''"
      ],
      "metadata": {
        "id": "AxnhhmKzDUjq"
      },
      "execution_count": null,
      "outputs": []
    },
    {
      "cell_type": "code",
      "source": [
        "# Exemplo 1\n",
        "\n",
        "def salvar_carro(marca, modelo, ano, placa): # Salvar carro no banco de dados\n",
        "  print(f\"Carro inserido com sucesso! {marca}/{modelo}/{ano}/{placa}\") # Exibir a mensagem com os valores dos parametros\n",
        "\n",
        "salvar_carro(\"Fiat\", \"Palio\", 1999, \"ABC-1234\") # Chamar a função salvar_carro e exibir o valor retornado\n",
        "type(salvar_carro) # exibir o tipo da variavel salvar_carro\n"
      ],
      "metadata": {
        "colab": {
          "base_uri": "https://localhost:8080/"
        },
        "id": "lgCAN1v-EGow",
        "outputId": "379d2973-113a-4aee-d94d-cedbfc7755d2"
      },
      "execution_count": 26,
      "outputs": [
        {
          "output_type": "stream",
          "name": "stdout",
          "text": [
            "Carro inserido com sucesso! Fiat/Palio/1999/ABC-1234\n"
          ]
        },
        {
          "output_type": "execute_result",
          "data": {
            "text/plain": [
              "function"
            ]
          },
          "metadata": {},
          "execution_count": 26
        }
      ]
    },
    {
      "cell_type": "code",
      "source": [
        "# Exemplo 2\n",
        "\n",
        "def salvar_carro(marca, modelo, ano, placa): # Salvar carro no banco de dados\n",
        "  print(f\"Carro inserido com sucesso! {marca}/{modelo}/{ano}/{placa}\") # Exibir a mensagem com os valores dos parametros\n",
        "\n",
        "salvar_carro(marca = \"Fiat\", modelo = \"Palio\", ano = 1999, placa = \"ABC-1234\") # Chamar a função salvar_carro e exibir o valor retornado\n",
        "type(salvar_carro) # exibir o tipo da variavel salvar_carro\n"
      ],
      "metadata": {
        "colab": {
          "base_uri": "https://localhost:8080/"
        },
        "id": "JRZl5XN3ErjI",
        "outputId": "9194b44a-5e83-4c5d-e52d-597062a76685"
      },
      "execution_count": 27,
      "outputs": [
        {
          "output_type": "stream",
          "name": "stdout",
          "text": [
            "Carro inserido com sucesso! Fiat/Palio/1999/ABC-1234\n"
          ]
        },
        {
          "output_type": "execute_result",
          "data": {
            "text/plain": [
              "function"
            ]
          },
          "metadata": {},
          "execution_count": 27
        }
      ]
    },
    {
      "cell_type": "code",
      "source": [
        "# Exemplo 3\n",
        "\n",
        "# Exemplo 1\n",
        "\n",
        "def salvar_carro(marca, modelo, ano, placa): # Salvar carro no banco de dados\n",
        "  print(f\"Carro inserido com sucesso! {marca}/{modelo}/{ano}/{placa}\") # Exibir a mensagem com os valores dos parametros\n",
        "\n",
        "salvar_carro(**{\"marca\": \"Fiat\", \"modelo\": \"Palio\", \"ano\": 1999, \"placa\": \"ABC-1234\"}) # Chamar a função salvar_carro e exibir o valor retornado\n",
        "type(salvar_carro) # exibir o tipo da variavel salvar_carro\n"
      ],
      "metadata": {
        "colab": {
          "base_uri": "https://localhost:8080/"
        },
        "id": "sd6mV7EfFFLD",
        "outputId": "c8993174-bdc1-4df2-d802-d2bb7b799944"
      },
      "execution_count": 28,
      "outputs": [
        {
          "output_type": "stream",
          "name": "stdout",
          "text": [
            "Carro inserido com sucesso! Fiat/Palio/1999/ABC-1234\n"
          ]
        },
        {
          "output_type": "execute_result",
          "data": {
            "text/plain": [
              "function"
            ]
          },
          "metadata": {},
          "execution_count": 28
        }
      ]
    },
    {
      "cell_type": "markdown",
      "source": [
        "## ***1.2 - Conceito de Args e Kwargs***\n",
        "Os conceitos de `*args` e `**kwargs` em Python são usados para passar um número variável de argumentos para funções. Aqui está uma explicação clara e concisa de cada um:\n",
        "\n",
        "### 1. `*args`\n",
        "- **Definição**: O `*args` permite que você passe um número variável de argumentos posicionais para uma função. Os argumentos são recebidos como uma tupla.\n",
        "- **Uso**: É útil quando você não sabe quantos argumentos serão passados. Exemplo:\n",
        "  ```python\n",
        "  def soma(*args):\n",
        "      return sum(args)\n",
        "\n",
        "  resultado = soma(1, 2, 3, 4)  # resultado será 10\n",
        "  ```\n",
        "\n",
        "### 2. `**kwargs`\n",
        "- **Definição**: O `**kwargs` permite que você passe um número variável de argumentos nomeados (ou seja, argumentos com chave) para uma função. Os argumentos são recebidos como um dicionário.\n",
        "- **Uso**: É útil quando você deseja passar um conjunto de parâmetros que podem variar em nome e quantidade. Exemplo:\n",
        "  ```python\n",
        "  def exibir_informacoes(**kwargs):\n",
        "      for chave, valor in kwargs.items():\n",
        "          print(f\"{chave}: {valor}\")\n",
        "\n",
        "  exibir_informacoes(nome=\"Alice\", idade=30, cidade=\"São Paulo\")\n",
        "  # Saída:\n",
        "  # nome: Alice\n",
        "  # idade: 30\n",
        "  # cidade: São Paulo\n",
        "  ```\n",
        "\n",
        "### Resumo\n",
        "- `*args` é usado para argumentos posicionais variáveis, enquanto `**kwargs` é usado para argumentos nomeados variáveis. Ambos ajudam a criar funções mais flexíveis e reutilizáveis.\n"
      ],
      "metadata": {
        "id": "3RbRPaD8HJtr"
      }
    },
    {
      "cell_type": "code",
      "source": [
        "# Exemplo 1\n",
        "\n",
        "def exibir_poema(data_extenso, *args, **kwargs): # Definir a função exibir_poema com os parametros data_extenso\n",
        "  texto = \"\\n\".join(args) # Concatenar os argumentos em uma única string\n",
        "  meta_dados = \"\\n\".join([f\"{chave.title()}: {valor}\" for chave, valor in kwargs.items()]) # Concatenar os metadados em uma única string\n",
        "  mensagem = f\"{data_extenso}\\n\\n{texto}\\n\\n{meta_dados}\" # Concatenar a data, texto e metadados em uma única string\n",
        "  print(mensagem) # Exibir a mensagem\n",
        "\n",
        "exibir_poema(\n",
        "    \"Sexta Feira, 30 de Agosto de 2024\",\n",
        "    \"Zen of Python\",\n",
        "    \"Beautiful is better than ugly.\",\n",
        "    autor=\"Tim Peters\",\n",
        "    ano=1999) # Chamar a função exibir_poema e exibir o valor retornado\n"
      ],
      "metadata": {
        "colab": {
          "base_uri": "https://localhost:8080/"
        },
        "id": "G8rQhN7PFsFX",
        "outputId": "02f7a0fc-9a60-4824-a109-d5b20fd26448"
      },
      "execution_count": 31,
      "outputs": [
        {
          "output_type": "stream",
          "name": "stdout",
          "text": [
            "Sexta Feira, 30 de Agosto de 2024\n",
            "\n",
            "Zen of Python\n",
            "Beautiful is better than ugly.\n",
            "\n",
            "Autor: Tim Peters\n",
            "Ano: 1999\n"
          ]
        }
      ]
    },
    {
      "cell_type": "markdown",
      "source": [
        "# ***2 - Função Python Parte 2***\n",
        "A \"Função Python Parte 2\" geralmente se refere a conceitos mais avançados sobre funções em Python. Aqui estão alguns tópicos importantes que podem ser abordados nessa parte:\n",
        "\n",
        "### 1. **Funções Anônimas (Lambda)**\n",
        "- **Definição**: Funções anônimas, ou funções lambda, são funções pequenas e sem nome que podem ter um ou mais argumentos, mas apenas uma expressão.\n",
        "- **Uso**: São frequentemente usadas para operações simples e podem ser passadas como argumentos para outras funções. Exemplo:\n",
        "  ```python\n",
        "  soma = lambda x, y: x + y\n",
        "  resultado = soma(3, 5)  # resultado será 8\n",
        "  ```\n",
        "\n",
        "### 2. **Funções de Ordem Superior**\n",
        "- **Definição**: Funções que podem receber outras funções como argumentos ou retornar funções como resultado.\n",
        "- **Uso**: Permitem criar abstrações e manipular funções de maneira flexível. Exemplo:\n",
        "  ```python\n",
        "  def aplicar_funcao(funcao, valor):\n",
        "      return funcao(valor)\n",
        "\n",
        "  resultado = aplicar_funcao(lambda x: x * 2, 10)  # resultado será 20\n",
        "  ```\n",
        "\n",
        "### 3. **Decoradores**\n",
        "- **Definição**: Decoradores são funções que modificam o comportamento de outras funções. Eles são usados para adicionar funcionalidades sem alterar o código original.\n",
        "- **Uso**: São frequentemente usados para logging, autenticação, ou medição de tempo de execução. Exemplo:\n",
        "  ```python\n",
        "  def meu_decorador(funcao):\n",
        "      def wrapper():\n",
        "          print(\"Antes da função\")\n",
        "          funcao()\n",
        "          print(\"Depois da função\")\n",
        "      return wrapper\n",
        "\n",
        "  @meu_decorador\n",
        "  def diga_oi():\n",
        "      print(\"Olá!\")\n",
        "\n",
        "  diga_oi()\n",
        "  # Saída:\n",
        "  # Antes da função\n",
        "  # Olá!\n",
        "  # Depois da função\n",
        "  ```\n",
        "\n",
        "### 4. **Escopo de Variáveis**\n",
        "- **Definição**: O escopo refere-se à visibilidade das variáveis. Variáveis definidas dentro de uma função têm escopo local e não podem ser acessadas fora dela.\n",
        "- **Uso**: Entender o escopo é crucial para evitar conflitos de nomes e garantir que as variáveis sejam usadas corretamente.\n",
        "\n",
        "Esses conceitos avançados sobre funções em Python ajudam a escrever código mais eficiente, modular e reutilizável.\n"
      ],
      "metadata": {
        "id": "Ro0bHjHEMJ4w"
      }
    },
    {
      "cell_type": "code",
      "source": [
        "# Exemplo 1\n",
        "\n",
        "def criar_carro(modelo, ano, placa, /, marca, motor, combustivel): # Definir a função\n",
        "  print(modelo, ano, placa, marca, motor, combustivel) # Exibir a mensagem com os valores dos parametros\n",
        "\n",
        "criar_carro(\"Palio\", 1999, \"ABC-1234\", marca = \"Fiat\", motor = \"1.0\", combustivel = \"Gasolina\") # Chamar a função\n"
      ],
      "metadata": {
        "colab": {
          "base_uri": "https://localhost:8080/"
        },
        "id": "1UU1nq-xMfBP",
        "outputId": "dac72760-b3d0-47b1-82fc-47fa4941b564"
      },
      "execution_count": 32,
      "outputs": [
        {
          "output_type": "stream",
          "name": "stdout",
          "text": [
            "Palio 1999 ABC-1234 Fiat 1.0 Gasolina\n"
          ]
        }
      ]
    },
    {
      "cell_type": "code",
      "source": [
        "# Objeto de Primeira Classe\n",
        "'''\n",
        "Em Python, um \"objeto de primeira classe\" refere-se à capacidade de tratar funções e outros objetos como\n",
        "cidadãos de primeira classe. Isso significa que esses objetos podem ser manipulados como qualquer outro\n",
        "tipo de dado. Aqui estão os principais pontos sobre objetos de primeira classe:\n",
        "\n",
        "### 1. **Definição**\n",
        "- Objetos de primeira classe são aqueles que podem ser:\n",
        "  - Atribuídos a variáveis.\n",
        "  - Passados como argumentos para outras funções.\n",
        "  - Retornados de outras funções.\n",
        "\n",
        "### 2. **Funções como Objetos de Primeira Classe**\n",
        "- Em Python, as funções são objetos de primeira classe. Você pode:\n",
        "  - Atribuir uma função a uma variável:\n",
        "    ```python\n",
        "    def saudacao():\n",
        "        return \"Olá!\"\n",
        "\n",
        "    funcao = saudacao\n",
        "    print(funcao())  # Saída: Olá!\n",
        "    ```\n",
        "\n",
        "  - Passar uma função como argumento para outra função:\n",
        "    ```python\n",
        "    def executar(funcao):\n",
        "        return funcao()\n",
        "\n",
        "    print(executar(saudacao))  # Saída: Olá!\n",
        "    ```\n",
        "\n",
        "  - Retornar uma função de outra função:\n",
        "    ```python\n",
        "    def cria_funcao():\n",
        "        def nova_funcao():\n",
        "            return \"Função criada!\"\n",
        "        return nova_funcao\n",
        "\n",
        "    funcao = cria_funcao()\n",
        "    print(funcao())  # Saída: Função criada!\n",
        "    ```\n",
        "### 3. **Vantagens**\n",
        "- Essa característica permite a criação de funções de ordem superior, decoradores e outras abstrações que\n",
        "tornam o código mais flexível e reutilizável.\n",
        "\n",
        "### Resumo\n",
        "Em resumo, objetos de primeira classe em Python permitem que funções e outros objetos sejam tratados como\n",
        "dados normais, possibilitando uma programação mais poderosa e expressiva.\n",
        "'''"
      ],
      "metadata": {
        "id": "D8Y38pahOxY3"
      },
      "execution_count": null,
      "outputs": []
    },
    {
      "cell_type": "code",
      "source": [
        "# Exemplo 1\n",
        "\n",
        "def soma(a, b): # Definir a função soma com os parametros a e b\n",
        "  return a + b # Retornar a soma dos parametros\n",
        "\n",
        "def exibir_resultado(a, b, funcao): # Definir a função exibir_resultado com os parametros a, b e funcao\n",
        "  resultado = funcao(a, b) # Atribuir a variavel resultado a funcao soma com os parametros a e b\n",
        "\n",
        "  print(f\"O resultado da operação {a} + {b} = {resultado}\") # Exibir a mensagem com os valores dos parametros\n",
        "\n",
        "exibir_resultado(10, 10, soma) # Chamar a função exibir_resultado e exibir o valor retornado"
      ],
      "metadata": {
        "colab": {
          "base_uri": "https://localhost:8080/"
        },
        "id": "yzhZ4mkiPOPw",
        "outputId": "493b1815-0f63-4d7b-9f1c-031d789105c4"
      },
      "execution_count": 33,
      "outputs": [
        {
          "output_type": "stream",
          "name": "stdout",
          "text": [
            "O resultado da operação 10 + 10 = 20\n"
          ]
        }
      ]
    },
    {
      "cell_type": "code",
      "source": [
        "# Exemplo 2\n",
        "\n",
        "def exibir_mensagem(): # Definir a função exibir_mensagem\n",
        "  print(\"Olá Mundo!\") # Exibir a mensagem\n",
        "  print(\"Estou Aprendendo Python\") # Exibir a mensagem\n",
        "  print(\"Espero te ajudar a voce ingressar no mercado de trabalho!\") # Exibir a mensagem\n",
        "  print(\"Python é uma linguagem de programação poderosa\") # Exibir a mensagem\n",
        "  print(\"que combina facilidade de aprendizado,\") # Exibir a mensagem\n",
        "  print(\"com muitas bibliotecas e frameworks\") # Exibir a mensagem\n",
        "  print(\"que tornam o desenvolvimento rápido e eficiente.\") # Exibir a mensagem\n",
        "\n",
        "  return exibir_mensagem # Retornar a função exibir_mensagem\n",
        "\n",
        "print(exibir_mensagem()) # Chamar a função exibir_mensagem e exibir o valor retornado"
      ],
      "metadata": {
        "colab": {
          "base_uri": "https://localhost:8080/"
        },
        "id": "Necqa2k3QI0B",
        "outputId": "077878f3-d426-41cb-8189-0d5b0dfa27cb"
      },
      "execution_count": 34,
      "outputs": [
        {
          "output_type": "stream",
          "name": "stdout",
          "text": [
            "Olá Mundo!\n",
            "Estou Aprendendo Python\n",
            "Espero te ajudar a voce ingressar no mercado de trabalho!\n",
            "Python é uma linguagem de programação poderosa\n",
            "que combina facilidade de aprendizado,\n",
            "com muitas bibliotecas e frameworks\n",
            "que tornam o desenvolvimento rápido e eficiente.\n",
            "<function exibir_mensagem at 0x780692d58310>\n"
          ]
        }
      ]
    },
    {
      "cell_type": "markdown",
      "source": [
        "## ***2.1 - Escopo Local e Escopo Global***\n",
        "O escopo em Python refere-se à visibilidade e acessibilidade das variáveis em diferentes partes do código. Existem dois tipos principais de escopo: escopo local e escopo global.\n",
        "\n",
        "### 1. **Escopo Local**\n",
        "- **Definição**: O escopo local refere-se a variáveis que são definidas dentro de uma função. Essas variáveis só podem ser acessadas dentro da função onde foram criadas.\n",
        "- **Exemplo**:\n",
        "  ```python\n",
        "  def minha_funcao():\n",
        "      x = 10  # x é uma variável local\n",
        "      print(x)\n",
        "\n",
        "  minha_funcao()  # Saída: 10\n",
        "  # print(x)  # Isso causaria um erro, pois x não é acessível fora da função.\n",
        "  ```\n",
        "\n",
        "### 2. **Escopo Global**\n",
        "- **Definição**: O escopo global refere-se a variáveis que são definidas fora de qualquer função. Essas variáveis podem ser acessadas em qualquer parte do código, incluindo dentro de funções.\n",
        "- **Exemplo**:\n",
        "  ```python\n",
        "  y = 20  # y é uma variável global\n",
        "\n",
        "  def outra_funcao():\n",
        "      print(y)  # Acessando a variável global\n",
        "\n",
        "  outra_funcao()  # Saída: 20\n",
        "  print(y)  # Saída: 20\n",
        "  ```\n",
        "\n",
        "### 3. **Interação entre Escopos**\n",
        "- **Variáveis Locais e Globais**: Se uma variável local e uma variável global tiverem o mesmo nome, a variável local terá prioridade dentro da função.\n",
        "- **Exemplo**:\n",
        "  ```python\n",
        "  z = 30  # variável global\n",
        "\n",
        "  def funcao_com_local():\n",
        "      z = 40  # variável local\n",
        "      print(z)  # Saída: 40\n",
        "\n",
        "  funcao_com_local()\n",
        "  print(z)  # Saída: 30\n",
        "  ```\n",
        "\n",
        "### Resumo\n",
        "- **Escopo Local**: Variáveis acessíveis apenas dentro da função onde foram definidas.\n",
        "- **Escopo Global**: Variáveis acessíveis em qualquer parte do código, incluindo dentro de funções.\n",
        "\n",
        "Entender esses conceitos é fundamental para evitar conflitos de nomes e gerenciar a visibilidade das variáveis em Python.\n"
      ],
      "metadata": {
        "id": "GZ3qRjv2Rk94"
      }
    },
    {
      "cell_type": "code",
      "source": [
        "# Exemplo 1\n",
        "\n",
        "salario = 2000 # atribuindo valor a variavel salario\n",
        "\n",
        "def salario_bonus(bonus): # definindo função com o argumento bonus\n",
        "  global salario # atribuindo valor a variavel global salario\n",
        "  salario += bonus # incrementando bonus ao salario\n",
        "  return salario # retornando valor da variavel salario\n",
        "\n",
        "print(salario_bonus(500)) # chamando a função e exibindo o valor retornado"
      ],
      "metadata": {
        "colab": {
          "base_uri": "https://localhost:8080/"
        },
        "id": "UzRVlRN1ReSR",
        "outputId": "be9b64f8-da05-4aae-9c26-37da90b2ffbe"
      },
      "execution_count": 37,
      "outputs": [
        {
          "output_type": "stream",
          "name": "stdout",
          "text": [
            "2500\n"
          ]
        }
      ]
    },
    {
      "cell_type": "code",
      "source": [
        "# Exemplo 2\n",
        "\n",
        "def func_1(): # definindo função func_1\n",
        "  x = 10 # atribuindo valor a variavel x Escopo Local\n",
        "  print(x) # exibindo valor da variavel x\n",
        "\n",
        "func_1() # chamando a função\n"
      ],
      "metadata": {
        "colab": {
          "base_uri": "https://localhost:8080/"
        },
        "id": "ZRjjDvtJTbUh",
        "outputId": "874eb660-10dc-4134-b3a7-2eec746ec618"
      },
      "execution_count": 39,
      "outputs": [
        {
          "output_type": "stream",
          "name": "stdout",
          "text": [
            "10\n"
          ]
        }
      ]
    }
  ]
}