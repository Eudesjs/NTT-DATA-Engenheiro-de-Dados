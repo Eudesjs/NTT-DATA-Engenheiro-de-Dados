{
  "nbformat": 4,
  "nbformat_minor": 0,
  "metadata": {
    "colab": {
      "provenance": [],
      "authorship_tag": "ABX9TyPzx8zs3EjlGb1lNFdXpvxI",
      "include_colab_link": true
    },
    "kernelspec": {
      "name": "python3",
      "display_name": "Python 3"
    },
    "language_info": {
      "name": "python"
    }
  },
  "cells": [
    {
      "cell_type": "markdown",
      "metadata": {
        "id": "view-in-github",
        "colab_type": "text"
      },
      "source": [
        "<a href=\"https://colab.research.google.com/github/Eudesjs/NTT-DATA-Engenheiro-de-Dados/blob/main/Introdu%C3%A7ao_Orientada_Objeto(POO).ipynb\" target=\"_parent\"><img src=\"https://colab.research.google.com/assets/colab-badge.svg\" alt=\"Open In Colab\"/></a>"
      ]
    },
    {
      "cell_type": "markdown",
      "source": [
        "# 1 - A Programação Orientada a Objetos (POO) é um paradigma de programação que utiliza \"objetos\" para modelar e organizar o código de forma mais intuitiva e modular. Aqui estão os principais conceitos e características da POO:\n",
        "\n",
        "## 1. **Objetos**: São instâncias de classes, que encapsulam dados (atributos) e comportamentos (métodos). Um objeto representa uma entidade do mundo real.\n",
        "\n",
        "## 2. **Classes**: São estruturas que definem os atributos e comportamentos dos objetos. Uma classe é como um molde que especifica como um objeto deve ser criado.\n",
        "\n",
        "## 3. **Encapsulamento**: Refere-se à prática de ocultar detalhes internos do objeto, expondo apenas o que é necessário através de métodos públicos. Isso promove a segurança e a integridade dos dados.\n",
        "\n",
        "## 4. **Herança**: Permite que uma classe (subclasse) herde características de outra classe (superclasse). Isso facilita a reutilização de código e a criação de hierarquias de classe.\n",
        "\n",
        "## 5. **Polimorfismo**: Refere-se à capacidade de utilizar métodos de diferentes classes que têm o mesmo nome, mas comportamentos distintos. Isso permite que um método se comporte de maneira diferente dependendo do objeto que o invoca.\n",
        "\n",
        "## 6. **Abstração**: É o processo de simplificar um sistema complexo, concentrando-se nas características essenciais, enquanto ignora detalhes desnecessários.\n",
        "\n",
        "## Esses conceitos tornam a POO poderosa para o desenvolvimento de software, pois favorecem a modularidade, a reutilização de código e a gestão de complexidade, facilitando a manutenção e a escalabilidade dos sistemas.\n"
      ],
      "metadata": {
        "id": "v36SiI37OgAE"
      }
    },
    {
      "cell_type": "markdown",
      "source": [
        "# 1 Conceito de Classes e Objetos;\n",
        "### Claro! Vamos explorar mais detalhadamente os conceitos de classes e objetos na Programação Orientada a Objetos (POO):\n",
        "\n",
        "### ClassesA **classe** é uma estrutura fundamental na POO que atua como um molde ou um projeto para criar objetos. Uma classe define:\n",
        "\n",
        "1. **Atributos**: Também conhecidos como propriedades ou variáveis de instância, os atributos são características que descrevem o estado de um objeto. Por exemplo, em uma classe `Carro`, atributos poderiam incluir `cor`, `modelo`, `ano`, e `marca`.\n",
        "\n",
        "2. **Métodos**: São funções definidas dentro de uma classe que descrevem as ações que um objeto pode realizar. Por exemplo, a classe `Carro` pode ter métodos como `acelerar()`, `frear()`, e `virar()`.\n",
        "\n",
        "#### Exemplo de classe em Python:\n",
        "```pythonclass Carro:\n",
        " def __init__(self, cor, modelo, ano, marca):\n",
        " self.cor = cor self.modelo = modelo self.ano = ano self.marca = marca def acelerar(self):\n",
        " print(f\"O carro {self.modelo} está acelerando.\")\n",
        "\n",
        " def frear(self):\n",
        " print(f\"O carro {self.modelo} está freando.\")\n",
        "```\n",
        "\n",
        "### ObjetosUm **objeto** é uma instância de uma classe. Quando você cria um objeto, você está utilizando a classe como um modelo para instanciar um novo conjunto de atributos e métodos. Cada objeto possui seu próprio estado, que é determinado pelos valores afixados a seus atributos.\n",
        "\n",
        "#### Exemplo de instância de um objeto:\n",
        "```python# Criando um objeto da classe Carromeu_carro = Carro(cor=\"vermelho\", modelo=\"Fusca\", ano=1972, marca=\"Volkswagen\")\n",
        "\n",
        "# Acessando atributos e métodosprint(meu_carro.cor) # Saída: vermelhomeu_carro.acelerar() # Saída: O carro Fusca está acelerando.\n",
        "```\n",
        "\n",
        "### Resumo dos conceitos- **Classes**: Servem como moldes para objetos, definindo atributos e métodos.\n",
        "- **Objetos**: São instâncias de classes que possuem estado e podem executar as ações definidas pelos métodos da classe.\n",
        "\n",
        "Esses conceitos são a base da POO e ajudam a organizar o código, tornando-o mais modular, reutilizável e fácil de entender.\n"
      ],
      "metadata": {
        "id": "x-Kg8MAwQT1c"
      }
    },
    {
      "cell_type": "code",
      "source": [
        "class Cachorro:\n",
        "  def __init__(self, nome, cor, acordado=True):  # Método construtor\n",
        "    self.nome = nome  # Atributo nome\n",
        "    self.cor = cor  # Atributo cor\n",
        "    self.acordado = acordado  # Atributo acordado\n",
        "\n",
        "  def latir(self):  # Método latir\n",
        "    print(\"Au au!\")  # Ação do método\n",
        "\n",
        "  def dormir(self):  # Método dormir\n",
        "    self.acordado = False  # Alteração do atributo\n",
        "    print(\"Zzz...\")  # Ação do método\n",
        "\n",
        "  def acordar(self):  # Método acordar\n",
        "    self.acordado = True  # Alteração do atributo\n",
        "    print(\"Acordado!\")  # Ação do método\n",
        "\n",
        "# Criando um objeto da classe Cachorro\n",
        "meu_cachorro = Cachorro(nome=\"Fido\", cor=\"marrom\")\n",
        "print(meu_cachorro.nome)  # Saída: Fido\n",
        "print(meu_cachorro.cor)  # Saída: marrom\n",
        "meu_cachorro.latir()  # Saída: Au au!\n"
      ],
      "metadata": {
        "colab": {
          "base_uri": "https://localhost:8080/"
        },
        "id": "-BfVMQFbSJYE",
        "outputId": "56533557-a74e-47f2-a1e8-0d1bc9396115"
      },
      "execution_count": 6,
      "outputs": [
        {
          "output_type": "stream",
          "name": "stdout",
          "text": [
            "Fido\n",
            "marrom\n",
            "Au au!\n"
          ]
        }
      ]
    },
    {
      "cell_type": "code",
      "execution_count": 2,
      "metadata": {
        "colab": {
          "base_uri": "https://localhost:8080/"
        },
        "id": "78BW4ak_NVsl",
        "outputId": "62a511da-282e-4565-c618-a566abe78ee7"
      },
      "outputs": [
        {
          "output_type": "stream",
          "name": "stdout",
          "text": [
            "vermelho\n",
            "O carro Fusca está acelerando.\n"
          ]
        }
      ],
      "source": [
        "def __init__(self, cor, modelo, ano, marca):  # Método construtor\n",
        "    self.cor = cor  # Atributo cor\n",
        "    self.modelo = modelo  # Atributo modelo\n",
        "    self.ano = ano  # Atributo ano\n",
        "    self.marca = marca  # Atributo marca\n",
        "\n",
        "def acelerar(self):  # Método acelerar\n",
        "    print(f\"O carro {self.modelo} está acelerando.\")  # Ação do método\n",
        "\n",
        "def frear(self):  # Método frear\n",
        "    print(f\"O carro {self.modelo} está freando.\")  # Ação do método\n",
        "\n",
        "class Carro:  # Classe Carro\n",
        "    def __init__(self, cor, modelo, ano, marca):  # Método construtor\n",
        "        self.cor = cor  # Atributo cor\n",
        "        self.modelo = modelo  # Atributo modelo\n",
        "        self.ano = ano  # Atributo ano\n",
        "        self.marca = marca  # Atributo marca\n",
        "\n",
        "    def acelerar(self):  # Método acelerar\n",
        "        print(f\"O carro {self.modelo} está acelerando.\")  # Ação do método\n",
        "\n",
        "    def frear(self):  # Método frear\n",
        "        print(f\"O carro {self.modelo} está freando.\")  # Ação do método\n",
        "\n",
        "    def frear(self):  # Método frear\n",
        "        print(f\"O carro {self.modelo} está freando.\")  # Ação do método\n",
        "\n",
        "meu_carro = Carro(cor=\"vermelho\", modelo=\"Fusca\", ano=1972, marca=\"Volkswagen\")  # Criando um objeto da classe Carro\n",
        "\n",
        "print(meu_carro.cor)  # Acessando o atributo cor\n",
        "meu_carro.acelerar()  # Executando o método acelerar\n",
        "\n"
      ]
    }
  ]
}