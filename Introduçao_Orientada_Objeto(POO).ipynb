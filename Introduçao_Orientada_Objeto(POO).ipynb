{
  "nbformat": 4,
  "nbformat_minor": 0,
  "metadata": {
    "colab": {
      "provenance": [],
      "authorship_tag": "ABX9TyMfiC59lCN+zeRxaATX/mYg",
      "include_colab_link": true
    },
    "kernelspec": {
      "name": "python3",
      "display_name": "Python 3"
    },
    "language_info": {
      "name": "python"
    }
  },
  "cells": [
    {
      "cell_type": "markdown",
      "metadata": {
        "id": "view-in-github",
        "colab_type": "text"
      },
      "source": [
        "<a href=\"https://colab.research.google.com/github/Eudesjs/NTT-DATA-Engenheiro-de-Dados/blob/main/Introdu%C3%A7ao_Orientada_Objeto(POO).ipynb\" target=\"_parent\"><img src=\"https://colab.research.google.com/assets/colab-badge.svg\" alt=\"Open In Colab\"/></a>"
      ]
    },
    {
      "cell_type": "markdown",
      "source": [
        "# 1 - A Programação Orientada a Objetos (POO) é um paradigma de programação que utiliza \"objetos\" para modelar e organizar o código de forma mais intuitiva e modular. Aqui estão os principais conceitos e características da POO:\n",
        "\n",
        "## 1. **Objetos**: São instâncias de classes, que encapsulam dados (atributos) e comportamentos (métodos). Um objeto representa uma entidade do mundo real.\n",
        "\n",
        "## 2. **Classes**: São estruturas que definem os atributos e comportamentos dos objetos. Uma classe é como um molde que especifica como um objeto deve ser criado.\n",
        "\n",
        "## 3. **Encapsulamento**: Refere-se à prática de ocultar detalhes internos do objeto, expondo apenas o que é necessário através de métodos públicos. Isso promove a segurança e a integridade dos dados.\n",
        "\n",
        "## 4. **Herança**: Permite que uma classe (subclasse) herde características de outra classe (superclasse). Isso facilita a reutilização de código e a criação de hierarquias de classe.\n",
        "\n",
        "## 5. **Polimorfismo**: Refere-se à capacidade de utilizar métodos de diferentes classes que têm o mesmo nome, mas comportamentos distintos. Isso permite que um método se comporte de maneira diferente dependendo do objeto que o invoca.\n",
        "\n",
        "## 6. **Abstração**: É o processo de simplificar um sistema complexo, concentrando-se nas características essenciais, enquanto ignora detalhes desnecessários.\n",
        "\n",
        "## Esses conceitos tornam a POO poderosa para o desenvolvimento de software, pois favorecem a modularidade, a reutilização de código e a gestão de complexidade, facilitando a manutenção e a escalabilidade dos sistemas.\n"
      ],
      "metadata": {
        "id": "v36SiI37OgAE"
      }
    },
    {
      "cell_type": "markdown",
      "source": [
        "# 1 Conceito de Classes e Objetos;\n",
        "### Claro! Vamos explorar mais detalhadamente os conceitos de classes e objetos na Programação Orientada a Objetos (POO):\n",
        "\n",
        "### ClassesA **classe** é uma estrutura fundamental na POO que atua como um molde ou um projeto para criar objetos. Uma classe define:\n",
        "\n",
        "1. **Atributos**: Também conhecidos como propriedades ou variáveis de instância, os atributos são características que descrevem o estado de um objeto. Por exemplo, em uma classe `Carro`, atributos poderiam incluir `cor`, `modelo`, `ano`, e `marca`.\n",
        "\n",
        "2. **Métodos**: São funções definidas dentro de uma classe que descrevem as ações que um objeto pode realizar. Por exemplo, a classe `Carro` pode ter métodos como `acelerar()`, `frear()`, e `virar()`.\n",
        "\n",
        "#### Exemplo de classe em Python:\n",
        "```pythonclass Carro:\n",
        " def __init__(self, cor, modelo, ano, marca):\n",
        " self.cor = cor self.modelo = modelo self.ano = ano self.marca = marca def acelerar(self):\n",
        " print(f\"O carro {self.modelo} está acelerando.\")\n",
        "\n",
        " def frear(self):\n",
        " print(f\"O carro {self.modelo} está freando.\")\n",
        "```\n",
        "\n",
        "### ObjetosUm **objeto** é uma instância de uma classe. Quando você cria um objeto, você está utilizando a classe como um modelo para instanciar um novo conjunto de atributos e métodos. Cada objeto possui seu próprio estado, que é determinado pelos valores afixados a seus atributos.\n",
        "\n",
        "#### Exemplo de instância de um objeto:\n",
        "```python# Criando um objeto da classe Carromeu_carro = Carro(cor=\"vermelho\", modelo=\"Fusca\", ano=1972, marca=\"Volkswagen\")\n",
        "\n",
        "# Acessando atributos e métodosprint(meu_carro.cor) # Saída: vermelhomeu_carro.acelerar() # Saída: O carro Fusca está acelerando.\n",
        "```\n",
        "\n",
        "### Resumo dos conceitos- **Classes**: Servem como moldes para objetos, definindo atributos e métodos.\n",
        "- **Objetos**: São instâncias de classes que possuem estado e podem executar as ações definidas pelos métodos da classe.\n",
        "\n",
        "Esses conceitos são a base da POO e ajudam a organizar o código, tornando-o mais modular, reutilizável e fácil de entender.\n"
      ],
      "metadata": {
        "id": "x-Kg8MAwQT1c"
      }
    },
    {
      "cell_type": "code",
      "source": [
        "class Cachorro:\n",
        "  def __init__(self, nome, cor, acordado=True):  # Método construtor\n",
        "    self.nome = nome  # Atributo nome\n",
        "    self.cor = cor  # Atributo cor\n",
        "    self.acordado = acordado  # Atributo acordado\n",
        "\n",
        "  def latir(self):  # Método latir\n",
        "    print(\"Au au!\")  # Ação do método\n",
        "\n",
        "  def dormir(self):  # Método dormir\n",
        "    self.acordado = False  # Alteração do atributo\n",
        "    print(\"Zzz...\")  # Ação do método\n",
        "\n",
        "  def acordar(self):  # Método acordar\n",
        "    self.acordado = True  # Alteração do atributo\n",
        "    print(\"Acordado!\")  # Ação do método\n",
        "\n",
        "# Criando um objeto da classe Cachorro\n",
        "meu_cachorro = Cachorro(nome=\"Fido\", cor=\"marrom\")\n",
        "print(meu_cachorro.nome)  # Saída: Fido\n",
        "print(meu_cachorro.cor)  # Saída: marrom\n",
        "meu_cachorro.latir()  # Saída: Au au!\n"
      ],
      "metadata": {
        "colab": {
          "base_uri": "https://localhost:8080/"
        },
        "id": "-BfVMQFbSJYE",
        "outputId": "56533557-a74e-47f2-a1e8-0d1bc9396115"
      },
      "execution_count": null,
      "outputs": [
        {
          "output_type": "stream",
          "name": "stdout",
          "text": [
            "Fido\n",
            "marrom\n",
            "Au au!\n"
          ]
        }
      ]
    },
    {
      "cell_type": "code",
      "execution_count": null,
      "metadata": {
        "colab": {
          "base_uri": "https://localhost:8080/"
        },
        "id": "78BW4ak_NVsl",
        "outputId": "62a511da-282e-4565-c618-a566abe78ee7"
      },
      "outputs": [
        {
          "output_type": "stream",
          "name": "stdout",
          "text": [
            "vermelho\n",
            "O carro Fusca está acelerando.\n"
          ]
        }
      ],
      "source": [
        "def __init__(self, cor, modelo, ano, marca):  # Método construtor\n",
        "    self.cor = cor  # Atributo cor\n",
        "    self.modelo = modelo  # Atributo modelo\n",
        "    self.ano = ano  # Atributo ano\n",
        "    self.marca = marca  # Atributo marca\n",
        "\n",
        "def acelerar(self):  # Método acelerar\n",
        "    print(f\"O carro {self.modelo} está acelerando.\")  # Ação do método\n",
        "\n",
        "def frear(self):  # Método frear\n",
        "    print(f\"O carro {self.modelo} está freando.\")  # Ação do método\n",
        "\n",
        "class Carro:  # Classe Carro\n",
        "    def __init__(self, cor, modelo, ano, marca):  # Método construtor\n",
        "        self.cor = cor  # Atributo cor\n",
        "        self.modelo = modelo  # Atributo modelo\n",
        "        self.ano = ano  # Atributo ano\n",
        "        self.marca = marca  # Atributo marca\n",
        "\n",
        "    def acelerar(self):  # Método acelerar\n",
        "        print(f\"O carro {self.modelo} está acelerando.\")  # Ação do método\n",
        "\n",
        "    def frear(self):  # Método frear\n",
        "        print(f\"O carro {self.modelo} está freando.\")  # Ação do método\n",
        "\n",
        "    def frear(self):  # Método frear\n",
        "        print(f\"O carro {self.modelo} está freando.\")  # Ação do método\n",
        "\n",
        "meu_carro = Carro(cor=\"vermelho\", modelo=\"Fusca\", ano=1972, marca=\"Volkswagen\")  # Criando um objeto da classe Carro\n",
        "\n",
        "print(meu_carro.cor)  # Acessando o atributo cor\n",
        "meu_carro.acelerar()  # Executando o método acelerar\n",
        "\n"
      ]
    },
    {
      "cell_type": "markdown",
      "source": [
        "## 1.2 - Nosso Primeiro Programa POO\n",
        "Joao tem uma bicicleta e gostaria de registrar as vendas de suas bicicletas. crie um programa onde João informe: cor, modelo, ano e valor da bicicleta vendida. Uma bicicleta pode: buzinar, parar e correr. adicione esses comportamento."
      ],
      "metadata": {
        "id": "n4eme3SfuuW4"
      }
    },
    {
      "cell_type": "code",
      "source": [
        "'''\n",
        "Nosso Primeiro Programa POO\n",
        "Joao tem uma bicicleta e gostaria de registrar as vendas de suas bicicletas. crie um programa onde João informe:\n",
        "cor, modelo, ano e valor da bicicleta vendida. Uma bicicleta pode: buzinar, parar e correr. adicione esses comportamento.\n",
        "'''\n",
        "\n",
        "class bicicleta:\n",
        "  def __init__(self, cor, modelo, ano, valor):\n",
        "    self.cor = cor\n",
        "    self.modelo = modelo\n",
        "    self.ano = ano\n",
        "    self.valor = valor\n",
        "\n",
        "  def buzinar(self):\n",
        "    print(\"Plim Plim...\")\n",
        "\n",
        "  def parar(self):\n",
        "    print(\"Parando bicicleta...\")\n",
        "    print(\"Bicicleta parada!\")\n",
        "\n",
        "  def correr(self):\n",
        "    print(\"Vrummmmm...\")\n",
        "\n",
        "  def __str__(self):\n",
        "    return f\"{self.__class__.__name__}: {', '.join([ f'{chave}={valor}' for chave, valor in self. __dict__.items()])}\"\n",
        "\n",
        "b1 = bicicleta(\"vermelha\", \"caloi\", 2022, 600)\n",
        "b1.buzinar()\n",
        "b1.correr()\n",
        "b1.parar()\n",
        "print(b1.cor, b1.modelo, b1.ano, b1.valor)\n",
        "\n",
        "b2 = bicicleta(\"preta\", \"monark\", 2023, 800)\n",
        "print(b2)\n",
        "b2.correr()\n"
      ],
      "metadata": {
        "colab": {
          "base_uri": "https://localhost:8080/"
        },
        "id": "HTT0Gn9Qvh8a",
        "outputId": "2daf48e1-8317-4ac2-a581-1dcd71be2c1f"
      },
      "execution_count": 10,
      "outputs": [
        {
          "output_type": "stream",
          "name": "stdout",
          "text": [
            "Plim Plim...\n",
            "Vrummmmm...\n",
            "Parando bicicleta...\n",
            "Bicicleta parada!\n",
            "vermelha caloi 2022 600\n",
            "bicicleta: cor=preta, modelo=monark, ano=2023, valor=800\n",
            "Vrummmmm...\n"
          ]
        }
      ]
    },
    {
      "cell_type": "markdown",
      "source": [
        "## 1.3 - Construtores e Destrutores\n",
        "**Construtores e Destrutores**\n",
        "\n",
        "**Construtores** são métodos especiais em uma classe que são chamados automaticamente quando um objeto dessa classe é criado. Eles geralmente têm o mesmo nome da classe e não possuem um tipo de retorno. Seu principal objetivo é inicializar os atributos do objeto ou realizar configurações necessárias.\n",
        "\n",
        "Exemplo em Python:\n",
        "```python\n",
        "class Carro:\n",
        "    def __init__(self, modelo, ano):\n",
        "        self.modelo = modelo\n",
        "        self.ano = ano\n",
        "```\n",
        "\n",
        "**Destrutores**, por outro lado, são métodos que são chamados quando um objeto é destruído ou removido da memória. Eles são usados para liberar recursos ou realizar limpeza antes que o objeto seja eliminado. Em Python, o método destrutor é chamado de `__del__`.\n",
        "\n",
        "Exemplo em Python:\n",
        "```python\n",
        "class Carro:\n",
        "    def __init__(self, modelo, ano):\n",
        "        self.modelo = modelo\n",
        "        self.ano = ano\n",
        "    \n",
        "    def __del__(self):\n",
        "        print(f\"Carro {self.modelo} removido da memória.\")\n",
        "```\n",
        "\n",
        "Em resumo, construtores inicializam objetos e destrutores cuidam da limpeza antes da remoção de objetos.\n"
      ],
      "metadata": {
        "id": "j0RABS_1WUAW"
      }
    },
    {
      "cell_type": "code",
      "source": [
        "# Metodo __init__\n",
        "'''\n",
        "O método `__init__` é um construtor em Python, utilizado para inicializar objetos quando uma classe é\n",
        "instanciada. Ele é chamado automaticamente assim que um novo objeto é criado e permite que você defina\n",
        "valores iniciais para os atributos do objeto.\n",
        "\n",
        "### Características do `__init__`:\n",
        "\n",
        "- **Nome especial**: Começa e termina com dois underscores (dunder).\n",
        "- **Não retorna valor**: Não deve ter um valor de retorno (exceto `None`, que é padrão).\n",
        "- **Parâmetros**: O primeiro parâmetro deve ser sempre `self`, que representa a instância do objeto sendo\n",
        "criada.\n",
        "- **Atributos**: Pode receber outros parâmetros que podem ser usados para definir os atributos do objeto.\n",
        "\n",
        "### Exemplo:\n",
        "\n",
        "```python\n",
        "class Pessoa:\n",
        "    def __init__(self, nome, idade):\n",
        "        self.nome = nome  # Atribui o nome à instância\n",
        "        self.idade = idade  # Atribui a idade à instância\n",
        "\n",
        "# Criando um objeto da classe Pessoa\n",
        "pessoa1 = Pessoa(\"João\", 30)\n",
        "print(pessoa1.nome)  # Saída: João\n",
        "print(pessoa1.idade)  # Saída: 30\n",
        "```\n",
        "\n",
        "Neste exemplo, ao criar um objeto `pessoa1` da classe `Pessoa`, o método `__init__` é chamado,\n",
        "inicializando os atributos `nome` e `idade`.\n",
        "'''"
      ],
      "metadata": {
        "id": "G6f7AOG0WuSe"
      },
      "execution_count": null,
      "outputs": []
    },
    {
      "cell_type": "code",
      "source": [
        "# Metodo __del__\n",
        "'''\n",
        "O método `__del__` é um destrutor em Python, utilizado para definir comportamentos que devem ocorrer\n",
        "quando um objeto está prestes a ser destruído. Ele é chamado automaticamente quando um objeto é removido\n",
        "da memória, seja porque saiu do escopo ou porque o programa terminou.\n",
        "\n",
        "### Características do `__del__`:\n",
        "\n",
        "- **Nome especial**: Começa e termina com dois underscores (dunder).\n",
        "- **Limpeza de recursos**: É usado para liberar recursos, como fechar arquivos ou conexões de rede, antes\n",
        "do objeto ser eliminado.\n",
        "- **Não possui parâmetros obrigatórios**: Recebe apenas o parâmetro `self`, que se refere à instância que\n",
        "está sendo destruída.\n",
        "- **Chamada automática**: Não deve ser chamado explicitamente, pois é invocado pelo coletor de lixo do\n",
        "Python.\n",
        "\n",
        "### Exemplo:\n",
        "\n",
        "```python\n",
        "class Carro:\n",
        "    def __init__(self, modelo):\n",
        "        self.modelo = modelo\n",
        "        print(f\"Carro {self.modelo} criado.\")\n",
        "\n",
        "    def __del__(self):\n",
        "        print(f\"Carro {self.modelo} removido da memória.\")\n",
        "\n",
        "# Criando um objeto da classe Carro\n",
        "carro1 = Carro(\"Fusca\")\n",
        "del carro1  # Chama o destrutor manualmente\n",
        "```\n",
        "\n",
        "Neste exemplo, quando o objeto `carro1` é deletado, o método `__del__` é chamado automaticamente, exibindo\n",
        "uma mensagem indicando que o carro foi removido da memória. É importante lembrar que o destrutor pode não\n",
        "ser chamado imediatamente ao usar o comando `del`, pois o coletor de lixo pode atrasar a remoção até que\n",
        "a memória seja necessária novamente.\n",
        "'''"
      ],
      "metadata": {
        "id": "ygf7Z6DlXjk4"
      },
      "execution_count": null,
      "outputs": []
    }
  ]
}