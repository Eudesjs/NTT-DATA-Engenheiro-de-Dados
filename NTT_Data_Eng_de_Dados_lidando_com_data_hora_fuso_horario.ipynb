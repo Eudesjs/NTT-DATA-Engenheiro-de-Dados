{
  "nbformat": 4,
  "nbformat_minor": 0,
  "metadata": {
    "colab": {
      "provenance": [],
      "authorship_tag": "ABX9TyMceVTX+31VRN9xFw77lbun",
      "include_colab_link": true
    },
    "kernelspec": {
      "name": "python3",
      "display_name": "Python 3"
    },
    "language_info": {
      "name": "python"
    }
  },
  "cells": [
    {
      "cell_type": "markdown",
      "metadata": {
        "id": "view-in-github",
        "colab_type": "text"
      },
      "source": [
        "<a href=\"https://colab.research.google.com/github/Eudesjs/NTT-DATA-Engenheiro-de-Dados/blob/main/NTT_Data_Eng_de_Dados_lidando_com_data_hora_fuso_horario.ipynb\" target=\"_parent\"><img src=\"https://colab.research.google.com/assets/colab-badge.svg\" alt=\"Open In Colab\"/></a>"
      ]
    },
    {
      "cell_type": "markdown",
      "source": [
        "# 1 - ***Lidando com Data com Python***\n",
        "***Lidando com Data com Python*** refere-se ao uso da linguagem de programação Python para manipular, analisar e visualizar dados. Python oferece várias bibliotecas poderosas que facilitam essas tarefas, como:\n",
        "\n",
        "1. **Pandas**: Utilizada para manipulação e análise de dados, permitindo trabalhar com estruturas de dados como DataFrames.\n",
        "2. **NumPy**: Focada em operações matemáticas e manipulação de arrays multidimensionais.\n",
        "3. **Matplotlib e Seaborn**: Bibliotecas para visualização de dados, permitindo criar gráficos e representações visuais.\n",
        "4. **Scikit-learn**: Usada para machine learning e análise preditiva.\n",
        "\n",
        "O trabalhando com dados em Python geralmente envolve etapas como coleta de dados, limpeza, transformação, análise e visualização, permitindo insights e tomada de decisões informadas.\n"
      ],
      "metadata": {
        "id": "75AR8YUmOvUK"
      }
    },
    {
      "cell_type": "markdown",
      "source": [
        "## 1.2 - O termo **\"Exemplo Datetime\"** refere-se ao uso da classe `datetime` em Python, que é utilizada para trabalhar com datas e horas. A classe `datetime` faz parte do módulo `datetime` e permite criar, manipular e formatar objetos de data e hora. ***texto em itálico***\n",
        "\n",
        "### Exemplo de Uso:\n",
        "\n",
        "```python\n",
        "from datetime import datetime\n",
        "\n",
        "# Criando um objeto datetime para a data e hora atual\n",
        "agora = datetime.now()\n",
        "print(\"Data e hora atual:\", agora)\n",
        "\n",
        "# Formatação da data\n",
        "data_formatada = agora.strftime(\"%d/%m/%Y %H:%M:%S\")\n",
        "print(\"Data formatada:\", data_formatada)\n",
        "\n",
        "# Acessando componentes individuais\n",
        "ano = agora.year\n",
        "mes = agora.month\n",
        "dia = agora.day\n",
        "print(f\"Ano: {ano}, Mês: {mes}, Dia: {dia}\")\n",
        "```\n",
        "\n",
        "### Principais Funcionalidades:\n",
        "- **Criar objetos de data e hora**: Usando `datetime(year, month, day, hour, minute, second)`.\n",
        "- **Obter a data e hora atual**: Usando `datetime.now()`.\n",
        "- **Formatar datas**: Usando o método `strftime()` para personalizar a apresentação.\n",
        "- **Manipular datas**: Adicionar ou subtrair dias, meses, etc., utilizando `timedelta`.\n",
        "\n",
        "Esse exemplo ilustra como trabalhar com datas e horas de forma simples e eficiente em Python.\n"
      ],
      "metadata": {
        "id": "xoBAmXSoPcyr"
      }
    },
    {
      "cell_type": "code",
      "execution_count": 1,
      "metadata": {
        "colab": {
          "base_uri": "https://localhost:8080/"
        },
        "id": "1SUU2c-5N-RF",
        "outputId": "d9cf621f-63ce-49f0-9366-6caf9d7345e5"
      },
      "outputs": [
        {
          "output_type": "stream",
          "name": "stdout",
          "text": [
            "2024-09-16\n"
          ]
        }
      ],
      "source": [
        "# Exemplo Datetime\n",
        "\n",
        "import datetime\n",
        "\n",
        "d = datetime.date(2024, 9, 16)\n",
        "print(d)"
      ]
    },
    {
      "cell_type": "code",
      "source": [
        "# Exemplo date\n",
        "\n",
        "from datetime import date\n",
        "\n",
        "hoje = date.today()\n",
        "print(hoje)\n"
      ],
      "metadata": {
        "colab": {
          "base_uri": "https://localhost:8080/"
        },
        "id": "BoAoe7XEQKMp",
        "outputId": "3474b35f-5713-45c6-9468-00de05af911f"
      },
      "execution_count": 8,
      "outputs": [
        {
          "output_type": "stream",
          "name": "stdout",
          "text": [
            "2024-09-16\n"
          ]
        }
      ]
    },
    {
      "cell_type": "code",
      "source": [
        "# Exemplo day\n",
        "\n",
        "from datetime import date\n",
        "\n",
        "hoje = date.today()\n",
        "print(hoje.day)"
      ],
      "metadata": {
        "colab": {
          "base_uri": "https://localhost:8080/"
        },
        "id": "VQDYJvNeRN2h",
        "outputId": "ffa9ce85-c5f7-4756-d260-350d7a9fc7c7"
      },
      "execution_count": 9,
      "outputs": [
        {
          "output_type": "stream",
          "name": "stdout",
          "text": [
            "16\n"
          ]
        }
      ]
    },
    {
      "cell_type": "code",
      "source": [
        "# Exemplo datetime.datetime\n",
        "\n",
        "from datetime import datetime\n",
        "\n",
        "agora = datetime.now()\n",
        "print(agora)"
      ],
      "metadata": {
        "colab": {
          "base_uri": "https://localhost:8080/"
        },
        "id": "U3ScsXcKRh0p",
        "outputId": "b5e423f8-8d6d-4875-bc12-b30d429f070a"
      },
      "execution_count": 18,
      "outputs": [
        {
          "output_type": "stream",
          "name": "stdout",
          "text": [
            "2024-09-17 00:01:44.772494\n"
          ]
        }
      ]
    },
    {
      "cell_type": "code",
      "source": [
        "from datetime import datetime\n",
        "\n",
        "data_hora = datetime(2024, 9, 16, 21, 2, 0)\n",
        "print(data_hora)"
      ],
      "metadata": {
        "colab": {
          "base_uri": "https://localhost:8080/"
        },
        "id": "K4KhfWuPSSJO",
        "outputId": "be1c1324-6d62-42b4-b752-18830e75b186"
      },
      "execution_count": 21,
      "outputs": [
        {
          "output_type": "stream",
          "name": "stdout",
          "text": [
            "2024-09-16 21:02:00\n"
          ]
        }
      ]
    },
    {
      "cell_type": "code",
      "source": [
        "from datetime import datetime, time\n",
        "\n",
        "hora = time(12, 30, 45)\n",
        "print(hora)"
      ],
      "metadata": {
        "colab": {
          "base_uri": "https://localhost:8080/"
        },
        "id": "UYFh9heES8F1",
        "outputId": "4d3b527e-3d25-4d39-e029-07399f877ade"
      },
      "execution_count": 22,
      "outputs": [
        {
          "output_type": "stream",
          "name": "stdout",
          "text": [
            "12:30:45\n"
          ]
        }
      ]
    },
    {
      "cell_type": "markdown",
      "source": [
        "# ***2 - Manipulando Datas com Timedelta***\n",
        "**Manipulando Datas com Timedelta** refere-se ao uso da classe `timedelta` do módulo `datetime` em Python para realizar operações com intervalos de tempo. A classe `timedelta` permite representar a diferença entre duas datas ou horas e facilita a adição ou subtração de períodos de tempo a objetos `datetime`.\n",
        "\n",
        "### Exemplo de Uso:\n",
        "\n",
        "```python\n",
        "from datetime import datetime, timedelta\n",
        "\n",
        "# Data atual\n",
        "data_atual = datetime.now()\n",
        "print(\"Data atual:\", data_atual)\n",
        "\n",
        "# Criando um objeto timedelta de 5 dias\n",
        "delta = timedelta(days=5)\n",
        "\n",
        "# Adicionando 5 dias à data atual\n",
        "nova_data = data_atual + delta\n",
        "print(\"Nova data após 5 dias:\", nova_data)\n",
        "\n",
        "# Subtraindo 3 dias da data atual\n",
        "data_subtraida = data_atual - timedelta(days=3)\n",
        "print(\"Data subtraída em 3 dias:\", data_subtraida)\n",
        "```\n",
        "\n",
        "### Principais Funcionalidades:\n",
        "- **Criar um intervalo de tempo**: Usando `timedelta(days=valor, hours=valor, minutes=valor, etc.)`.\n",
        "- **Adicionar ou subtrair intervalos**: Usando operadores `+` e `-` com objetos `datetime`.\n",
        "- **Calcular diferenças**: Ao subtrair duas datas, o resultado será um `timedelta` que representa a diferença entre elas.\n",
        "\n",
        "Isso permite que você manipule datas de forma fácil e eficaz, facilitando o cálculo de prazos, agendamentos e outras operações relacionadas a tempo.\n"
      ],
      "metadata": {
        "id": "Hptw2K9ETf_k"
      }
    },
    {
      "cell_type": "code",
      "source": [
        "# Exemplo timedelta\n",
        "\n",
        "import datetime\n",
        "\n",
        "data = datetime.datetime(2024, 9, 16, 21, 10, 30) # Criando data e hora\n",
        "print(data)\n",
        "\n",
        "\n",
        "data = data + datetime.timedelta(weeks=1) # Adicionando 1 semana\n",
        "print(data)"
      ],
      "metadata": {
        "colab": {
          "base_uri": "https://localhost:8080/"
        },
        "id": "9Ji05DPpTtpB",
        "outputId": "8a616861-885a-4dfc-95a6-8ee638f50343"
      },
      "execution_count": 24,
      "outputs": [
        {
          "output_type": "stream",
          "name": "stdout",
          "text": [
            "2024-09-16 21:10:30\n",
            "2024-09-23 21:10:30\n"
          ]
        }
      ]
    },
    {
      "cell_type": "code",
      "source": [
        "# Exemplo timedelta\n",
        "\n",
        "from datetime import datetime, timedelta\n",
        "\n",
        "tipo_carro = \"g\" # \"m\", \"g\"\n",
        "tempo_pequeno = 30\n",
        "tempo_medio = 45\n",
        "tempo_grande = 60\n",
        "\n",
        "data_atual = datetime.now()\n",
        "\n",
        "\n",
        "if tipo_carro == \"p\":\n",
        "  data_estimada = data_atual + timedelta(minutes=tempo_pequeno)\n",
        "  print(f\"O carro chegou: {data_atual}\\ne ficará  pronto às {data_estimada}\")\n",
        "elif tipo_carro == \"m\":\n",
        "  data_estimada = data_atual + timedelta(minutes=tempo_medio)\n",
        "  print(f\"O carro chegou: {data_atual}\\ne ficará  pronto às {data_estimada}\")\n",
        "else:\n",
        "  data_estimada = data_atual + timedelta(minutes=tempo_grande)\n",
        "  print(f\"O carro chegou: {data_atual}\\ne ficará  pronto às {data_estimada}\")\n"
      ],
      "metadata": {
        "colab": {
          "base_uri": "https://localhost:8080/"
        },
        "id": "83a4zX1tVszm",
        "outputId": "4c27ae0b-f006-49d5-b1a0-ef32deaf3b11"
      },
      "execution_count": 23,
      "outputs": [
        {
          "output_type": "stream",
          "name": "stdout",
          "text": [
            "O carro chegou: 2024-09-17 02:44:54.968837\n",
            "e ficará  pronto às 2024-09-17 03:44:54.968837\n"
          ]
        }
      ]
    }
  ]
}