{
  "nbformat": 4,
  "nbformat_minor": 0,
  "metadata": {
    "colab": {
      "provenance": [],
      "authorship_tag": "ABX9TyN7JsJ75anRQ/zh11OcFCHe",
      "include_colab_link": true
    },
    "kernelspec": {
      "name": "python3",
      "display_name": "Python 3"
    },
    "language_info": {
      "name": "python"
    }
  },
  "cells": [
    {
      "cell_type": "markdown",
      "metadata": {
        "id": "view-in-github",
        "colab_type": "text"
      },
      "source": [
        "<a href=\"https://colab.research.google.com/github/Eudesjs/NTT-DATA-Engenheiro-de-Dados/blob/main/NTT_Data_Eng_de_Dados_lidando_com_data_hora_fuso_horario.ipynb\" target=\"_parent\"><img src=\"https://colab.research.google.com/assets/colab-badge.svg\" alt=\"Open In Colab\"/></a>"
      ]
    },
    {
      "cell_type": "markdown",
      "source": [
        "# 1 - ***Lidando com Data com Python***\n",
        "***Lidando com Data com Python*** refere-se ao uso da linguagem de programação Python para manipular, analisar e visualizar dados. Python oferece várias bibliotecas poderosas que facilitam essas tarefas, como:\n",
        "\n",
        "1. **Pandas**: Utilizada para manipulação e análise de dados, permitindo trabalhar com estruturas de dados como DataFrames.\n",
        "2. **NumPy**: Focada em operações matemáticas e manipulação de arrays multidimensionais.\n",
        "3. **Matplotlib e Seaborn**: Bibliotecas para visualização de dados, permitindo criar gráficos e representações visuais.\n",
        "4. **Scikit-learn**: Usada para machine learning e análise preditiva.\n",
        "\n",
        "O trabalhando com dados em Python geralmente envolve etapas como coleta de dados, limpeza, transformação, análise e visualização, permitindo insights e tomada de decisões informadas.\n"
      ],
      "metadata": {
        "id": "75AR8YUmOvUK"
      }
    },
    {
      "cell_type": "markdown",
      "source": [
        "## 1.2 - O termo **\"Exemplo Datetime\"** refere-se ao uso da classe `datetime` em Python, que é utilizada para trabalhar com datas e horas. A classe `datetime` faz parte do módulo `datetime` e permite criar, manipular e formatar objetos de data e hora. ***texto em itálico***\n",
        "\n",
        "### Exemplo de Uso:\n",
        "\n",
        "```python\n",
        "from datetime import datetime\n",
        "\n",
        "# Criando um objeto datetime para a data e hora atual\n",
        "agora = datetime.now()\n",
        "print(\"Data e hora atual:\", agora)\n",
        "\n",
        "# Formatação da data\n",
        "data_formatada = agora.strftime(\"%d/%m/%Y %H:%M:%S\")\n",
        "print(\"Data formatada:\", data_formatada)\n",
        "\n",
        "# Acessando componentes individuais\n",
        "ano = agora.year\n",
        "mes = agora.month\n",
        "dia = agora.day\n",
        "print(f\"Ano: {ano}, Mês: {mes}, Dia: {dia}\")\n",
        "```\n",
        "\n",
        "### Principais Funcionalidades:\n",
        "- **Criar objetos de data e hora**: Usando `datetime(year, month, day, hour, minute, second)`.\n",
        "- **Obter a data e hora atual**: Usando `datetime.now()`.\n",
        "- **Formatar datas**: Usando o método `strftime()` para personalizar a apresentação.\n",
        "- **Manipular datas**: Adicionar ou subtrair dias, meses, etc., utilizando `timedelta`.\n",
        "\n",
        "Esse exemplo ilustra como trabalhar com datas e horas de forma simples e eficiente em Python.\n"
      ],
      "metadata": {
        "id": "xoBAmXSoPcyr"
      }
    },
    {
      "cell_type": "code",
      "execution_count": null,
      "metadata": {
        "colab": {
          "base_uri": "https://localhost:8080/"
        },
        "id": "1SUU2c-5N-RF",
        "outputId": "d9cf621f-63ce-49f0-9366-6caf9d7345e5"
      },
      "outputs": [
        {
          "output_type": "stream",
          "name": "stdout",
          "text": [
            "2024-09-16\n"
          ]
        }
      ],
      "source": [
        "# Exemplo Datetime\n",
        "\n",
        "import datetime\n",
        "\n",
        "d = datetime.date(2024, 9, 16)\n",
        "print(d)"
      ]
    },
    {
      "cell_type": "code",
      "source": [
        "# Exemplo date\n",
        "\n",
        "from datetime import date\n",
        "\n",
        "hoje = date.today()\n",
        "print(hoje)\n"
      ],
      "metadata": {
        "colab": {
          "base_uri": "https://localhost:8080/"
        },
        "id": "BoAoe7XEQKMp",
        "outputId": "3474b35f-5713-45c6-9468-00de05af911f"
      },
      "execution_count": null,
      "outputs": [
        {
          "output_type": "stream",
          "name": "stdout",
          "text": [
            "2024-09-16\n"
          ]
        }
      ]
    },
    {
      "cell_type": "code",
      "source": [
        "# Exemplo day\n",
        "\n",
        "from datetime import date\n",
        "\n",
        "hoje = date.today()\n",
        "print(hoje.day)"
      ],
      "metadata": {
        "colab": {
          "base_uri": "https://localhost:8080/"
        },
        "id": "VQDYJvNeRN2h",
        "outputId": "ffa9ce85-c5f7-4756-d260-350d7a9fc7c7"
      },
      "execution_count": null,
      "outputs": [
        {
          "output_type": "stream",
          "name": "stdout",
          "text": [
            "16\n"
          ]
        }
      ]
    },
    {
      "cell_type": "code",
      "source": [
        "# Exemplo datetime.datetime\n",
        "\n",
        "from datetime import datetime\n",
        "\n",
        "agora = datetime.now()\n",
        "print(agora)"
      ],
      "metadata": {
        "colab": {
          "base_uri": "https://localhost:8080/"
        },
        "id": "U3ScsXcKRh0p",
        "outputId": "b5e423f8-8d6d-4875-bc12-b30d429f070a"
      },
      "execution_count": null,
      "outputs": [
        {
          "output_type": "stream",
          "name": "stdout",
          "text": [
            "2024-09-17 00:01:44.772494\n"
          ]
        }
      ]
    },
    {
      "cell_type": "code",
      "source": [
        "from datetime import datetime\n",
        "\n",
        "data_hora = datetime(2024, 9, 16, 21, 2, 0)\n",
        "print(data_hora)"
      ],
      "metadata": {
        "colab": {
          "base_uri": "https://localhost:8080/"
        },
        "id": "K4KhfWuPSSJO",
        "outputId": "be1c1324-6d62-42b4-b752-18830e75b186"
      },
      "execution_count": null,
      "outputs": [
        {
          "output_type": "stream",
          "name": "stdout",
          "text": [
            "2024-09-16 21:02:00\n"
          ]
        }
      ]
    },
    {
      "cell_type": "code",
      "source": [
        "from datetime import datetime, time\n",
        "\n",
        "hora = time(12, 30, 45)\n",
        "print(hora)"
      ],
      "metadata": {
        "colab": {
          "base_uri": "https://localhost:8080/"
        },
        "id": "UYFh9heES8F1",
        "outputId": "4d3b527e-3d25-4d39-e029-07399f877ade"
      },
      "execution_count": null,
      "outputs": [
        {
          "output_type": "stream",
          "name": "stdout",
          "text": [
            "12:30:45\n"
          ]
        }
      ]
    },
    {
      "cell_type": "markdown",
      "source": [
        "# ***2 - Manipulando Datas com Timedelta***\n",
        "**Manipulando Datas com Timedelta** refere-se ao uso da classe `timedelta` do módulo `datetime` em Python para realizar operações com intervalos de tempo. A classe `timedelta` permite representar a diferença entre duas datas ou horas e facilita a adição ou subtração de períodos de tempo a objetos `datetime`.\n",
        "\n",
        "### Exemplo de Uso:\n",
        "\n",
        "```python\n",
        "from datetime import datetime, timedelta\n",
        "\n",
        "# Data atual\n",
        "data_atual = datetime.now()\n",
        "print(\"Data atual:\", data_atual)\n",
        "\n",
        "# Criando um objeto timedelta de 5 dias\n",
        "delta = timedelta(days=5)\n",
        "\n",
        "# Adicionando 5 dias à data atual\n",
        "nova_data = data_atual + delta\n",
        "print(\"Nova data após 5 dias:\", nova_data)\n",
        "\n",
        "# Subtraindo 3 dias da data atual\n",
        "data_subtraida = data_atual - timedelta(days=3)\n",
        "print(\"Data subtraída em 3 dias:\", data_subtraida)\n",
        "```\n",
        "\n",
        "### Principais Funcionalidades:\n",
        "- **Criar um intervalo de tempo**: Usando `timedelta(days=valor, hours=valor, minutes=valor, etc.)`.\n",
        "- **Adicionar ou subtrair intervalos**: Usando operadores `+` e `-` com objetos `datetime`.\n",
        "- **Calcular diferenças**: Ao subtrair duas datas, o resultado será um `timedelta` que representa a diferença entre elas.\n",
        "\n",
        "Isso permite que você manipule datas de forma fácil e eficaz, facilitando o cálculo de prazos, agendamentos e outras operações relacionadas a tempo.\n"
      ],
      "metadata": {
        "id": "Hptw2K9ETf_k"
      }
    },
    {
      "cell_type": "code",
      "source": [
        "# Exemplo timedelta\n",
        "\n",
        "import datetime\n",
        "\n",
        "data = datetime.datetime(2024, 9, 16, 21, 10, 30) # Criando data e hora\n",
        "print(data)\n",
        "\n",
        "\n",
        "data = data + datetime.timedelta(weeks=1) # Adicionando 1 semana\n",
        "print(data)"
      ],
      "metadata": {
        "colab": {
          "base_uri": "https://localhost:8080/"
        },
        "id": "9Ji05DPpTtpB",
        "outputId": "8a616861-885a-4dfc-95a6-8ee638f50343"
      },
      "execution_count": null,
      "outputs": [
        {
          "output_type": "stream",
          "name": "stdout",
          "text": [
            "2024-09-16 21:10:30\n",
            "2024-09-23 21:10:30\n"
          ]
        }
      ]
    },
    {
      "cell_type": "code",
      "source": [
        "# Exemplo timedelta\n",
        "\n",
        "from datetime import datetime, timedelta\n",
        "\n",
        "tipo_carro = \"g\" # \"m\", \"g\"\n",
        "tempo_pequeno = 30\n",
        "tempo_medio = 45\n",
        "tempo_grande = 60\n",
        "\n",
        "data_atual = datetime.now()\n",
        "\n",
        "\n",
        "if tipo_carro == \"p\":\n",
        "  data_estimada = data_atual + timedelta(minutes=tempo_pequeno)\n",
        "  print(f\"O carro chegou: {data_atual}\\ne ficará  pronto às {data_estimada}\")\n",
        "elif tipo_carro == \"m\":\n",
        "  data_estimada = data_atual + timedelta(minutes=tempo_medio)\n",
        "  print(f\"O carro chegou: {data_atual}\\ne ficará  pronto às {data_estimada}\")\n",
        "else:\n",
        "  data_estimada = data_atual + timedelta(minutes=tempo_grande)\n",
        "  print(f\"O carro chegou: {data_atual}\\ne ficará  pronto às {data_estimada}\")\n"
      ],
      "metadata": {
        "colab": {
          "base_uri": "https://localhost:8080/"
        },
        "id": "83a4zX1tVszm",
        "outputId": "4c27ae0b-f006-49d5-b1a0-ef32deaf3b11"
      },
      "execution_count": null,
      "outputs": [
        {
          "output_type": "stream",
          "name": "stdout",
          "text": [
            "O carro chegou: 2024-09-17 02:44:54.968837\n",
            "e ficará  pronto às 2024-09-17 03:44:54.968837\n"
          ]
        }
      ]
    },
    {
      "cell_type": "markdown",
      "source": [
        "# ***3 - Formatando e convertendo datas com strftime e strptime***\n",
        "**Formatando e convertendo datas com strftime e strptime**\n",
        "\n",
        "Em Python, as funções `strftime` e `strptime` são utilizadas para formatar e converter datas, respectivamente.\n",
        "\n",
        "### `strftime` (string format time)\n",
        "\n",
        "- **Uso**: Converte um objeto de data/hora em uma string formatada.\n",
        "- **Sintaxe**: `data.strftime(formato)`\n",
        "- **Parâmetros**:\n",
        "  - `formato`: Uma string que define o formato da saída. Exemplos de códigos de formatação:\n",
        "    - `%Y`: ano com quatro dígitos (ex: 2024)\n",
        "    - `%m`: mês com dois dígitos (ex: 09)\n",
        "    - `%d`: dia do mês com dois dígitos (ex: 18)\n",
        "    - `%H`: hora em formato 24 horas (ex: 14)\n",
        "    - `%M`: minutos (ex: 30)\n",
        "    - `%S`: segundos (ex: 59)\n",
        "\n",
        "- **Exemplo**:\n",
        "  ```python\n",
        "  from datetime import datetime\n",
        "\n",
        "  agora = datetime.now()\n",
        "  data_formatada = agora.strftime(\"%Y-%m-%d %H:%M:%S\")\n",
        "  print(data_formatada)  # Saída: 2024-09-18 11:42:50\n",
        "  ```\n",
        "\n",
        "### `strptime` (string parse time)\n",
        "\n",
        "- **Uso**: Converte uma string formatada em um objeto de data/hora.\n",
        "- **Sintaxe**: `datetime.strptime(string, formato)`\n",
        "- **Parâmetros**:\n",
        "  - `string`: A string que representa uma data/hora.\n",
        "  - `formato`: O formato que a string segue. Deve corresponder aos códigos de formatação utilizados.\n",
        "\n",
        "- **Exemplo**:\n",
        "  ```python\n",
        "  from datetime import datetime\n",
        "\n",
        "  data_string = \"2024-09-18 11:42:50\"\n",
        "  data_objeto = datetime.strptime(data_string, \"%Y-%m-%d %H:%M:%S\")\n",
        "  print(data_objeto)  # Saída: 2024-09-18 11:42:50\n",
        "  ```\n",
        "\n",
        "### Resumo\n",
        "\n",
        "- Use `strftime` para formatar datas como strings.\n",
        "- Use `strptime` para converter strings em objetos de data/hora.\n",
        "\n",
        "Essas funções são fundamentais para manipulação de datas em aplicações Python.\n"
      ],
      "metadata": {
        "id": "KB4yDrsA8Bi6"
      }
    },
    {
      "cell_type": "code",
      "source": [
        "# Exemplo\n",
        "import datetime # importar o datetime"
      ],
      "metadata": {
        "id": "jPivTTjR8YmQ"
      },
      "execution_count": 1,
      "outputs": []
    },
    {
      "cell_type": "code",
      "source": [
        "d = datetime.datetime.now() # Pegar a data atual\n",
        "print(d)"
      ],
      "metadata": {
        "id": "9A4C92Ab85Y7",
        "outputId": "0a04da78-f9ad-4eec-aee3-076dc6d4a894",
        "colab": {
          "base_uri": "https://localhost:8080/"
        }
      },
      "execution_count": 2,
      "outputs": [
        {
          "output_type": "stream",
          "name": "stdout",
          "text": [
            "2024-09-18 11:45:56.850648\n"
          ]
        }
      ]
    },
    {
      "cell_type": "code",
      "source": [
        "print(d.strftime(\"%d/%m/%Y %H:%M\")) # Formatar a data e hora"
      ],
      "metadata": {
        "id": "VXACaFmF9CV-",
        "outputId": "f931848d-c858-4004-aabb-90dedf092731",
        "colab": {
          "base_uri": "https://localhost:8080/"
        }
      },
      "execution_count": 3,
      "outputs": [
        {
          "output_type": "stream",
          "name": "stdout",
          "text": [
            "18/09/2024 11:45\n"
          ]
        }
      ]
    },
    {
      "cell_type": "code",
      "source": [
        "date_string = \"18/09/2024 08:48\" # Definir uma string com a data e hora\n",
        "print(date_string)"
      ],
      "metadata": {
        "id": "RmFcJKT09YLl",
        "outputId": "4ff5f615-f313-4bd4-f8fe-29a0e2bd9236",
        "colab": {
          "base_uri": "https://localhost:8080/"
        }
      },
      "execution_count": 4,
      "outputs": [
        {
          "output_type": "stream",
          "name": "stdout",
          "text": [
            "18/09/2024 08:48\n"
          ]
        }
      ]
    },
    {
      "cell_type": "code",
      "source": [
        "d = datetime.datetime.strptime(date_string, \"%d/%m/%Y %H:%M\") # Converter a string para um objeto datetime\n",
        "print(d)"
      ],
      "metadata": {
        "id": "ON0SvHEg9qtg",
        "outputId": "0348e0e5-c09a-4d13-ee33-ea5bdd2d9f4a",
        "colab": {
          "base_uri": "https://localhost:8080/"
        }
      },
      "execution_count": 8,
      "outputs": [
        {
          "output_type": "stream",
          "name": "stdout",
          "text": [
            "2024-09-18 08:48:00\n"
          ]
        }
      ]
    },
    {
      "cell_type": "markdown",
      "source": [
        "# ***4 - Trabalhando com Timezone***\n",
        "**Trabalhando com Timezone em Python**\n",
        "\n",
        "Em Python, a manipulação de fusos horários é feita principalmente com a biblioteca `datetime`, que permite trabalhar com datas e horas de maneira eficiente. Para gerenciar fusos horários, você pode usar a classe `timezone` do módulo `datetime` ou bibliotecas externas como `pytz`.\n",
        "\n",
        "### Usando `datetime` e `timezone`\n",
        "\n",
        "1. **Importação**:\n",
        "   ```python\n",
        "   from datetime import datetime, timezone, timedelta\n",
        "   ```\n",
        "\n",
        "2. **Criando um objeto de data/hora com fuso horário**:\n",
        "   Para criar um objeto `datetime` com um fuso horário específico, você pode usar a classe `timezone` e um deslocamento em relação ao UTC.\n",
        "   ```python\n",
        "   # UTC+0\n",
        "   utc_time = datetime.now(timezone.utc)\n",
        "\n",
        "   # UTC-3 (exemplo do horário de Brasília)\n",
        "   br_time = datetime.now(timezone(timedelta(hours=-3)))\n",
        "   ```\n",
        "\n",
        "3. **Convertendo entre fusos horários**:\n",
        "   Para converter um objeto `datetime` de um fuso horário para outro, você pode usar o método `astimezone()`.\n",
        "   ```python\n",
        "   # Convertendo de UTC para UTC-3\n",
        "   utc_time = datetime.now(timezone.utc)\n",
        "   br_time = utc_time.astimezone(timezone(timedelta(hours=-3)))\n",
        "   ```\n",
        "\n",
        "### Usando a biblioteca `pytz`\n",
        "\n",
        "A biblioteca `pytz` oferece suporte mais robusto para fusos horários, incluindo o horário de verão.\n",
        "\n",
        "1. **Instalação**:\n",
        "   ```bash\n",
        "   pip install pytz\n",
        "   ```\n",
        "\n",
        "2. **Importação e uso**:\n",
        "   ```python\n",
        "   import pytz\n",
        "   from datetime import datetime\n",
        "\n",
        "   # Definindo o fuso horário\n",
        "   fuso_horario = pytz.timezone('America/Sao_Paulo')\n",
        "\n",
        "   # Obtendo a hora atual com o fuso horário\n",
        "   br_time = datetime.now(fuso_horario)\n",
        "\n",
        "   # Convertendo para outro fuso horário\n",
        "   fuso_horario_nova_york = pytz.timezone('America/New_York')\n",
        "   ny_time = br_time.astimezone(fuso_horario_nova_york)\n",
        "   ```\n",
        "\n",
        "### Resumo\n",
        "\n",
        "- Use a classe `timezone` do módulo `datetime` para trabalhar com fusos horários básicos.\n",
        "- Para suporte avançado a fusos horários, como horário de verão, utilize a biblioteca `pytz`.\n",
        "- Sempre esteja ciente do fuso horário ao trabalhar com datas e horas para evitar confusões.\n"
      ],
      "metadata": {
        "id": "eh1jSQPb_dts"
      }
    },
    {
      "cell_type": "code",
      "source": [
        "# Exemplo\n",
        "import pytz\n",
        "import datetime # Importando a biblioteca datetime\n",
        "from datetime import timezone, timedelta # Importando as classes timezone, timedelta\n"
      ],
      "metadata": {
        "id": "VlDsll-m_reV"
      },
      "execution_count": 11,
      "outputs": []
    },
    {
      "cell_type": "code",
      "source": [
        "# Exemplo\n",
        "\n",
        "d = datetime.datetime.now(pytz.timezone(\"America/Sao_Paulo\")) # Pegar a data atual com o fuso horário de São Paulo\n",
        "print(d)"
      ],
      "metadata": {
        "id": "qT-lECPDAkkO",
        "outputId": "c313ed1d-2139-4cc8-aa57-0a20239e8226",
        "colab": {
          "base_uri": "https://localhost:8080/"
        }
      },
      "execution_count": 15,
      "outputs": [
        {
          "output_type": "stream",
          "name": "stdout",
          "text": [
            "2024-09-18 09:21:19.017538-03:00\n"
          ]
        }
      ]
    },
    {
      "cell_type": "code",
      "source": [
        "# Data Usando Datetime\n",
        "from datetime import timezone\n",
        "\n",
        "d1 = datetime.datetime.now(datetime.timezone(datetime.timedelta(hours=-3), \"BRT\")) # Pegar a data atual com o fuso horário de Brasília\n",
        "print(d1)\n"
      ],
      "metadata": {
        "id": "AslKoL07FWyO",
        "outputId": "60e8e56d-3332-4fdc-f041-d19dda1a3abd",
        "colab": {
          "base_uri": "https://localhost:8080/"
        }
      },
      "execution_count": 20,
      "outputs": [
        {
          "output_type": "stream",
          "name": "stdout",
          "text": [
            "2024-09-18 09:27:01.539111-03:00\n"
          ]
        }
      ]
    },
    {
      "cell_type": "code",
      "source": [
        "d1_utc = d1.astimezone(datetime.timezone.utc) # Converter a data para o fuso horário UTC\n",
        "print(d1_utc)"
      ],
      "metadata": {
        "id": "_hLIaIh4F8l1",
        "outputId": "6d035f83-eb47-4429-a018-60842f3ebac7",
        "colab": {
          "base_uri": "https://localhost:8080/"
        }
      },
      "execution_count": 21,
      "outputs": [
        {
          "output_type": "stream",
          "name": "stdout",
          "text": [
            "2024-09-18 12:27:01.539111+00:00\n"
          ]
        }
      ]
    }
  ]
}