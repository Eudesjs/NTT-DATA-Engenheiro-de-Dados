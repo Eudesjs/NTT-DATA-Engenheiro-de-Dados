{
  "nbformat": 4,
  "nbformat_minor": 0,
  "metadata": {
    "colab": {
      "provenance": [],
      "authorship_tag": "ABX9TyM96XNNU0CeDnoohIgpEwgz",
      "include_colab_link": true
    },
    "kernelspec": {
      "name": "python3",
      "display_name": "Python 3"
    },
    "language_info": {
      "name": "python"
    }
  },
  "cells": [
    {
      "cell_type": "markdown",
      "metadata": {
        "id": "view-in-github",
        "colab_type": "text"
      },
      "source": [
        "<a href=\"https://colab.research.google.com/github/Eudesjs/NTT-DATA-Engenheiro-de-Dados/blob/main/NTT_DATA_Eng_Dados_Dicionario_Python.ipynb\" target=\"_parent\"><img src=\"https://colab.research.google.com/assets/colab-badge.svg\" alt=\"Open In Colab\"/></a>"
      ]
    },
    {
      "cell_type": "markdown",
      "source": [
        "# ***1 - Dicionario Criação e acesso aos Dados.***\n",
        "O \"Dicionário Criação e Acesso aos Dados\" refere-se ao conjunto de informações e diretrizes que detalham como os dados são gerados, armazenados e acessados em um sistema. Esse dicionário é essencial para garantir que todos os usuários compreendam a estrutura, o modelo e as regras relacionadas aos dados, facilitando a sua utilização de forma consistente e eficiente.\n",
        "\n",
        "Ele geralmente inclui:\n",
        "1. **Definições de dados**: O que cada dado representa.\n",
        "2. **Formatos de dados**: Como os dados são organizados (ex: textos, números, datas).\n",
        "3. **Regras de acesso**: Quem pode ver ou modificar os dados.\n",
        "4. **Relacionamentos**: Como os dados estão interconectados.\n",
        "5. **Procedimentos de criação**: Passos para inserir novos dados no sistema.\n",
        "\n",
        "Essas informações são fundamentais para manter a integridade e a qualidade dos dados no ambiente de trabalho.\n"
      ],
      "metadata": {
        "id": "AZ3K5dBh2YUW"
      }
    },
    {
      "cell_type": "markdown",
      "source": [
        "## ***1.1 - Dicionario em Python***\n",
        "Em Python, um dicionário é uma estrutura de dados do tipo coleção que armazena pares de chave-valor. Cada chave é única e é usada para acessar o valor associado a ela. Os dicionários são mutáveis, o que significa que você pode modificar seus conteúdos depois de criá-los.\n",
        "\n",
        "Aqui estão alguns conceitos e exemplos básicos sobre dicionários em Python:\n",
        "\n",
        "### Criação de um Dicionário\n",
        "\n",
        "Você pode criar um dicionário utilizando chaves `{}` ou a função `dict()`.\n",
        "\n",
        "```python\n",
        "# Usando chaves\n",
        "meu_dicionario = {\n",
        "    \"nome\": \"João\",\n",
        "    \"idade\": 30,\n",
        "    \"cidade\": \"São Paulo\"\n",
        "}\n",
        "\n",
        "# Usando a função dict()\n",
        "meu_dicionario = dict(nome=\"João\", idade=30, cidade=\"São Paulo\")\n",
        "```\n",
        "\n",
        "### Acesso a Valores\n",
        "\n",
        "Para acessar um valor em um dicionário, utiliza-se a chave correspondente.\n",
        "\n",
        "```python\n",
        "print(meu_dicionario[\"nome\"])  # Saída: João\n",
        "```\n",
        "\n",
        "### Adicionando e Modificando Valores\n",
        "\n",
        "Você pode adicionar novos pares de chave-valor ou modificar um valor existente.\n",
        "\n",
        "```python\n",
        "# Adicionando um novo par\n",
        "meu_dicionario[\"profissão\"] = \"Engenheiro\"\n",
        "\n",
        "# Modificando um valor\n",
        "meu_dicionario[\"idade\"] = 31\n",
        "```\n",
        "\n",
        "### Removendo um Item\n",
        "\n",
        "Para remover um item, você pode usar a palavra-chave `del` ou o método `pop()`.\n",
        "\n",
        "```python\n",
        "# Usando del\n",
        "del meu_dicionario[\"cidade\"]\n",
        "\n",
        "# Usando pop()\n",
        "profissao = meu_dicionario.pop(\"profissão\")\n",
        "```\n",
        "\n",
        "### Iterando sobre um Dicionário\n",
        "\n",
        "Para percorrer um dicionário, você pode usar um loop `for`.\n",
        "\n",
        "```python\n",
        "for chave, valor in meu_dicionario.items():\n",
        "    print(f\"{chave}: {valor}\")\n",
        "```\n",
        "\n",
        "### Exemplo Completo\n",
        "\n",
        "Aqui está um exemplo completo que demonstra algumas operações:\n",
        "\n",
        "```python\n",
        "# Criando um dicionário\n",
        "pessoa = {\n",
        "    \"nome\": \"Ana\",\n",
        "    \"idade\": 28,\n",
        "    \"cidade\": \"Rio de Janeiro\"\n",
        "}\n",
        "\n",
        "# Acessando valores\n",
        "print(pessoa[\"nome\"])  # Saída: Ana\n",
        "\n",
        "# Adicionando um novo par\n",
        "pessoa[\"estado\"] = \"RJ\"\n",
        "\n",
        "# Modificando um valor\n",
        "pessoa[\"idade\"] = 29\n",
        "\n",
        "# Removendo um item\n",
        "del pessoa[\"cidade\"]\n",
        "\n",
        "# Iterando sobre o dicionário\n",
        "for chave, valor in pessoa.items():\n",
        "    print(f\"{chave}: {valor}\")\n",
        "```\n",
        "\n",
        "### Saída do Exemplo\n",
        "```\n",
        "Ana\n",
        "nome: Ana\n",
        "idade: 29\n",
        "estado: RJ\n",
        "```\n",
        "\n",
        "Esses são os conceitos básicos sobre dicionários em Python! Se precisar de mais informações, fique à vontade para perguntar.\n"
      ],
      "metadata": {
        "id": "BDZd9u1F3CBe"
      }
    },
    {
      "cell_type": "code",
      "execution_count": 6,
      "metadata": {
        "colab": {
          "base_uri": "https://localhost:8080/"
        },
        "id": "m78OJccn020c",
        "outputId": "b8d00c8d-db82-4d99-d3b8-b8543928631f"
      },
      "outputs": [
        {
          "output_type": "stream",
          "name": "stdout",
          "text": [
            "{'nome': 'Eudes', 'idade': 42}\n",
            "<class 'dict'>\n",
            "{'nome': 'Eudes', 'idade': 42}\n",
            "<class 'dict'>\n",
            "{'nome': 'Eudes', 'idade': 42, 'telefone': '81983501684'}\n"
          ]
        }
      ],
      "source": [
        "# Criação e acesso a Dados.\n",
        "# Dicionario se usa Chave e Valor (Ex Nome (chave ), Eudes (Valor))\n",
        "pessoa = {\"nome\": \"Eudes\", \"idade\": 42} # Pode criar um Dicionario atraves de Chaves {}\n",
        "print(pessoa)\n",
        "print(type(pessoa))\n",
        "\n",
        "pessoa1 = dict(nome=\"Eudes\", idade=42) # Ou atraves de função dict()\n",
        "print(pessoa1)\n",
        "print(type(pessoa1))\n",
        "\n",
        "pessoa[\"telefone\"] = \"81983501684\" # Adiciona um novo elemento ao Dicionario\n",
        "print(pessoa)"
      ]
    },
    {
      "cell_type": "code",
      "source": [
        "# Acessar os Dados no Dicionario\n",
        "'''\n",
        "\"Acessar os Dados no Dicionário\" refere-se ao processo de obter valores armazenados em um dicionário em\n",
        "Python, utilizando suas chaves únicas.\n",
        "\n",
        "### Como Acessar Dados em um Dicionário:\n",
        "1. **Utilizando a chave**: Para acessar um valor, você deve usar a chave correspondente entre colchetes\n",
        "`[]`.\n",
        "   ```python\n",
        "   meu_dicionario = {\"nome\": \"João\", \"idade\": 30}\n",
        "   nome = meu_dicionario[\"nome\"]  # Acessa o valor associado à chave \"nome\"\n",
        "   ```\n",
        "2. **Usando o método `get()`**: Este método permite acessar um valor de forma segura, retornando `None`\n",
        "se a chave não existir, evitando erros.\n",
        "   ```python\n",
        "   idade = meu_dicionario.get(\"idade\")  # Retorna 30\n",
        "   nacionalidade = meu_dicionario.get(\"nacionalidade\")  # Retorna None\n",
        "   ```\n",
        "### Vantagens do Acesso:\n",
        "- **Simples e Direto**: Acessar dados por chave é rápido e facilita a manipulação de informações.\n",
        "- **Segurança com `get()`**: Usar `get()` previne erros caso a chave não exista no dicionário.\n",
        "### Exemplo Completo\n",
        "```python\n",
        "dados = {\"nome\": \"Maria\", \"idade\": 25, \"cidade\": \"Salvador\"}\n",
        "# Acesso direto\n",
        "print(dados[\"nome\"])  # Saída: Maria\n",
        "# Acesso seguro com get()\n",
        "print(dados.get(\"idade\"))  # Saída: 25\n",
        "print(dados.get(\"estado\"))  # Saída: None (sem erro)\n",
        "```\n",
        "Essa é uma visão clara e concisa sobre como acessar dados em um dicionário em Python! Se precisar de mais\n",
        "informações, sinta-se à vontade para perguntar.\n",
        "'''"
      ],
      "metadata": {
        "id": "ljqoh_qm5Cql"
      },
      "execution_count": null,
      "outputs": []
    },
    {
      "cell_type": "code",
      "source": [
        "# Exemplo\n",
        "pessoa = {\"nome\": \"Eudes\", \"idade\": 42, \"telefone\": 81983501684}\n",
        "print(pessoa[\"nome\"]) # Acessar pela Chave nome\n",
        "print(pessoa[\"idade\"])\n",
        "\n",
        "print(pessoa.get(\"telefone\")) # Acesso seguro com get()"
      ],
      "metadata": {
        "colab": {
          "base_uri": "https://localhost:8080/"
        },
        "id": "UDoDgNlT6cJ2",
        "outputId": "81b419c4-082d-4b98-cd7b-2ea5678c34b7"
      },
      "execution_count": 8,
      "outputs": [
        {
          "output_type": "stream",
          "name": "stdout",
          "text": [
            "Eudes\n",
            "42\n",
            "81983501684\n"
          ]
        }
      ]
    },
    {
      "cell_type": "code",
      "source": [
        "# Alterar valores\n",
        "pessoa = {\"nome\": \"Eudes\", \"idade\": 42, \"telefone\": 81983501684}\n",
        "pessoa[\"nome\"] = \"Eudes Silva\" # Alterar o valor da Chave nome\n",
        "print(pessoa)\n"
      ],
      "metadata": {
        "colab": {
          "base_uri": "https://localhost:8080/"
        },
        "id": "eHlP3HLG7TJF",
        "outputId": "0fd3f566-d19c-435e-a72a-7e26d24035bc"
      },
      "execution_count": 9,
      "outputs": [
        {
          "output_type": "stream",
          "name": "stdout",
          "text": [
            "{'nome': 'Eudes Silva', 'idade': 42, 'telefone': 81983501684}\n"
          ]
        }
      ]
    },
    {
      "cell_type": "markdown",
      "source": [
        "## ***1.2 - Dicionario Aninhados***\n",
        "\"Dicionários Aninhados\" em Python são dicionários que contêm outros dicionários como valores. Essa estrutura permite organizar e representar dados de maneira mais complexa e hierárquica.\n",
        "\n",
        "### Estrutura de um Dicionário Aninhado\n",
        "\n",
        "Um dicionário aninhado é criado da mesma forma que um dicionário comum, mas suas chaves podem mapear para novos dicionários. Veja um exemplo:\n",
        "\n",
        "```python\n",
        "dados = {\n",
        "    \"pessoa1\": {\n",
        "        \"nome\": \"Carlos\",\n",
        "        \"idade\": 28,\n",
        "        \"cidade\": \"Belo Horizonte\"\n",
        "    },\n",
        "    \"pessoa2\": {\n",
        "        \"nome\": \"Ana\",\n",
        "        \"idade\": 22,\n",
        "        \"cidade\": \"Recife\"\n",
        "    }\n",
        "}\n",
        "```\n",
        "\n",
        "### Acessando Dados em Dicionários Aninhados\n",
        "\n",
        "Para acessar um valor em um dicionário aninhado, você usa as chaves em sequência. Exemplo:\n",
        "\n",
        "```python\n",
        "nome_pessoa1 = dados[\"pessoa1\"][\"nome\"]  # Saída: Carlos\n",
        "idade_pessoa2 = dados[\"pessoa2\"][\"idade\"]  # Saída: 22\n",
        "```\n",
        "\n",
        "### Vantagens dos Dicionários Aninhados\n",
        "\n",
        "- **Organização**: Permitem agrupar informações relacionadas, facilitando a modelagem de dados complexos.\n",
        "- **Hierarquia**: Podem representar estruturas hierárquicas, como categorias de produtos ou dados de usuários.\n",
        "\n",
        "### Exemplo Completo\n",
        "\n",
        "```python\n",
        "usuarios = {\n",
        "    \"user1\": {\n",
        "        \"nome\": \"Lucas\",\n",
        "        \"email\": \"lucas@example.com\",\n",
        "        \"interesses\": [\"tecnologia\", \"música\"]\n",
        "    },\n",
        "    \"user2\": {\n",
        "        \"nome\": \"Mariana\",\n",
        "        \"email\": \"mariana@example.com\",\n",
        "        \"interesses\": [\"arte\", \"esportes\"]\n",
        "    }\n",
        "}\n",
        "\n",
        "# Acessando dados\n",
        "print(usuarios[\"user1\"][\"nome\"])  # Saída: Lucas\n",
        "print(usuarios[\"user2\"][\"interesses\"])  # Saída: ['arte', 'esportes']\n",
        "```\n",
        "\n",
        "Em resumo, dicionários aninhados são uma ferramenta poderosa para organizar e acessar dados relacionados em Python! Se precisar de mais informações, é só avisar.\n"
      ],
      "metadata": {
        "id": "PJ3-VVSj7gxs"
      }
    },
    {
      "cell_type": "code",
      "source": [
        "# Exemplo\n",
        "\n",
        "pessoa = {\n",
        "    \"eudsjs@gmail.com\": {\"nome\": \"Eudes Silva\", \"telefone\": \"3333-1234\"},\n",
        "    \"micheli@gmail.com\": {\"nome\": \"Michele\", \"telefone\": \"3333-4321\"}\n",
        "}\n",
        "print(pessoa[\"eudsjs@gmail.com\"]) # Acessar pela Chave\n",
        "\n",
        "print(pessoa[\"eudsjs@gmail.com\"][\"nome\"]) # Acessar pela Chave e pela Chave\n",
        "print(pessoa[\"eudsjs@gmail.com\"][\"telefone\"]) # Acessar pela Chave e pela Chave\n",
        "\n",
        "print(pessoa[\"micheli@gmail.com\"]) # Acessar pela Chave\n",
        "print(pessoa[\"micheli@gmail.com\"][\"nome\"]) # Acessar pela Chave e pela Chave\n",
        "print(pessoa[\"micheli@gmail.com\"][\"telefone\"]) # Acessar pela Chave e pela Chave"
      ],
      "metadata": {
        "colab": {
          "base_uri": "https://localhost:8080/"
        },
        "id": "lJAiPQj-7fS2",
        "outputId": "639ce672-6887-45f3-ea09-e4b8f1130920"
      },
      "execution_count": 12,
      "outputs": [
        {
          "output_type": "stream",
          "name": "stdout",
          "text": [
            "{'nome': 'Eudes Silva', 'telefone': '3333-1234'}\n",
            "Eudes Silva\n",
            "3333-1234\n",
            "{'nome': 'Michele', 'telefone': '3333-4321'}\n",
            "Michele\n",
            "3333-4321\n"
          ]
        }
      ]
    },
    {
      "cell_type": "markdown",
      "source": [
        "## ***1.3 - Iterar Dicionario***\n",
        "\"Iterar Dicionário\" refere-se ao processo de percorrer todos os pares de chave-valor em um dicionário em Python. A iteração permite acessar e manipular cada elemento contido no dicionário.\n",
        "\n",
        "### Formas de Iterar um Dicionário\n",
        "\n",
        "1. **Iterando sobre as Chaves**:\n",
        "   Por padrão, ao usar um loop `for` em um dicionário, você itera sobre as chaves.\n",
        "\n",
        "   ```python\n",
        "   meu_dicionario = {\"a\": 1, \"b\": 2, \"c\": 3}\n",
        "   \n",
        "   for chave in meu_dicionario:\n",
        "       print(chave)  # Saída: a, b, c\n",
        "   ```\n",
        "\n",
        "2. **Iterando sobre os Valores**:\n",
        "   Para iterar apenas pelos valores, você pode usar o método `values()`.\n",
        "\n",
        "   ```python\n",
        "   for valor in meu_dicionario.values():\n",
        "       print(valor)  # Saída: 1, 2, 3\n",
        "   ```\n",
        "\n",
        "3. **Iterando sobre Chaves e Valores**:\n",
        "   Para acessar tanto as chaves quanto os valores, utilize o método `items()`.\n",
        "\n",
        "   ```python\n",
        "   for chave, valor in meu_dicionario.items():\n",
        "       print(f\"Chave: {chave}, Valor: {valor}\")\n",
        "       # Saída: Chave: a, Valor: 1; Chave: b, Valor: 2; Chave: c, Valor: 3\n",
        "   ```\n",
        "\n",
        "### Exemplo Completo\n",
        "\n",
        "Aqui está um exemplo que demonstra as três formas de iteração:\n",
        "\n",
        "```python\n",
        "dados = {\"nome\": \"Maria\", \"idade\": 30, \"cidade\": \"São Paulo\"}\n",
        "\n",
        "# Iterando sobre as chaves\n",
        "for chave in dados:\n",
        "    print(chave)  # Saída: nome, idade, cidade\n",
        "\n",
        "# Iterando sobre os valores\n",
        "for valor in dados.values():\n",
        "    print(valor)  # Saída: Maria, 30, São Paulo\n",
        "\n",
        "# Iterando sobre chaves e valores\n",
        "for chave, valor in dados.items():\n",
        "    print(f\"{chave}: {valor}\")  # Saída: nome: Maria, idade: 30, cidade: São Paulo\n",
        "```\n",
        "\n",
        "### Resumo\n",
        "\n",
        "Iterar sobre um dicionário em Python é uma maneira eficaz de acessar e manipular seus dados. Você pode escolher iterar apenas sobre as chaves, apenas sobre os valores ou sobre ambos, conforme a necessidade da sua aplicação. Se precisar de mais informações, estou à disposição!\n"
      ],
      "metadata": {
        "id": "Sb-GTKxb-Ad9"
      }
    },
    {
      "cell_type": "code",
      "source": [
        "# Exemplo usando o comando FOR\n",
        "\n",
        "pessoa = {\"nome\": \"Eudes\", \"idade\": 42, \"telefone\": 81983501684}\n",
        "for chave in pessoa: # iterando atraves da chave\n",
        "    print(chave)\n"
      ],
      "metadata": {
        "colab": {
          "base_uri": "https://localhost:8080/"
        },
        "id": "PqyHBZjK9TYM",
        "outputId": "ac068fbd-2f51-4615-a7a9-49e1d5ed9999"
      },
      "execution_count": 13,
      "outputs": [
        {
          "output_type": "stream",
          "name": "stdout",
          "text": [
            "nome\n",
            "idade\n",
            "telefone\n"
          ]
        }
      ]
    },
    {
      "cell_type": "code",
      "source": [
        "# Exemplo\n",
        "\n",
        "pessoa = {\"nome\": \"Eudes\", \"idade\": 42, \"telefone\": 81983501684}\n",
        "for valor in pessoa.values(): # iterando atraves dos valores\n",
        "    print(valor)"
      ],
      "metadata": {
        "colab": {
          "base_uri": "https://localhost:8080/"
        },
        "id": "eC_Id07Z_QKY",
        "outputId": "601ac47d-b36d-4273-a900-c1deccf88534"
      },
      "execution_count": 14,
      "outputs": [
        {
          "output_type": "stream",
          "name": "stdout",
          "text": [
            "Eudes\n",
            "42\n",
            "81983501684\n"
          ]
        }
      ]
    },
    {
      "cell_type": "code",
      "source": [
        "# Exemplo\n",
        "\n",
        "pessoa = {\"nome\": \"Eudes\", \"idade\": 42, \"telefone\": 81983501684}\n",
        "for chave, valor in pessoa.items(): # iterando atraves da chave e valor\n",
        "    print(f\"{chave}: {valor}\")"
      ],
      "metadata": {
        "colab": {
          "base_uri": "https://localhost:8080/"
        },
        "id": "xAxcTQLP_XuW",
        "outputId": "3e5466ab-b6ba-4af0-dfc2-926260553678"
      },
      "execution_count": 15,
      "outputs": [
        {
          "output_type": "stream",
          "name": "stdout",
          "text": [
            "nome: Eudes\n",
            "idade: 42\n",
            "telefone: 81983501684\n"
          ]
        }
      ]
    },
    {
      "cell_type": "code",
      "source": [
        "# Exemplo Dicionario aninhdado\n",
        "\n",
        "pessoa = {\n",
        "    \"eudesjs@gmail.com\": {\"nome\": \"Eudes Silva\", \"telefone\": \"3333-1234\"},\n",
        "    \"micheli@gmail.com\": {\"nome\": \"Michele\", \"telefone\": \"3333-4321\"}\n",
        "}\n",
        "\n",
        "for chave in pessoa: # Iterando atraves da chave\n",
        "    print(chave)\n",
        "\n",
        "for valor in pessoa.values(): # Iterando atraves dos valores\n",
        "    print(valor)\n",
        "\n",
        "for chave, valor in pessoa.items(): # Iterando com chave e valor\n",
        "    print(f\"{chave}: {valor}\")\n",
        "\n"
      ],
      "metadata": {
        "colab": {
          "base_uri": "https://localhost:8080/"
        },
        "id": "9_ei9aOW_8u6",
        "outputId": "09f26b53-ea18-4ca9-8ca3-d448b51b21e5"
      },
      "execution_count": 17,
      "outputs": [
        {
          "output_type": "stream",
          "name": "stdout",
          "text": [
            "eudesjs@gmail.com\n",
            "micheli@gmail.com\n",
            "{'nome': 'Eudes Silva', 'telefone': '3333-1234'}\n",
            "{'nome': 'Michele', 'telefone': '3333-4321'}\n",
            "eudesjs@gmail.com: {'nome': 'Eudes Silva', 'telefone': '3333-1234'}\n",
            "micheli@gmail.com: {'nome': 'Michele', 'telefone': '3333-4321'}\n"
          ]
        }
      ]
    },
    {
      "cell_type": "markdown",
      "source": [
        "# ***2 - Métodos da Classe Dict***\n",
        "A classe `dict` em Python fornece uma variedade de métodos para manipular dicionários. Abaixo estão alguns dos métodos mais utilizados e suas descrições:\n",
        "\n",
        "### Métodos Comuns da Classe `dict`\n",
        "\n",
        "1. **`get(chave, valor_default=None)`**:\n",
        "   Retorna o valor associado à chave. Se a chave não existir, retorna `valor_default` (que é `None` por padrão).\n",
        "\n",
        "   ```python\n",
        "   meu_dicionario = {\"a\": 1, \"b\": 2}\n",
        "   valor = meu_dicionario.get(\"c\", 0)  # Saída: 0\n",
        "   ```\n",
        "\n",
        "2. **`keys()`**:\n",
        "   Retorna uma visão das chaves do dicionário.\n",
        "\n",
        "   ```python\n",
        "   chaves = meu_dicionario.keys()  # Saída: ['a', 'b']\n",
        "   ```\n",
        "\n",
        "3. **`values()`**:\n",
        "   Retorna uma visão dos valores do dicionário.\n",
        "\n",
        "   ```python\n",
        "   valores = meu_dicionario.values()  # Saída: [1, 2]\n",
        "   ```\n",
        "\n",
        "4. **`items()`**:\n",
        "   Retorna uma visão dos pares (chave, valor) do dicionário.\n",
        "\n",
        "   ```python\n",
        "   itens = meu_dicionario.items()  # Saída: [('a', 1), ('b', 2)]\n",
        "   ```\n",
        "\n",
        "5. **`update(outro_dicionario)`**:\n",
        "   Adiciona pares chave-valor de outro dicionário ao dicionário atual. Se uma chave já existir, o valor será atualizado.\n",
        "\n",
        "   ```python\n",
        "   meu_dicionario.update({\"b\": 3, \"c\": 4})\n",
        "   # Resultado: {\"a\": 1, \"b\": 3, \"c\": 4}\n",
        "   ```\n",
        "\n",
        "6. **`pop(chave, valor_default=None)`**:\n",
        "   Remove a chave especificada e retorna seu valor. Se a chave não existir, retorna `valor_default`.\n",
        "\n",
        "   ```python\n",
        "   valor_removido = meu_dicionario.pop(\"a\", 0)  # Saída: 1\n",
        "   ```\n",
        "\n",
        "7. **`popitem()`**:\n",
        "   Remove e retorna um par (chave, valor) do dicionário. Se o dicionário estiver vazio, gera um erro.\n",
        "\n",
        "   ```python\n",
        "   par_removido = meu_dicionario.popitem()  # Saída: ('b', 3)\n",
        "   ```\n",
        "\n",
        "8. **`clear()`**:\n",
        "   Remove todos os itens do dicionário.\n",
        "\n",
        "   ```python\n",
        "   meu_dicionario.clear()  # Dicionário fica vazio\n",
        "   ```\n",
        "\n",
        "### Resumo\n",
        "\n",
        "Esses métodos fornecem funcionalidades essenciais para gerenciar e manipular dicionários em Python, permitindo acesso, atualização e remoção de pares de chave-valor de forma eficiente. Se precisar de mais informações sobre algum método específico, estou à disposição!\n"
      ],
      "metadata": {
        "id": "TMnxK2xoAYo0"
      }
    },
    {
      "cell_type": "code",
      "source": [
        "# Exemplo Metodo Clear\n",
        "\n",
        "pessoa = {\"nome\": \"Eudes\", \"idade\": 42, \"telefone\": 81983501684}\n",
        "pessoa.clear() # Remove todos os itens do dicionário.\n",
        "print(pessoa)"
      ],
      "metadata": {
        "colab": {
          "base_uri": "https://localhost:8080/"
        },
        "id": "FdRTxbyxAnz4",
        "outputId": "24b387e5-aec8-42db-cd25-6104ef7c1c32"
      },
      "execution_count": 18,
      "outputs": [
        {
          "output_type": "stream",
          "name": "stdout",
          "text": [
            "{}\n"
          ]
        }
      ]
    },
    {
      "cell_type": "code",
      "source": [
        "# Exemplo Metodo copy\n",
        "\n",
        "pessoa = {\"nome\": \"Eudes\", \"idade\": 42, \"telefone\": 81983501684}\n",
        "pessoa1 = pessoa.copy() # Retorna uma cópia do dicionário.\n",
        "print(pessoa1)"
      ],
      "metadata": {
        "colab": {
          "base_uri": "https://localhost:8080/"
        },
        "id": "JlzHkaJNA-bR",
        "outputId": "10544333-e110-417b-f42a-951139f5a5f4"
      },
      "execution_count": 19,
      "outputs": [
        {
          "output_type": "stream",
          "name": "stdout",
          "text": [
            "{'nome': 'Eudes', 'idade': 42, 'telefone': 81983501684}\n"
          ]
        }
      ]
    },
    {
      "cell_type": "code",
      "source": [
        "# Exemplo Metodo Fromkeys\n",
        "\n",
        "pessoa = {\"nome\": \"Eudes\", \"idade\": 42, \"telefone\": 81983501684}\n",
        "pessoa1 = ((\"nome\", \"Eudes\"), (\"idade\", 42), (\"telefone\", 81983501684))\n",
        "pessoa2 = dict.fromkeys(pessoa, pessoa1) # Cria um novo dicionário com as chaves do dicionário especificado e valores definidos.\n",
        "print(pessoa2)"
      ],
      "metadata": {
        "colab": {
          "base_uri": "https://localhost:8080/"
        },
        "id": "f-MVrUWfBJU4",
        "outputId": "c4fbb9f2-b96d-4c0b-a5ea-80a466efafd4"
      },
      "execution_count": 20,
      "outputs": [
        {
          "output_type": "stream",
          "name": "stdout",
          "text": [
            "{'nome': (('nome', 'Eudes'), ('idade', 42), ('telefone', 81983501684)), 'idade': (('nome', 'Eudes'), ('idade', 42), ('telefone', 81983501684)), 'telefone': (('nome', 'Eudes'), ('idade', 42), ('telefone', 81983501684))}\n"
          ]
        }
      ]
    },
    {
      "cell_type": "code",
      "source": [
        "# Criar um Dicionario usando metodo fromkeys\n",
        "\n",
        "dict1 = dict.fromkeys([\"Nome\", \"Telefone\"], \"vazio\") # Criando Dicionario Vazio\n",
        "print(dict1)\n",
        "\n",
        "dict2 = dict.fromkeys([\"Nome\", \"Telefone\"], \"vazio\") # Criando Dicionario Vazio\n",
        "print(dict2)\n"
      ],
      "metadata": {
        "colab": {
          "base_uri": "https://localhost:8080/"
        },
        "id": "gHkbI1dCBvek",
        "outputId": "c23f8051-3ec1-40f8-b929-27c23c91bcba"
      },
      "execution_count": 27,
      "outputs": [
        {
          "output_type": "stream",
          "name": "stdout",
          "text": [
            "{'Nome': 'vazio', 'Telefone': 'vazio'}\n",
            "{'Nome': 'vazio', 'Telefone': 'vazio'}\n"
          ]
        }
      ]
    },
    {
      "cell_type": "code",
      "source": [
        "# Exemplo usando Metodo get.\n",
        "\n",
        "pessoa = {\"nome\": \"Eudes\", \"idade\": 42, \"telefone\": 81983501684}\n",
        "print(pessoa.get(\"nome\")) # Retorna o valor associado à chave \"nome\"\n",
        "print(pessoa.get(\"idade\")) # Retorna o valor associado à chave \"idade\"\n",
        "print(pessoa.get(\"telefone\")) # Retorna o valor associado à chave \"telefone\n"
      ],
      "metadata": {
        "colab": {
          "base_uri": "https://localhost:8080/"
        },
        "id": "LW2Isq_yFPnN",
        "outputId": "70b20402-d58f-4d49-819f-41213998ced1"
      },
      "execution_count": 29,
      "outputs": [
        {
          "output_type": "stream",
          "name": "stdout",
          "text": [
            "Eudes\n",
            "42\n",
            "81983501684\n"
          ]
        }
      ]
    },
    {
      "cell_type": "code",
      "source": [
        "# Exemplo usando metodo Items\n",
        "\n",
        "pessoa = {\"nome\": \"Eudes\", \"idade\": 42, \"telefone\": 81983501684}\n",
        "print(pessoa.items()) # Retorna uma visão dos pares (chave, valor) do dicionário.\n",
        "\n"
      ],
      "metadata": {
        "colab": {
          "base_uri": "https://localhost:8080/"
        },
        "id": "J_pYSU0QFrOl",
        "outputId": "cf5714c7-276d-47ba-ec26-9ac275b68920"
      },
      "execution_count": 30,
      "outputs": [
        {
          "output_type": "stream",
          "name": "stdout",
          "text": [
            "dict_items([('nome', 'Eudes'), ('idade', 42), ('telefone', 81983501684)])\n"
          ]
        }
      ]
    },
    {
      "cell_type": "code",
      "source": [
        "# Exemplo usando metodo keys\n",
        "\n",
        "pessoa = {\"nome\": \"Eudes\", \"idade\": 42, \"telefone\": 81983501684}\n",
        "print(pessoa.keys()) # Retorna uma visão das chaves do dicionário.\n"
      ],
      "metadata": {
        "colab": {
          "base_uri": "https://localhost:8080/"
        },
        "id": "M_9Eg3SYF57K",
        "outputId": "f9953334-87af-4d89-f7f9-0dfff681a3e8"
      },
      "execution_count": 31,
      "outputs": [
        {
          "output_type": "stream",
          "name": "stdout",
          "text": [
            "dict_keys(['nome', 'idade', 'telefone'])\n"
          ]
        }
      ]
    },
    {
      "cell_type": "code",
      "source": [
        "# Exemplo usando metodo pop\n",
        "\n",
        "pessoa = {\"nome\": \"Eudes\", \"idade\": 42, \"telefone\": 81983501684}\n",
        "pessoa.pop(\"nome\") # Remove a chave especificada e retorna seu valor.\n",
        "print(pessoa)\n",
        "\n"
      ],
      "metadata": {
        "colab": {
          "base_uri": "https://localhost:8080/"
        },
        "id": "knD2xzjiGQVp",
        "outputId": "4a90ba07-6b62-449c-dc3e-f19ef21df817"
      },
      "execution_count": 32,
      "outputs": [
        {
          "output_type": "stream",
          "name": "stdout",
          "text": [
            "{'idade': 42, 'telefone': 81983501684}\n"
          ]
        }
      ]
    },
    {
      "cell_type": "code",
      "source": [
        "# Exemplo usando metodo popitem\n",
        "\n",
        "pessoa = {\"nome\": \"Eudes\", \"idade\": 42, \"telefone\": 81983501684}\n",
        "pessoa.popitem() # Remove e retorna um par (chave, valor) do dicionário.\n",
        "print(pessoa)\n"
      ],
      "metadata": {
        "colab": {
          "base_uri": "https://localhost:8080/"
        },
        "id": "5szrU7etGtkI",
        "outputId": "efe43272-8346-4c9b-f725-96448dc8d356"
      },
      "execution_count": 35,
      "outputs": [
        {
          "output_type": "stream",
          "name": "stdout",
          "text": [
            "{'nome': 'Eudes', 'idade': 42}\n"
          ]
        }
      ]
    },
    {
      "cell_type": "code",
      "source": [
        "# Exemplo usando metodo setdefault\n",
        "\n",
        "pessoa = {\"nome\": \"Eudes\", \"idade\": 42, \"telefone\": 81983501684}\n",
        "print(pessoa.setdefault(\"nome\", \"Eudes Silva\")) # Retorna o valor associado à chave \"nome\"\n",
        "print(pessoa.setdefault(\"estado civil\", \"casado\")) # Retorna o valor associado à chave \"nome\"\n"
      ],
      "metadata": {
        "colab": {
          "base_uri": "https://localhost:8080/"
        },
        "id": "oeEI1R1sHC7Q",
        "outputId": "233b4f25-110b-4e61-b265-01ad79b07e67"
      },
      "execution_count": 41,
      "outputs": [
        {
          "output_type": "stream",
          "name": "stdout",
          "text": [
            "Eudes\n",
            "casado\n"
          ]
        }
      ]
    },
    {
      "cell_type": "code",
      "source": [
        "# Exemplo usando metodo update\n",
        "\n",
        "pessoa = {\"nome\": \"Eudes\", \"idade\": 42, \"telefone\": 81983501684}\n",
        "pessoa.update({\"nome\": \"Eudes Silva\", \"estado civil\": \"casado\"}) # Adiciona pares chave-valor de outro dicionário ao dicionário atual.\n",
        "print(pessoa)"
      ],
      "metadata": {
        "colab": {
          "base_uri": "https://localhost:8080/"
        },
        "id": "_QdpG2diHiB6",
        "outputId": "5b1377b9-d190-44ce-bcb7-c04f1eed11bb"
      },
      "execution_count": 42,
      "outputs": [
        {
          "output_type": "stream",
          "name": "stdout",
          "text": [
            "{'nome': 'Eudes Silva', 'idade': 42, 'telefone': 81983501684, 'estado civil': 'casado'}\n"
          ]
        }
      ]
    },
    {
      "cell_type": "code",
      "source": [
        "# Exemplo usando metodo values\n",
        "\n",
        "pessoa = {\"nome\": \"Eudes\", \"idade\": 42, \"telefone\": 81983501684}\n",
        "print(pessoa.values()) # Retorna uma visão dos valores do dicionário.\n"
      ],
      "metadata": {
        "colab": {
          "base_uri": "https://localhost:8080/"
        },
        "id": "DIVVx1U3IaHU",
        "outputId": "44011f46-0d13-4178-abd2-9215b1d49691"
      },
      "execution_count": 43,
      "outputs": [
        {
          "output_type": "stream",
          "name": "stdout",
          "text": [
            "dict_values(['Eudes', 42, 81983501684])\n"
          ]
        }
      ]
    },
    {
      "cell_type": "code",
      "source": [
        "# Exemplo usando metodo in\n",
        "\n",
        "pessoa = {\"nome\": \"Eudes\", \"idade\": 42, \"telefone\": 81983501684}\n",
        "print(\"nome\" in pessoa) # Verifica se a chave \"nome\" existe no dicionário.\n",
        "print(\"nome\" not in pessoa) # Verifica se a chave \"nome\" não existe no dicionário\n"
      ],
      "metadata": {
        "colab": {
          "base_uri": "https://localhost:8080/"
        },
        "id": "WmT_QwmJIrOC",
        "outputId": "1ee73bc2-cf8f-4eec-afc7-30c51441491b"
      },
      "execution_count": 44,
      "outputs": [
        {
          "output_type": "stream",
          "name": "stdout",
          "text": [
            "True\n",
            "False\n"
          ]
        }
      ]
    },
    {
      "cell_type": "code",
      "source": [
        "# Exemplo usando metodo del\n",
        "\n",
        "pessoa = {\"nome\": \"Eudes\", \"idade\": 42, \"telefone\": 81983501684}\n",
        "del pessoa[\"nome\"] # Remove a chave especificada.\n",
        "print(pessoa)"
      ],
      "metadata": {
        "colab": {
          "base_uri": "https://localhost:8080/"
        },
        "id": "Wj2BLaNcJi2v",
        "outputId": "f98d4dbe-48e1-4bf9-93ad-7bc489d278ca"
      },
      "execution_count": 46,
      "outputs": [
        {
          "output_type": "stream",
          "name": "stdout",
          "text": [
            "{'idade': 42, 'telefone': 81983501684}\n"
          ]
        }
      ]
    }
  ]
}