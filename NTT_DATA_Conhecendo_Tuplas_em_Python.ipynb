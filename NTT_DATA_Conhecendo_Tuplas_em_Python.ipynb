{
  "nbformat": 4,
  "nbformat_minor": 0,
  "metadata": {
    "colab": {
      "provenance": [],
      "authorship_tag": "ABX9TyMKHGy1E+jKMfEorYJXvVQl",
      "include_colab_link": true
    },
    "kernelspec": {
      "name": "python3",
      "display_name": "Python 3"
    },
    "language_info": {
      "name": "python"
    }
  },
  "cells": [
    {
      "cell_type": "markdown",
      "metadata": {
        "id": "view-in-github",
        "colab_type": "text"
      },
      "source": [
        "<a href=\"https://colab.research.google.com/github/Eudesjs/NTT-DATA-Engenheiro-de-Dados/blob/main/NTT_DATA_Conhecendo_Tuplas_em_Python.ipynb\" target=\"_parent\"><img src=\"https://colab.research.google.com/assets/colab-badge.svg\" alt=\"Open In Colab\"/></a>"
      ]
    },
    {
      "cell_type": "markdown",
      "source": [
        "# ***1 - Conhecendo Tuplas em Python***\n",
        "Tuplas em Python são estruturas de dados que permitem armazenar uma coleção de itens. Elas são semelhantes às listas, mas possuem algumas características distintas:\n",
        "\n",
        "1. **Imutabilidade**: Uma vez criada, uma tupla não pode ser alterada. Isso significa que você não pode adicionar, remover ou modificar elementos após a sua criação.\n",
        "2. **Sintaxe**: As tuplas são definidas usando parênteses. Por exemplo:\n",
        "   ```python\n",
        "   minha_tupla = (1, 2, 3)\n",
        "   ```\n",
        "\n",
        "3. **Acesso a Elementos**: Você pode acessar os elementos de uma tupla usando índices, assim como nas listas. O índice começa em 0. Por exemplo:\n",
        "   ```python\n",
        "   primeiro_elemento = minha_tupla[0]  # Retorna 1\n",
        "   ```\n",
        "4. **Tipos de Dados**: As tuplas podem conter diferentes tipos de dados, incluindo números, strings e até outras tuplas.\n",
        "5. **Uso**: As tuplas são frequentemente usadas para armazenar dados que não devem ser alterados, como coordenadas ou registros de dados.\n",
        "6. **Desempacotamento**: Você pode desempacotar uma tupla em variáveis individuais:\n",
        "   ```python\n",
        "   a, b, c = minha_tupla\n",
        "   ```\n",
        "Em resumo, as tuplas são uma maneira eficiente de agrupar dados que não precisam ser alterados, oferecendo uma estrutura leve e rápida para acesso a elementos.\n"
      ],
      "metadata": {
        "id": "mFM_mQj34ezX"
      }
    },
    {
      "cell_type": "code",
      "source": [
        "# Exemplo 1\n",
        "\n",
        "frutas = (\"maçã\", \"banana\", \"laranja\",)  # Criando uma tupla de frutas\n",
        "print(frutas[0])  # Lendo a tupla atraves do Indice. Saída: maçã\n",
        "print(frutas[1])  # Lendo a tupla atraves do Indice. Saída: banana\n",
        "print(frutas[2])  # Lendo a tupla atraves do Indice. Saída: laranja"
      ],
      "metadata": {
        "colab": {
          "base_uri": "https://localhost:8080/"
        },
        "id": "evZ_kjyQ7Aci",
        "outputId": "77ff3e1b-2f4e-4d83-cc2e-09f4e3487f97"
      },
      "execution_count": 2,
      "outputs": [
        {
          "output_type": "stream",
          "name": "stdout",
          "text": [
            "maçã\n",
            "banana\n",
            "laranja\n"
          ]
        }
      ]
    },
    {
      "cell_type": "code",
      "execution_count": 3,
      "metadata": {
        "colab": {
          "base_uri": "https://localhost:8080/"
        },
        "id": "ZylH1saT4Pc7",
        "outputId": "bca1ffe4-6dea-4352-8c86-701075a48e17"
      },
      "outputs": [
        {
          "output_type": "stream",
          "name": "stdout",
          "text": [
            "1\n"
          ]
        }
      ],
      "source": [
        "# Exemplo 1\n",
        "# Criando uma tupla\n",
        "minha_tupla = (1, 2, 3)\n",
        "\n",
        "# Acessando elementos da tupla\n",
        "print(minha_tupla[0])  # Saída: 1"
      ]
    },
    {
      "cell_type": "code",
      "source": [
        "# Exemplo 2 Usando Matriz\n",
        "\n",
        "matriz = (\n",
        "    (1, \"a\", 2),\n",
        "    (\"b\", 3, 4),\n",
        "    (6, 5, \"c\"),\n",
        ")\n",
        "\n",
        "matriz[0] # Saida (1, \"a\", 2)\n",
        "matriz[0][0] # Saida 1\n",
        "matriz[0][1] # Saida \"a\"\n",
        "matriz[0][2] # Saida 2\n",
        "matriz[0][-1] # Saida 2"
      ],
      "metadata": {
        "colab": {
          "base_uri": "https://localhost:8080/"
        },
        "id": "Ky_gOBT97g7p",
        "outputId": "5b731aa4-5b68-44eb-fed7-1a383c42b77b"
      },
      "execution_count": 5,
      "outputs": [
        {
          "output_type": "execute_result",
          "data": {
            "text/plain": [
              "2"
            ]
          },
          "metadata": {},
          "execution_count": 5
        }
      ]
    },
    {
      "cell_type": "markdown",
      "source": [
        "## ***1.2 = Fatiamento em Tuplas***\n",
        "Fatiamento em tuplas (ou slicing) é uma técnica que permite acessar uma parte específica de uma tupla, retornando uma nova tupla com os elementos selecionados. A sintaxe básica para fatiamento é:\n",
        "\n",
        "```python\n",
        "tupla[início:fim:passo]\n",
        "```\n",
        "\n",
        "- **início**: índice onde o fatiamento começa (inclusivo).\n",
        "- **fim**: índice onde o fatiamento termina (exclusivo).\n",
        "- **passo**: intervalo entre os índices (opcional).\n",
        "\n",
        "### Exemplos:\n",
        "\n",
        "1. **Fatiamento Simples**:\n",
        "   ```python\n",
        "   minha_tupla = (0, 1, 2, 3, 4, 5)\n",
        "   fatiada = minha_tupla[1:4]  # Retorna (1, 2, 3)\n",
        "   ```\n",
        "\n",
        "2. **Fatiamento com Passo**:\n",
        "   ```python\n",
        "   fatiada_com_passo = minha_tupla[::2]  # Retorna (0, 2, 4)\n",
        "   ```\n",
        "\n",
        "3. **Fatiamento Negativo**:\n",
        "   ```python\n",
        "   fatiada_negativa = minha_tupla[-3:]  # Retorna (3, 4, 5)\n",
        "   ```\n",
        "\n",
        "### Considerações:\n",
        "- O fatiamento não altera a tupla original, pois as tuplas são imutáveis.\n",
        "- Se os índices estiverem fora do intervalo, Python não gerará um erro; ele simplesmente retornará uma tupla vazia.\n",
        "\n",
        "O fatiamento é uma ferramenta poderosa para manipular e acessar dados em tuplas de forma eficiente.\n"
      ],
      "metadata": {
        "id": "XSJ94n7Z4eWR"
      }
    },
    {
      "cell_type": "code",
      "source": [
        "# Exemplo 1\n",
        "\n",
        "minha_tupla = (0, 1, 2, 3, 4, 5)\n",
        "fatiada = minha_tupla[1:4]  # Retorna (1, 2, 3)\n",
        "print(fatiada) # Saida (1, 2, 3)\n"
      ],
      "metadata": {
        "id": "KS98FIgX8680"
      },
      "execution_count": null,
      "outputs": []
    },
    {
      "cell_type": "code",
      "source": [
        "# Exemplo 2\n",
        "\n",
        "tupla1 = (1, 2, 3, 4, 5)\n",
        "tupla2 = (6, 7, 8, 9, 10)\n",
        "\n",
        "# Concatenando as tuplas\n",
        "tupla_concatenada = tupla1 + tupla2\n",
        "\n",
        "# Imprimindo a tupla concatenada\n",
        "print(tupla_concatenada)  # Saída: (1, 2, 3, 4, 5, 6, 7, 8, 9, 10)"
      ],
      "metadata": {
        "id": "hvxOhkwR9Qjl"
      },
      "execution_count": null,
      "outputs": []
    },
    {
      "cell_type": "code",
      "source": [
        "# Exemplo 2\n",
        "\n",
        "tupla = (1, 2, 3, 4, 5)\n",
        "\n",
        "# Verificando se um elemento está presente na tupla\n",
        "if 3 in tupla:\n",
        "    print(\"O elemento 3 está presente na tupla.\")\n",
        "    print(tupla.index(3))\n",
        "else:\n",
        "    print(\"O elemento 3 não está presente na tupla.\")\n"
      ],
      "metadata": {
        "id": "rQDi9Iol9tvw"
      },
      "execution_count": null,
      "outputs": []
    }
  ]
}