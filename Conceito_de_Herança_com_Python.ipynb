{
  "nbformat": 4,
  "nbformat_minor": 0,
  "metadata": {
    "colab": {
      "provenance": [],
      "authorship_tag": "ABX9TyNsCcXnoX8yv95MiJWPKJ92",
      "include_colab_link": true
    },
    "kernelspec": {
      "name": "python3",
      "display_name": "Python 3"
    },
    "language_info": {
      "name": "python"
    }
  },
  "cells": [
    {
      "cell_type": "markdown",
      "metadata": {
        "id": "view-in-github",
        "colab_type": "text"
      },
      "source": [
        "<a href=\"https://colab.research.google.com/github/Eudesjs/NTT-DATA-Engenheiro-de-Dados/blob/main/Conceito_de_Heran%C3%A7a_com_Python.ipynb\" target=\"_parent\"><img src=\"https://colab.research.google.com/assets/colab-badge.svg\" alt=\"Open In Colab\"/></a>"
      ]
    },
    {
      "cell_type": "markdown",
      "source": [
        "# ***1 - Aprendendo o Conceito de Herança Com Python***\n",
        "Herança é um conceito fundamental em programação orientada a objetos que permite que uma classe (chamada de classe filha ou subclasse) herde atributos e métodos de outra classe (chamada de classe pai ou superclasse). Isso promove a reutilização de código e facilita a manutenção.\n",
        "\n",
        "Em Python, a herança é implementada simplesmente definindo a subclasse com o nome da superclasse entre parênteses. Aqui está um exemplo básico:\n",
        "\n",
        "```python\n",
        "class Animal:  # Classe pai\n",
        "    def mover(self):\n",
        "        print(\"Este animal se move.\")\n",
        "\n",
        "class Cachorro(Animal):  # Classe filha\n",
        "    def latir(self):\n",
        "        print(\"O cachorro late.\")\n",
        "\n",
        "# Uso das classes\n",
        "cachorro = Cachorro()\n",
        "cachorro.mover()  # Herda o método da classe pai\n",
        "cachorro.latir()   # Método da classe filha\n",
        "```\n",
        "\n",
        "Neste exemplo, a classe `Cachorro` herda o método `mover` da classe `Animal`, permitindo que um objeto `Cachorro` utilize esse método. A herança ajuda a criar hierarquias de classes e a organizar melhor o código.\n"
      ],
      "metadata": {
        "id": "Ib7hJ31zMqBL"
      }
    },
    {
      "cell_type": "markdown",
      "source": [
        "## ***1.1 - Herança Simples***\n",
        "**Herança Simples**\n",
        "\n",
        "A herança simples é um tipo de herança em que uma classe filha herda atributos e métodos de uma única classe pai. Isso significa que a subclasse pode acessar e utilizar os recursos da superclasse diretamente.\n",
        "\n",
        "### Exemplo de Herança Simples\n",
        "\n",
        "```python\n",
        "class Veiculo:  # Classe Pai\n",
        "    def ligar(self):\n",
        "        print(\"Veículo ligado.\")\n",
        "\n",
        "class Carro(Veiculo):  # Classe Filha\n",
        "    def buzinar(self):\n",
        "        print(\"Carro buzinando.\")\n",
        "\n",
        "# Uso das classes\n",
        "carro = Carro()\n",
        "carro.ligar()  # Acessa método da classe pai\n",
        "carro.buzinar()  # Método da classe filha\n",
        "```\n",
        "\n",
        "### Características\n",
        "- A subclasse pode sobrepor os métodos da superclasse, se necessário.\n",
        "- Facilita a organização do código, evitando duplicação.\n",
        "\n",
        "A herança simples é um conceito fundamental em programação orientada a objetos, permitindo uma estrutura clara e eficiente.\n",
        "\n"
      ],
      "metadata": {
        "id": "j4nAQuJUPs4O"
      }
    },
    {
      "cell_type": "code",
      "execution_count": 1,
      "metadata": {
        "colab": {
          "base_uri": "https://localhost:8080/"
        },
        "id": "YJ4UwWcWMeRJ",
        "outputId": "933c1b94-6906-46e8-8f09-5e5a57b57cfe"
      },
      "outputs": [
        {
          "output_type": "stream",
          "name": "stdout",
          "text": [
            "Veículo ligado.\n",
            "Carro buzinando.\n"
          ]
        }
      ],
      "source": [
        "# Exemplo de Herança Simples.\n",
        "\n",
        "class Veiculo:  # Classe Pai\n",
        "    def ligar(self):\n",
        "        print(\"Veículo ligado.\")\n",
        "\n",
        "class Carro(Veiculo):  # Classe Filha\n",
        "    def buzinar(self):\n",
        "        print(\"Carro buzinando.\")\n",
        "\n",
        "# Uso das classes\n",
        "carro = Carro()\n",
        "carro.ligar()  # Acessa método da classe pai\n",
        "carro.buzinar()\n"
      ]
    },
    {
      "cell_type": "markdown",
      "source": [
        "## ***1.2 - Herança Multiplas***\n",
        "**Herança Múltipla**\n",
        "\n",
        "A herança múltipla é um recurso da programação orientada a objetos onde uma classe pode herdar atributos e métodos de mais de uma classe pai. Isso permite que a subclasse combine funcionalidades de várias superclasses.\n",
        "\n",
        "### Exemplo de Herança Múltipla\n",
        "\n",
        "```python\n",
        "class Pessoa:  # Primeira classe Pai\n",
        "    def falar(self):\n",
        "        print(\"Olá!\")\n",
        "\n",
        "class Estudante:  # Segunda classe Pai\n",
        "    def estudar(self):\n",
        "        print(\"Estudando.\")\n",
        "\n",
        "class Aluno(Pessoa, Estudante):  # Classe Filha\n",
        "    def apresentar(self):\n",
        "        print(\"Eu sou um aluno.\")\n",
        "\n",
        "# Uso das classes\n",
        "aluno = Aluno()\n",
        "aluno.falar()      # Acessa método da classe Pai Pessoa\n",
        "aluno.estudar()    # Acessa método da classe Pai Estudante\n",
        "aluno.apresentar() # Método da classe Aluno\n",
        "```\n",
        "\n",
        "### Características\n",
        "- A subclasse `Aluno` pode acessar métodos de `Pessoa` e `Estudante`.\n",
        "- Pode gerar complexidade no código, como o \"Problema do Diamante\", onde a ordem de resolução de métodos pode se tornar confusa.\n",
        "\n",
        "A herança múltipla deve ser usada com cuidado, garantindo que a hierarquia de classes permaneça clara e fácil de entender.\n"
      ],
      "metadata": {
        "id": "iQBG-KsVQF8H"
      }
    },
    {
      "cell_type": "code",
      "source": [
        "# Exemplo de Herança Multiplas.\n",
        "\n",
        "class veiculo:  # Primeira classe Pai\n",
        "    def ligar(self):\n",
        "        print(\"Veículo ligado.\")\n",
        "\n",
        "class Carro:  # Segunda classe Pai\n",
        "    def buzinar(self):\n",
        "        print(\"Carro buzinando.\")\n",
        "\n",
        "class motocicleta(veiculo, Carro):  # Classe Filha\n",
        "    def buzinar(self):\n",
        "        print(\"Moto buzinando.\")\n",
        "\n",
        "# Uso das classes\n",
        "moto = motocicleta()\n",
        "moto.ligar()      # Acessa método da classe Pai veiculo"
      ],
      "metadata": {
        "colab": {
          "base_uri": "https://localhost:8080/"
        },
        "id": "vZvcEQSKQPs4",
        "outputId": "1a7093b8-6a60-4470-d311-b712bda7d742"
      },
      "execution_count": 2,
      "outputs": [
        {
          "output_type": "stream",
          "name": "stdout",
          "text": [
            "Veículo ligado.\n"
          ]
        }
      ]
    }
  ]
}